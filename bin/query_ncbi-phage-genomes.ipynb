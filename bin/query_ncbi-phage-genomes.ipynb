{
 "cells": [
  {
   "cell_type": "code",
   "execution_count": 1,
   "id": "0e3b1d62-d7bc-47a2-b2b0-8f4aa318d1be",
   "metadata": {},
   "outputs": [
    {
     "name": "stderr",
     "output_type": "stream",
     "text": [
      "\n",
      "Attaching package: ‘dplyr’\n",
      "\n",
      "\n",
      "The following objects are masked from ‘package:stats’:\n",
      "\n",
      "    filter, lag\n",
      "\n",
      "\n",
      "The following objects are masked from ‘package:base’:\n",
      "\n",
      "    intersect, setdiff, setequal, union\n",
      "\n",
      "\n"
     ]
    }
   ],
   "source": [
    "# Load packages\n",
    "library(readxl)\n",
    "library(stringr)\n",
    "library(rentrez)\n",
    "library(dplyr)\n",
    "library(tidyr)\n",
    "library(ggplot2)"
   ]
  },
  {
   "cell_type": "code",
   "execution_count": 2,
   "id": "9e62a593-354c-4979-a9c4-5fb466642d76",
   "metadata": {},
   "outputs": [
    {
     "data": {
      "text/html": [
       "'/projects/health_sciences/bms/microbiology/fineranlab/arabinosylation-anti-CRISPR'"
      ],
      "text/latex": [
       "'/projects/health\\_sciences/bms/microbiology/fineranlab/arabinosylation-anti-CRISPR'"
      ],
      "text/markdown": [
       "'/projects/health_sciences/bms/microbiology/fineranlab/arabinosylation-anti-CRISPR'"
      ],
      "text/plain": [
       "[1] \"/projects/health_sciences/bms/microbiology/fineranlab/arabinosylation-anti-CRISPR\""
      ]
     },
     "metadata": {},
     "output_type": "display_data"
    }
   ],
   "source": [
    "# Adjust PATH\n",
    "wd <- getwd()\n",
    "subdir <- \"/bin\" # should be 'scripts' if location is ./scripts/thisfile\n",
    "if (endsWith(wd, subdir)) {\n",
    "    wd <- str_remove(wd, subdir)\n",
    "    setwd(wd)\n",
    "}\n",
    "getwd()"
   ]
  },
  {
   "cell_type": "code",
   "execution_count": 3,
   "id": "0fb15119-599a-4422-b0df-e88e82e4e3a0",
   "metadata": {},
   "outputs": [],
   "source": [
    "# Define functions\n",
    "\n",
    "#' Find Pubmed entries for a topic per year\n",
    "entrez_pubmed_search_count_by_year <- function(year, term){\n",
    "    query <- paste(term, \"AND (\", year, \"[PDAT])\")\n",
    "    entrez_search(db=\"pubmed\", term=query, retmax=0)$count\n",
    "}\n",
    "\n",
    "#' Search number of complete genomes published per year\n",
    "entrez_nucleotide_search_count_by_year <- function(year, term) {\n",
    "    query <- paste(term, \"AND (\", year, \"[PDAT])\")\n",
    "    entrez_search(db=\"nucleotide\", term=query, retmax=0)$count\n",
    "}"
   ]
  },
  {
   "cell_type": "code",
   "execution_count": 23,
   "id": "42d2583c-f55d-4dfe-9a31-0982e87ada3b",
   "metadata": {},
   "outputs": [
    {
     "name": "stderr",
     "output_type": "stream",
     "text": [
      "Warning message in dir.create(path, recursive = TRUE):\n",
      "“'data/ncbi_phage-genomes' already exists”\n"
     ]
    },
    {
     "data": {
      "text/html": [
       "<dl>\n",
       "\t<dt>$overview</dt>\n",
       "\t\t<dd>'data/ncbi_phage-genomes/overview.csv'</dd>\n",
       "\t<dt>$all</dt>\n",
       "\t\t<dd>'data/ncbi_phage-genomes/all_genomes_accession.txt'</dd>\n",
       "\t<dt>$core</dt>\n",
       "\t\t<dd>'data/ncbi_phage-genomes/core_genomes_accession.txt'</dd>\n",
       "\t<dt>$extended</dt>\n",
       "\t\t<dd>'data/ncbi_phage-genomes/ext_genomes_accession.txt'</dd>\n",
       "</dl>\n"
      ],
      "text/latex": [
       "\\begin{description}\n",
       "\\item[\\$overview] 'data/ncbi\\_phage-genomes/overview.csv'\n",
       "\\item[\\$all] 'data/ncbi\\_phage-genomes/all\\_genomes\\_accession.txt'\n",
       "\\item[\\$core] 'data/ncbi\\_phage-genomes/core\\_genomes\\_accession.txt'\n",
       "\\item[\\$extended] 'data/ncbi\\_phage-genomes/ext\\_genomes\\_accession.txt'\n",
       "\\end{description}\n"
      ],
      "text/markdown": [
       "$overview\n",
       ":   'data/ncbi_phage-genomes/overview.csv'\n",
       "$all\n",
       ":   'data/ncbi_phage-genomes/all_genomes_accession.txt'\n",
       "$core\n",
       ":   'data/ncbi_phage-genomes/core_genomes_accession.txt'\n",
       "$extended\n",
       ":   'data/ncbi_phage-genomes/ext_genomes_accession.txt'\n",
       "\n",
       "\n"
      ],
      "text/plain": [
       "$overview\n",
       "[1] \"data/ncbi_phage-genomes/overview.csv\"\n",
       "\n",
       "$all\n",
       "[1] \"data/ncbi_phage-genomes/all_genomes_accession.txt\"\n",
       "\n",
       "$core\n",
       "[1] \"data/ncbi_phage-genomes/core_genomes_accession.txt\"\n",
       "\n",
       "$extended\n",
       "[1] \"data/ncbi_phage-genomes/ext_genomes_accession.txt\"\n"
      ]
     },
     "metadata": {},
     "output_type": "display_data"
    }
   ],
   "source": [
    "## Define variables\n",
    "\n",
    "## Input files \n",
    "in_tables <- 'docs/supplementary-tables.xlsx'\n",
    "\n",
    "# Local files\n",
    "path <- 'data/ncbi_phage-genomes/'\n",
    "dir.create(path, recursive = TRUE)\n",
    "genomes <- list(\n",
    "    overview = 'overview.csv',\n",
    "    all = \"all_genomes_accession.txt\",\n",
    "    core = 'core_genomes_accession.txt',\n",
    "    extended = 'extended_genomes_accession.txt'\n",
    ")\n",
    "for (i in names(genomes)) {genomes[[i]] <- paste0(path, genomes[[i]])}\n",
    "genomes\n",
    "\n",
    "# Queries\n",
    "nucleotide_queries <- list(\n",
    "    \"Phage sequences\" = \"phage[TITL] OR bacteriophage[TITL]\",\n",
    "    \"Phage genomes\" = \"(phage[TITL] OR bacteriophage[TITL]) AND (genome[TITL] OR complete sequence[TITL]) \"\n",
    ")"
   ]
  },
  {
   "cell_type": "code",
   "execution_count": 16,
   "id": "4e945a73-e82b-4edf-8df8-55c54bf856c8",
   "metadata": {},
   "outputs": [
    {
     "name": "stdout",
     "output_type": "stream",
     "text": [
      "[1] \"Reading table phages\"\n",
      "[1] \"Reading table S7_phage-genomes\"\n",
      "[1] \"Reading table proteins\"\n",
      "[1] \"Reading table S4_phages\"\n",
      "[1] \"Reading table S1_bacteria\"\n",
      "[1] \"Reading table S6_ara-hC-transferases\"\n",
      "[1] \"Reading table S8_glucosylation-enzymes\"\n",
      "[1] \"Reading table S9_DNA-modification-enzymes\"\n"
     ]
    }
   ],
   "source": [
    "# Read data\n",
    "\n",
    "## Supplementary tables\n",
    "tables <- list()\n",
    "for (i in excel_sheets(in_tables)) {\n",
    "    print(paste('Reading table', i))\n",
    "    tables[[i]] <- read_excel(in_tables, sheet = i)\n",
    "    }"
   ]
  },
  {
   "cell_type": "code",
   "execution_count": 7,
   "id": "77e8bbcb-a79a-447d-ad94-c087600b5617",
   "metadata": {},
   "outputs": [
    {
     "data": {
      "text/plain": [
       "$`phage[TITL] OR bacteriophage[TITL]`\n",
       "Entrez search result with 102306 hits (object contains 0 IDs and no web_history object)\n",
       " Search term (as translated):  phage[TITL] OR bacteriophage[TITL] \n",
       "\n",
       "$`(phage[TITL] OR bacteriophage[TITL]) AND (genome[TITL] OR complete sequence[TITL]) `\n",
       "Entrez search result with 39602 hits (object contains 0 IDs and no web_history object)\n",
       " Search term (as translated):  (phage[TITL] OR bacteriophage[TITL]) AND (genome[T ... \n"
      ]
     },
     "metadata": {},
     "output_type": "display_data"
    }
   ],
   "source": [
    "## Search overview\n",
    "\n",
    "# Pubmed queries\n",
    "result <- list()\n",
    "for (i in nucleotide_queries) {\n",
    "    result[[i]] <- entrez_search(db=\"nucleotide\", term=i, retmax=0)\n",
    "}\n",
    "result\n",
    "\n",
    "# To add:\n",
    "# complete sequence[TITL]\n",
    "# partial genome[TITL]"
   ]
  },
  {
   "cell_type": "code",
   "execution_count": 8,
   "id": "f713f32d-552c-438c-a2e2-608636d7df56",
   "metadata": {},
   "outputs": [
    {
     "name": "stdout",
     "output_type": "stream",
     "text": [
      "[1] \"Looking for Phage sequences\"\n",
      "[1] \"Looking for Phage genomes\"\n"
     ]
    }
   ],
   "source": [
    "## Query data for each year\n",
    "\n",
    "# Timeframe\n",
    "data <- data.frame(year = 1950:2024)\n",
    "\n",
    "# Nucleotide queries\n",
    "for (i in names(nucleotide_queries)) {\n",
    "    print(paste(\"Looking for\", i))\n",
    "    data[[i]] <- sapply(data$year, entrez_nucleotide_search_count_by_year, term=nucleotide_queries[[i]], USE.NAMES=FALSE)\n",
    "}"
   ]
  },
  {
   "cell_type": "code",
   "execution_count": 9,
   "id": "cf1a53cf-cb4c-46bb-a6d7-351ab4d818e5",
   "metadata": {},
   "outputs": [
    {
     "data": {
      "image/png": "[encoded data removed]",
      "text/plain": [
       "plot without title"
      ]
     },
     "metadata": {
      "image/png": {
       "height": 300,
       "width": 600
      }
     },
     "output_type": "display_data"
    }
   ],
   "source": [
    "# Visualization\n",
    "options(repr.plot.width=10, repr.plot.height=5)\n",
    "\n",
    "## Wrangle\n",
    "df <- gather(data, \"search\", \"count\", -year)\n",
    "\n",
    "## Set factor levels\n",
    "\n",
    "\n",
    "## Plot\n",
    "ggplot(df, aes(year, count)) +\n",
    "    geom_line() +\n",
    "    geom_point(shape = 21, size = 3, fill = \"white\") +\n",
    "    facet_wrap(~search, scales = \"free_y\") +\n",
    "    theme_classic(20) +\n",
    "    theme(\n",
    "        axis.text.x = element_text(angle=45, hjust=1, vjust=1)\n",
    "    ) +\n",
    "    labs(title = \"Phage genomes & nucleotide sequences\")"
   ]
  },
  {
   "cell_type": "code",
   "execution_count": 10,
   "id": "61c99fa7-b4e6-42be-9b00-839fb45893ed",
   "metadata": {},
   "outputs": [],
   "source": [
    "# Mutate\n",
    "df <- group_by(df, search) %>% mutate(sum=cumsum(count))"
   ]
  },
  {
   "cell_type": "code",
   "execution_count": 11,
   "id": "3d0f694d-d3b7-473e-8a19-948dae5ef6fb",
   "metadata": {},
   "outputs": [
    {
     "data": {
      "image/png": "[encoded data removed]",
      "text/plain": [
       "plot without title"
      ]
     },
     "metadata": {
      "image/png": {
       "height": 300,
       "width": 600
      }
     },
     "output_type": "display_data"
    }
   ],
   "source": [
    "# Cumulative sum over years\n",
    "options(repr.plot.width=10, repr.plot.height=5)\n",
    "\n",
    "# Plot\n",
    "ggplot(df, aes(year, sum)) +\n",
    "    geom_line() +\n",
    "    geom_point(shape = 21, size = 4, fill = \"white\") +\n",
    "    facet_wrap(~search, scales = \"free_y\") +\n",
    "    theme_light(20) +\n",
    "    theme(\n",
    "        axis.text.x = element_text(angle=45, hjust=1, vjust=1)\n",
    "    ) +\n",
    "    labs(title = \"Phage genomes & nucleotide sequences\")"
   ]
  },
  {
   "cell_type": "code",
   "execution_count": 12,
   "id": "33a5875d-7aca-4307-aff5-9d9b71e2f4ff",
   "metadata": {},
   "outputs": [
    {
     "name": "stderr",
     "output_type": "stream",
     "text": [
      "Warning message:\n",
      "“\u001b[1m\u001b[22mRemoved 50 rows containing missing values or values outside the scale range\n",
      "(`geom_line()`).”\n",
      "Warning message:\n",
      "“\u001b[1m\u001b[22mRemoved 100 rows containing missing values or values outside the scale range\n",
      "(`geom_point()`).”\n"
     ]
    },
    {
     "data": {
      "image/png": "[encoded data removed]",
      "text/plain": [
       "plot without title"
      ]
     },
     "metadata": {
      "image/png": {
       "height": 300,
       "width": 600
      }
     },
     "output_type": "display_data"
    }
   ],
   "source": [
    "# Cumulative sum over years\n",
    "options(repr.plot.width=10, repr.plot.height=5)\n",
    "\n",
    "# Plot\n",
    "ggplot(df, aes(year, sum)) +\n",
    "    geom_line() +\n",
    "    geom_point(shape = 21, size = 4, fill = \"white\") +\n",
    "    facet_wrap(~search, scales = \"free_y\") +\n",
    "    theme_bw(20) +\n",
    "    theme(\n",
    "        axis.text.x = element_text(angle=45, hjust=1, vjust=1)\n",
    "    ) +\n",
    "        labs(title = \"Phage genomes & nucleotide sequences\") +\n",
    "    scale_x_continuous(limits = c(2000, NA)) # Zoom"
   ]
  },
  {
   "cell_type": "code",
   "execution_count": 13,
   "id": "f62890e4-8c71-4cfe-80b6-663c5dc08768",
   "metadata": {},
   "outputs": [
    {
     "data": {
      "text/plain": [
       "Entrez search result with 39602 hits (object contains 39602 IDs and no web_history object)\n",
       " Search term (as translated):  (phage[TITL] OR bacteriophage[TITL]) AND (genome[T ... "
      ]
     },
     "metadata": {},
     "output_type": "display_data"
    }
   ],
   "source": [
    "result <- entrez_search(db='nuccore', term=nucleotide_queries$`Phage genomes`, retmax=50000)\n",
    "result"
   ]
  },
  {
   "cell_type": "code",
   "execution_count": 14,
   "id": "39d620a4-6829-4bce-8649-dd3abbb9c35a",
   "metadata": {},
   "outputs": [
    {
     "data": {
      "text/html": [
       "<table class=\"dataframe\">\n",
       "<caption>A data.frame: 6 × 3</caption>\n",
       "<thead>\n",
       "\t<tr><th></th><th scope=col>entrez</th><th scope=col>group</th><th scope=col>accession</th></tr>\n",
       "\t<tr><th></th><th scope=col>&lt;chr&gt;</th><th scope=col>&lt;fct&gt;</th><th scope=col>&lt;chr&gt;</th></tr>\n",
       "</thead>\n",
       "<tbody>\n",
       "\t<tr><th scope=row>1</th><td>2868135305</td><td>319</td><td>PQ691273.1</td></tr>\n",
       "\t<tr><th scope=row>2</th><td>2868134884</td><td>318</td><td>PQ678658.1</td></tr>\n",
       "\t<tr><th scope=row>3</th><td>2868134552</td><td>105</td><td>PQ676539.1</td></tr>\n",
       "\t<tr><th scope=row>39600</th><td>18496804  </td><td>336</td><td>AF466696.1</td></tr>\n",
       "\t<tr><th scope=row>39601</th><td>215623    </td><td>13 </td><td>M10145.1  </td></tr>\n",
       "\t<tr><th scope=row>39602</th><td>4096804   </td><td>379</td><td>U40393.1  </td></tr>\n",
       "</tbody>\n",
       "</table>\n"
      ],
      "text/latex": [
       "A data.frame: 6 × 3\n",
       "\\begin{tabular}{r|lll}\n",
       "  & entrez & group & accession\\\\\n",
       "  & <chr> & <fct> & <chr>\\\\\n",
       "\\hline\n",
       "\t1 & 2868135305 & 319 & PQ691273.1\\\\\n",
       "\t2 & 2868134884 & 318 & PQ678658.1\\\\\n",
       "\t3 & 2868134552 & 105 & PQ676539.1\\\\\n",
       "\t39600 & 18496804   & 336 & AF466696.1\\\\\n",
       "\t39601 & 215623     & 13  & M10145.1  \\\\\n",
       "\t39602 & 4096804    & 379 & U40393.1  \\\\\n",
       "\\end{tabular}\n"
      ],
      "text/markdown": [
       "\n",
       "A data.frame: 6 × 3\n",
       "\n",
       "| <!--/--> | entrez &lt;chr&gt; | group &lt;fct&gt; | accession &lt;chr&gt; |\n",
       "|---|---|---|---|\n",
       "| 1 | 2868135305 | 319 | PQ691273.1 |\n",
       "| 2 | 2868134884 | 318 | PQ678658.1 |\n",
       "| 3 | 2868134552 | 105 | PQ676539.1 |\n",
       "| 39600 | 18496804   | 336 | AF466696.1 |\n",
       "| 39601 | 215623     | 13  | M10145.1   |\n",
       "| 39602 | 4096804    | 379 | U40393.1   |\n",
       "\n"
      ],
      "text/plain": [
       "      entrez     group accession \n",
       "1     2868135305 319   PQ691273.1\n",
       "2     2868134884 318   PQ678658.1\n",
       "3     2868134552 105   PQ676539.1\n",
       "39600 18496804   336   AF466696.1\n",
       "39601 215623     13    M10145.1  \n",
       "39602 4096804    379   U40393.1  "
      ]
     },
     "metadata": {},
     "output_type": "display_data"
    }
   ],
   "source": [
    "## Convert entrez ID to nucleotide accession\n",
    "\n",
    "query <- data.frame(\n",
    "    entrez = result$ids\n",
    ")\n",
    "\n",
    "# Create groups of IDs\n",
    "n_groups <- ceiling(result$count / 100)\n",
    "query$group <- factor(sample(1:n_groups, nrow(query), replace=TRUE))\n",
    "\n",
    "# Convert entrez to accession\n",
    "query$accession <- NA\n",
    "for (i in levels(query$group)) {\n",
    "    ind <- which(query$group==i)\n",
    "    # Accession\n",
    "    x <- entrez_fetch(db='nuccore', id=query$entrez[ind], rettype='acc')\n",
    "    query$accession[ind] <- head(str_split(x, \"\\\\n\")[[1]], -1)\n",
    "}\n",
    "\n",
    "## View\n",
    "rbind(head(query,3), tail(query,3))"
   ]
  },
  {
   "cell_type": "code",
   "execution_count": 17,
   "id": "6dd11214-8234-4cf0-8a0b-9f22fff9ebb2",
   "metadata": {},
   "outputs": [
    {
     "data": {
      "text/html": [
       "39602"
      ],
      "text/latex": [
       "39602"
      ],
      "text/markdown": [
       "39602"
      ],
      "text/plain": [
       "[1] 39602"
      ]
     },
     "metadata": {},
     "output_type": "display_data"
    },
    {
     "data": {
      "text/html": [
       "39602"
      ],
      "text/latex": [
       "39602"
      ],
      "text/markdown": [
       "39602"
      ],
      "text/plain": [
       "[1] 39602"
      ]
     },
     "metadata": {},
     "output_type": "display_data"
    },
    {
     "data": {
      "text/plain": [
       "\n",
       "TRUE \n",
       "  35 "
      ]
     },
     "metadata": {},
     "output_type": "display_data"
    }
   ],
   "source": [
    "# Check IDs\n",
    "\n",
    "## Unique\n",
    "length(unique(query$entrez))\n",
    "length(unique(query$accession))\n",
    "\n",
    "## Overlap of query and selection\n",
    "table(tables$phages$accession %in% query$accession)"
   ]
  },
  {
   "cell_type": "code",
   "execution_count": 18,
   "id": "e6849b52-e94b-4023-8405-ef4d4b8ded4f",
   "metadata": {},
   "outputs": [
    {
     "name": "stdout",
     "output_type": "stream",
     "text": [
      "Error : HTTP failure: 400\n",
      "<?xml version=\"1.0\" encoding=\"UTF-8\" ?>\n",
      "<!DOCTYPE eEfetchResult PUBLIC \"-//NLM//DTD efetch 20131226//EN\" \"https://eutils.ncbi.nlm.nih.gov/eutils/dtd/20131226/efetch.dtd\">\n",
      "<eFetchResult>\n",
      "\t<ERROR> Error: CEFetchPApplication::proxy_stream(): Error: F a i l e d  t o  u n d e r s t a n d  i d :  C W C 4 6 _ 0 9 1 0 5 &#xa;&#xa;</ERROR>\n",
      "</eFetchResult>\n",
      "\n",
      "Error : HTTP failure: 400\n",
      "<?xml version=\"1.0\" encoding=\"UTF-8\" ?>\n",
      "<!DOCTYPE eEfetchResult PUBLIC \"-//NLM//DTD efetch 20131226//EN\" \"https://eutils.ncbi.nlm.nih.gov/eutils/dtd/20131226/efetch.dtd\">\n",
      "<eFetchResult>\n",
      "\t<ERROR> Error: CEFetchPApplication::proxy_stream(): Error: F a i l e d  t o  u n d e r s t a n d  i d :  C W C 4 6 _ 0 9 1 0 5 &#xa;&#xa;</ERROR>\n",
      "</eFetchResult>\n",
      "\n"
     ]
    }
   ],
   "source": [
    "# Check phages with annotated proteins\n",
    "sel <- tables$proteins\n",
    "sel$genome_accession <- NA\n",
    "for (n in 1:nrow(sel)) {\n",
    "    # Select ID\n",
    "    i <- sel$protein_accession[[n]]\n",
    "\n",
    "    # Error handling\n",
    "    if (is.na(i)) {next}\n",
    "\n",
    "    # Run ENTREZ query\n",
    "    report <- try(entrez_fetch(db=\"protein\", id=i, rettype = 'jsonl'))\n",
    "\n",
    "    # Skip unknown sequences\n",
    "    if (class(report) == 'try-error') {next}\n",
    "    \n",
    "    # Get NCBI protein report\n",
    "    report <- str_split(report, '\\n')[[1]] # Split into lines\n",
    "    index <- which(str_detect(report, 'DBSOURCE')) # Detect which line (usually 5)\n",
    "    db_source <- report[[index]]\n",
    "    db_source <- str_split(db_source, '\\\\ ')[[1]]\n",
    "    db_source <- db_source[[length(db_source)]] # Select last element\n",
    "    sel$genome_accession[[n]] <- db_source\n",
    "}"
   ]
  },
  {
   "cell_type": "code",
   "execution_count": 57,
   "id": "b0c58bee-fd0a-4a2a-bbd9-41facf5ac1ff",
   "metadata": {},
   "outputs": [
    {
     "data": {
      "text/plain": [
       "index\n",
       "FALSE  TRUE \n",
       "   16   207 "
      ]
     },
     "metadata": {},
     "output_type": "display_data"
    },
    {
     "data": {
      "text/html": [
       "<style>\n",
       ".list-inline {list-style: none; margin:0; padding: 0}\n",
       ".list-inline>li {display: inline-block}\n",
       ".list-inline>li:not(:last-child)::after {content: \"\\00b7\"; padding: 0 .5ex}\n",
       "</style>\n",
       "<ol class=list-inline><li>NA</li><li>'CP056784.2'</li><li>'OZ038340.1'</li><li>'J01710.1'</li><li>'CP053607.1'</li><li>'MW512264.1'</li><li>'Y00148.1'</li><li>'M12742.1'</li></ol>\n"
      ],
      "text/latex": [
       "\\begin{enumerate*}\n",
       "\\item NA\n",
       "\\item 'CP056784.2'\n",
       "\\item 'OZ038340.1'\n",
       "\\item 'J01710.1'\n",
       "\\item 'CP053607.1'\n",
       "\\item 'MW512264.1'\n",
       "\\item 'Y00148.1'\n",
       "\\item 'M12742.1'\n",
       "\\end{enumerate*}\n"
      ],
      "text/markdown": [
       "1. NA\n",
       "2. 'CP056784.2'\n",
       "3. 'OZ038340.1'\n",
       "4. 'J01710.1'\n",
       "5. 'CP053607.1'\n",
       "6. 'MW512264.1'\n",
       "7. 'Y00148.1'\n",
       "8. 'M12742.1'\n",
       "\n",
       "\n"
      ],
      "text/plain": [
       "[1] NA           \"CP056784.2\" \"OZ038340.1\" \"J01710.1\"   \"CP053607.1\"\n",
       "[6] \"MW512264.1\" \"Y00148.1\"   \"M12742.1\"  "
      ]
     },
     "metadata": {},
     "output_type": "display_data"
    },
    {
     "data": {
      "text/html": [
       "<table class=\"dataframe\">\n",
       "<caption>A data.frame: 7 × 3</caption>\n",
       "<thead>\n",
       "\t<tr><th></th><th scope=col>entrez</th><th scope=col>group</th><th scope=col>accession</th></tr>\n",
       "\t<tr><th></th><th scope=col>&lt;chr&gt;</th><th scope=col>&lt;fct&gt;</th><th scope=col>&lt;chr&gt;</th></tr>\n",
       "</thead>\n",
       "<tbody>\n",
       "\t<tr><th scope=row>1</th><td>2868135305</td><td>319   </td><td>PQ691273.1</td></tr>\n",
       "\t<tr><th scope=row>2</th><td>2868134884</td><td>318   </td><td>PQ678658.1</td></tr>\n",
       "\t<tr><th scope=row>3</th><td>2868134552</td><td>105   </td><td>PQ676539.1</td></tr>\n",
       "\t<tr><th scope=row>39602</th><td>4096804   </td><td>379   </td><td>U40393.1  </td></tr>\n",
       "\t<tr><th scope=row>39603</th><td>          </td><td>manual</td><td>OP946501.1</td></tr>\n",
       "\t<tr><th scope=row>39604</th><td>          </td><td>manual</td><td>OP946502.1</td></tr>\n",
       "\t<tr><th scope=row>39607</th><td>          </td><td>manual</td><td>OZ038340.1</td></tr>\n",
       "</tbody>\n",
       "</table>\n"
      ],
      "text/latex": [
       "A data.frame: 7 × 3\n",
       "\\begin{tabular}{r|lll}\n",
       "  & entrez & group & accession\\\\\n",
       "  & <chr> & <fct> & <chr>\\\\\n",
       "\\hline\n",
       "\t1 & 2868135305 & 319    & PQ691273.1\\\\\n",
       "\t2 & 2868134884 & 318    & PQ678658.1\\\\\n",
       "\t3 & 2868134552 & 105    & PQ676539.1\\\\\n",
       "\t39602 & 4096804    & 379    & U40393.1  \\\\\n",
       "\t39603 &            & manual & OP946501.1\\\\\n",
       "\t39604 &            & manual & OP946502.1\\\\\n",
       "\t39607 &            & manual & OZ038340.1\\\\\n",
       "\\end{tabular}\n"
      ],
      "text/markdown": [
       "\n",
       "A data.frame: 7 × 3\n",
       "\n",
       "| <!--/--> | entrez &lt;chr&gt; | group &lt;fct&gt; | accession &lt;chr&gt; |\n",
       "|---|---|---|---|\n",
       "| 1 | 2868135305 | 319    | PQ691273.1 |\n",
       "| 2 | 2868134884 | 318    | PQ678658.1 |\n",
       "| 3 | 2868134552 | 105    | PQ676539.1 |\n",
       "| 39602 | 4096804    | 379    | U40393.1   |\n",
       "| 39603 | <!----> | manual | OP946501.1 |\n",
       "| 39604 | <!----> | manual | OP946502.1 |\n",
       "| 39607 | <!----> | manual | OZ038340.1 |\n",
       "\n"
      ],
      "text/plain": [
       "      entrez     group  accession \n",
       "1     2868135305 319    PQ691273.1\n",
       "2     2868134884 318    PQ678658.1\n",
       "3     2868134552 105    PQ676539.1\n",
       "39602 4096804    379    U40393.1  \n",
       "39603            manual OP946501.1\n",
       "39604            manual OP946502.1\n",
       "39607            manual OZ038340.1"
      ]
     },
     "metadata": {},
     "output_type": "display_data"
    }
   ],
   "source": [
    "# Comparing accession numbers\n",
    "\n",
    "## Check overlap\n",
    "index <- sel$genome_accession %in% query$accession\n",
    "table(index)\n",
    "\n",
    "## Detect missing genomes\n",
    "unique(sel$genome_accession[which(!index)])\n",
    "\n",
    "## Manually add entries to query\n",
    "entries <- list(\n",
    "    data.frame(entrez='',group='manual',accession='OP946501.1'),\n",
    "    data.frame(entrez='',group='manual',accession='OP946502.1'),\n",
    "    data.frame(entrez='',group='manual',accession='OZ038340.1')    \n",
    ")\n",
    "entries <- bind_rows(entries)\n",
    "query <- rbind(query, entries)\n",
    "\n",
    "## Select unique accession numbers\n",
    "query <- query[!duplicated(query$accession), ]\n",
    "\n",
    "## View\n",
    "rbind(head(query,3), tail(query,4))"
   ]
  },
  {
   "cell_type": "code",
   "execution_count": 58,
   "id": "979a8178-64ab-43cd-94a0-aa7e6a05635f",
   "metadata": {},
   "outputs": [
    {
     "data": {
      "text/html": [
       "<table class=\"dataframe\">\n",
       "<caption>A data.frame: 6 × 5</caption>\n",
       "<thead>\n",
       "\t<tr><th></th><th scope=col>entrez</th><th scope=col>group</th><th scope=col>accession</th><th scope=col>core</th><th scope=col>extended</th></tr>\n",
       "\t<tr><th></th><th scope=col>&lt;chr&gt;</th><th scope=col>&lt;fct&gt;</th><th scope=col>&lt;chr&gt;</th><th scope=col>&lt;lgl&gt;</th><th scope=col>&lt;lgl&gt;</th></tr>\n",
       "</thead>\n",
       "<tbody>\n",
       "\t<tr><th scope=row>1</th><td>2868135305</td><td>319   </td><td>PQ691273.1</td><td>FALSE</td><td>FALSE</td></tr>\n",
       "\t<tr><th scope=row>2</th><td>2868134884</td><td>318   </td><td>PQ678658.1</td><td>FALSE</td><td>FALSE</td></tr>\n",
       "\t<tr><th scope=row>3</th><td>2868134552</td><td>105   </td><td>PQ676539.1</td><td>FALSE</td><td>FALSE</td></tr>\n",
       "\t<tr><th scope=row>39603</th><td>          </td><td>manual</td><td>OP946501.1</td><td>FALSE</td><td> TRUE</td></tr>\n",
       "\t<tr><th scope=row>39604</th><td>          </td><td>manual</td><td>OP946502.1</td><td>FALSE</td><td> TRUE</td></tr>\n",
       "\t<tr><th scope=row>39607</th><td>          </td><td>manual</td><td>OZ038340.1</td><td>FALSE</td><td> TRUE</td></tr>\n",
       "</tbody>\n",
       "</table>\n"
      ],
      "text/latex": [
       "A data.frame: 6 × 5\n",
       "\\begin{tabular}{r|lllll}\n",
       "  & entrez & group & accession & core & extended\\\\\n",
       "  & <chr> & <fct> & <chr> & <lgl> & <lgl>\\\\\n",
       "\\hline\n",
       "\t1 & 2868135305 & 319    & PQ691273.1 & FALSE & FALSE\\\\\n",
       "\t2 & 2868134884 & 318    & PQ678658.1 & FALSE & FALSE\\\\\n",
       "\t3 & 2868134552 & 105    & PQ676539.1 & FALSE & FALSE\\\\\n",
       "\t39603 &            & manual & OP946501.1 & FALSE &  TRUE\\\\\n",
       "\t39604 &            & manual & OP946502.1 & FALSE &  TRUE\\\\\n",
       "\t39607 &            & manual & OZ038340.1 & FALSE &  TRUE\\\\\n",
       "\\end{tabular}\n"
      ],
      "text/markdown": [
       "\n",
       "A data.frame: 6 × 5\n",
       "\n",
       "| <!--/--> | entrez &lt;chr&gt; | group &lt;fct&gt; | accession &lt;chr&gt; | core &lt;lgl&gt; | extended &lt;lgl&gt; |\n",
       "|---|---|---|---|---|---|\n",
       "| 1 | 2868135305 | 319    | PQ691273.1 | FALSE | FALSE |\n",
       "| 2 | 2868134884 | 318    | PQ678658.1 | FALSE | FALSE |\n",
       "| 3 | 2868134552 | 105    | PQ676539.1 | FALSE | FALSE |\n",
       "| 39603 | <!----> | manual | OP946501.1 | FALSE |  TRUE |\n",
       "| 39604 | <!----> | manual | OP946502.1 | FALSE |  TRUE |\n",
       "| 39607 | <!----> | manual | OZ038340.1 | FALSE |  TRUE |\n",
       "\n"
      ],
      "text/plain": [
       "      entrez     group  accession  core  extended\n",
       "1     2868135305 319    PQ691273.1 FALSE FALSE   \n",
       "2     2868134884 318    PQ678658.1 FALSE FALSE   \n",
       "3     2868134552 105    PQ676539.1 FALSE FALSE   \n",
       "39603            manual OP946501.1 FALSE  TRUE   \n",
       "39604            manual OP946502.1 FALSE  TRUE   \n",
       "39607            manual OZ038340.1 FALSE  TRUE   "
      ]
     },
     "metadata": {},
     "output_type": "display_data"
    }
   ],
   "source": [
    "# Add selection to query\n",
    "query$core <- query$accession %in% tables$phages$accession\n",
    "query$extended <- query$accession %in% sel$genome_accession\n",
    "\n",
    "## View\n",
    "rbind(head(query,3), tail(query,3))"
   ]
  },
  {
   "cell_type": "code",
   "execution_count": 27,
   "id": "50bd2036-0737-47ac-b663-2e7f8c72848e",
   "metadata": {},
   "outputs": [],
   "source": [
    "# Export accession numbers\n",
    "\n",
    "## All phages\n",
    "write.table(query, genomes$overview, sep = ',', quote = FALSE, row.names = FALSE)\n",
    "writeLines(query$accession, genomes$all)\n",
    "\n",
    "## Selection - core\n",
    "writeLines(tables$phages$accession, genomes$core)\n",
    "\n",
    "## Selection - extended\n",
    "writeLines(sel$genome_accession, genomes$extended)"
   ]
  },
  {
   "cell_type": "code",
   "execution_count": 28,
   "id": "85f23d1a-c810-40a0-a69a-20d8b1d4f234",
   "metadata": {},
   "outputs": [
    {
     "data": {
      "text/html": [
       "'./bin/fetch_ncbi-genomes-by-accession.sh -i data/ncbi_phage-genomes/core_genomes_accession.txt -o data/ncbi_phage-genomes/core_genomes -e arabinosylation-anti-crispr -t \"virus genome\"'"
      ],
      "text/latex": [
       "'./bin/fetch\\_ncbi-genomes-by-accession.sh -i data/ncbi\\_phage-genomes/core\\_genomes\\_accession.txt -o data/ncbi\\_phage-genomes/core\\_genomes -e arabinosylation-anti-crispr -t \"virus genome\"'"
      ],
      "text/markdown": [
       "'./bin/fetch_ncbi-genomes-by-accession.sh -i data/ncbi_phage-genomes/core_genomes_accession.txt -o data/ncbi_phage-genomes/core_genomes -e arabinosylation-anti-crispr -t \"virus genome\"'"
      ],
      "text/plain": [
       "[1] \"./bin/fetch_ncbi-genomes-by-accession.sh -i data/ncbi_phage-genomes/core_genomes_accession.txt -o data/ncbi_phage-genomes/core_genomes -e arabinosylation-anti-crispr -t \\\"virus genome\\\"\""
      ]
     },
     "metadata": {},
     "output_type": "display_data"
    },
    {
     "data": {
      "text/html": [
       "<style>\n",
       ".list-inline {list-style: none; margin:0; padding: 0}\n",
       ".list-inline>li {display: inline-block}\n",
       ".list-inline>li:not(:last-child)::after {content: \"\\00b7\"; padding: 0 .5ex}\n",
       "</style>\n",
       "<ol class=list-inline><li>'-- Checking input arguments --'</li><li>'Getting accession numbers from data/ncbi_phage-genomes/core_genomes_accession.txt'</li><li>'Output directory: data/ncbi_phage-genomes/core_genomes'</li><li>'Query type: virus genome'</li><li>'Activating arabinosylation-anti-crispr'</li><li>''</li><li>'-- Checking for installed programs --'</li><li>'datasets: /home/dieol22p/miniconda3/envs/arabinosylation-anti-crispr/bin/datasets'</li><li>'unzip: /usr/bin/unzip'</li><li>'dataformat: /home/dieol22p/miniconda3/envs/arabinosylation-anti-crispr/bin/dataformat'</li><li>''</li><li>'rtis-hpc-r04.uod.otago.ac.nz'</li><li>'Fri Dec 20 13:03:31 NZDT 2024'</li><li><span style=white-space:pre-wrap>'Archive:  data/ncbi_phage-genomes/core_genomes.zip'</span></li><li><span style=white-space:pre-wrap>'  inflating: data/ncbi_phage-genomes/core_genomes/README.md  '</span></li><li><span style=white-space:pre-wrap>'  inflating: data/ncbi_phage-genomes/core_genomes/ncbi_dataset/data/data_report.jsonl  '</span></li><li><span style=white-space:pre-wrap>'  inflating: data/ncbi_phage-genomes/core_genomes/ncbi_dataset/data/annotation_report.jsonl  '</span></li><li><span style=white-space:pre-wrap>'  inflating: data/ncbi_phage-genomes/core_genomes/ncbi_dataset/data/biosample_report.jsonl  '</span></li><li><span style=white-space:pre-wrap>'  inflating: data/ncbi_phage-genomes/core_genomes/ncbi_dataset/data/cds.fna  '</span></li><li><span style=white-space:pre-wrap>'  inflating: data/ncbi_phage-genomes/core_genomes/ncbi_dataset/data/genomic.fna  '</span></li><li><span style=white-space:pre-wrap>'  inflating: data/ncbi_phage-genomes/core_genomes/ncbi_dataset/data/protein.faa  '</span></li><li><span style=white-space:pre-wrap>'  inflating: data/ncbi_phage-genomes/core_genomes/ncbi_dataset/data/virus_dataset.md  '</span></li><li><span style=white-space:pre-wrap>'  inflating: data/ncbi_phage-genomes/core_genomes/ncbi_dataset/data/dataset_catalog.json  '</span></li><li><span style=white-space:pre-wrap>'  inflating: data/ncbi_phage-genomes/core_genomes/md5sum.txt  '</span></li></ol>\n"
      ],
      "text/latex": [
       "\\begin{enumerate*}\n",
       "\\item '-- Checking input arguments --'\n",
       "\\item 'Getting accession numbers from data/ncbi\\_phage-genomes/core\\_genomes\\_accession.txt'\n",
       "\\item 'Output directory: data/ncbi\\_phage-genomes/core\\_genomes'\n",
       "\\item 'Query type: virus genome'\n",
       "\\item 'Activating arabinosylation-anti-crispr'\n",
       "\\item ''\n",
       "\\item '-- Checking for installed programs --'\n",
       "\\item 'datasets: /home/dieol22p/miniconda3/envs/arabinosylation-anti-crispr/bin/datasets'\n",
       "\\item 'unzip: /usr/bin/unzip'\n",
       "\\item 'dataformat: /home/dieol22p/miniconda3/envs/arabinosylation-anti-crispr/bin/dataformat'\n",
       "\\item ''\n",
       "\\item 'rtis-hpc-r04.uod.otago.ac.nz'\n",
       "\\item 'Fri Dec 20 13:03:31 NZDT 2024'\n",
       "\\item 'Archive:  data/ncbi\\_phage-genomes/core\\_genomes.zip'\n",
       "\\item '  inflating: data/ncbi\\_phage-genomes/core\\_genomes/README.md  '\n",
       "\\item '  inflating: data/ncbi\\_phage-genomes/core\\_genomes/ncbi\\_dataset/data/data\\_report.jsonl  '\n",
       "\\item '  inflating: data/ncbi\\_phage-genomes/core\\_genomes/ncbi\\_dataset/data/annotation\\_report.jsonl  '\n",
       "\\item '  inflating: data/ncbi\\_phage-genomes/core\\_genomes/ncbi\\_dataset/data/biosample\\_report.jsonl  '\n",
       "\\item '  inflating: data/ncbi\\_phage-genomes/core\\_genomes/ncbi\\_dataset/data/cds.fna  '\n",
       "\\item '  inflating: data/ncbi\\_phage-genomes/core\\_genomes/ncbi\\_dataset/data/genomic.fna  '\n",
       "\\item '  inflating: data/ncbi\\_phage-genomes/core\\_genomes/ncbi\\_dataset/data/protein.faa  '\n",
       "\\item '  inflating: data/ncbi\\_phage-genomes/core\\_genomes/ncbi\\_dataset/data/virus\\_dataset.md  '\n",
       "\\item '  inflating: data/ncbi\\_phage-genomes/core\\_genomes/ncbi\\_dataset/data/dataset\\_catalog.json  '\n",
       "\\item '  inflating: data/ncbi\\_phage-genomes/core\\_genomes/md5sum.txt  '\n",
       "\\end{enumerate*}\n"
      ],
      "text/markdown": [
       "1. '-- Checking input arguments --'\n",
       "2. 'Getting accession numbers from data/ncbi_phage-genomes/core_genomes_accession.txt'\n",
       "3. 'Output directory: data/ncbi_phage-genomes/core_genomes'\n",
       "4. 'Query type: virus genome'\n",
       "5. 'Activating arabinosylation-anti-crispr'\n",
       "6. ''\n",
       "7. '-- Checking for installed programs --'\n",
       "8. 'datasets: /home/dieol22p/miniconda3/envs/arabinosylation-anti-crispr/bin/datasets'\n",
       "9. 'unzip: /usr/bin/unzip'\n",
       "10. 'dataformat: /home/dieol22p/miniconda3/envs/arabinosylation-anti-crispr/bin/dataformat'\n",
       "11. ''\n",
       "12. 'rtis-hpc-r04.uod.otago.ac.nz'\n",
       "13. 'Fri Dec 20 13:03:31 NZDT 2024'\n",
       "14. <span style=white-space:pre-wrap>'Archive:  data/ncbi_phage-genomes/core_genomes.zip'</span>\n",
       "15. <span style=white-space:pre-wrap>'  inflating: data/ncbi_phage-genomes/core_genomes/README.md  '</span>\n",
       "16. <span style=white-space:pre-wrap>'  inflating: data/ncbi_phage-genomes/core_genomes/ncbi_dataset/data/data_report.jsonl  '</span>\n",
       "17. <span style=white-space:pre-wrap>'  inflating: data/ncbi_phage-genomes/core_genomes/ncbi_dataset/data/annotation_report.jsonl  '</span>\n",
       "18. <span style=white-space:pre-wrap>'  inflating: data/ncbi_phage-genomes/core_genomes/ncbi_dataset/data/biosample_report.jsonl  '</span>\n",
       "19. <span style=white-space:pre-wrap>'  inflating: data/ncbi_phage-genomes/core_genomes/ncbi_dataset/data/cds.fna  '</span>\n",
       "20. <span style=white-space:pre-wrap>'  inflating: data/ncbi_phage-genomes/core_genomes/ncbi_dataset/data/genomic.fna  '</span>\n",
       "21. <span style=white-space:pre-wrap>'  inflating: data/ncbi_phage-genomes/core_genomes/ncbi_dataset/data/protein.faa  '</span>\n",
       "22. <span style=white-space:pre-wrap>'  inflating: data/ncbi_phage-genomes/core_genomes/ncbi_dataset/data/virus_dataset.md  '</span>\n",
       "23. <span style=white-space:pre-wrap>'  inflating: data/ncbi_phage-genomes/core_genomes/ncbi_dataset/data/dataset_catalog.json  '</span>\n",
       "24. <span style=white-space:pre-wrap>'  inflating: data/ncbi_phage-genomes/core_genomes/md5sum.txt  '</span>\n",
       "\n",
       "\n"
      ],
      "text/plain": [
       " [1] \"-- Checking input arguments --\"                                                               \n",
       " [2] \"Getting accession numbers from data/ncbi_phage-genomes/core_genomes_accession.txt\"            \n",
       " [3] \"Output directory: data/ncbi_phage-genomes/core_genomes\"                                       \n",
       " [4] \"Query type: virus genome\"                                                                     \n",
       " [5] \"Activating arabinosylation-anti-crispr\"                                                       \n",
       " [6] \"\"                                                                                             \n",
       " [7] \"-- Checking for installed programs --\"                                                        \n",
       " [8] \"datasets: /home/dieol22p/miniconda3/envs/arabinosylation-anti-crispr/bin/datasets\"            \n",
       " [9] \"unzip: /usr/bin/unzip\"                                                                        \n",
       "[10] \"dataformat: /home/dieol22p/miniconda3/envs/arabinosylation-anti-crispr/bin/dataformat\"        \n",
       "[11] \"\"                                                                                             \n",
       "[12] \"rtis-hpc-r04.uod.otago.ac.nz\"                                                                 \n",
       "[13] \"Fri Dec 20 13:03:31 NZDT 2024\"                                                                \n",
       "[14] \"Archive:  data/ncbi_phage-genomes/core_genomes.zip\"                                           \n",
       "[15] \"  inflating: data/ncbi_phage-genomes/core_genomes/README.md  \"                                \n",
       "[16] \"  inflating: data/ncbi_phage-genomes/core_genomes/ncbi_dataset/data/data_report.jsonl  \"      \n",
       "[17] \"  inflating: data/ncbi_phage-genomes/core_genomes/ncbi_dataset/data/annotation_report.jsonl  \"\n",
       "[18] \"  inflating: data/ncbi_phage-genomes/core_genomes/ncbi_dataset/data/biosample_report.jsonl  \" \n",
       "[19] \"  inflating: data/ncbi_phage-genomes/core_genomes/ncbi_dataset/data/cds.fna  \"                \n",
       "[20] \"  inflating: data/ncbi_phage-genomes/core_genomes/ncbi_dataset/data/genomic.fna  \"            \n",
       "[21] \"  inflating: data/ncbi_phage-genomes/core_genomes/ncbi_dataset/data/protein.faa  \"            \n",
       "[22] \"  inflating: data/ncbi_phage-genomes/core_genomes/ncbi_dataset/data/virus_dataset.md  \"       \n",
       "[23] \"  inflating: data/ncbi_phage-genomes/core_genomes/ncbi_dataset/data/dataset_catalog.json  \"   \n",
       "[24] \"  inflating: data/ncbi_phage-genomes/core_genomes/md5sum.txt  \"                               "
      ]
     },
     "metadata": {},
     "output_type": "display_data"
    },
    {
     "data": {
      "text/html": [
       "TRUE"
      ],
      "text/latex": [
       "TRUE"
      ],
      "text/markdown": [
       "TRUE"
      ],
      "text/plain": [
       "[1] TRUE"
      ]
     },
     "metadata": {},
     "output_type": "display_data"
    }
   ],
   "source": [
    "# Download selection\n",
    "\n",
    "## Create call\n",
    "call <- './bin/fetch_ncbi-genomes-by-accession.sh'\n",
    "call <- paste(call, '-i', genomes$core)\n",
    "call <- paste0(call, ' -o ', path, 'core_genomes')\n",
    "call <- paste(call, '-e arabinosylation-anti-crispr')\n",
    "call <- paste(call, '-t \"virus genome\"')\n",
    "call\n",
    "\n",
    "writeLines(call, 'tmp.sh')\n",
    "system('bash tmp.sh', intern = TRUE)\n",
    "system2(command = \"bash\", \n",
    "        args    = c(\"tmp.sh\"), \n",
    "        stdout  = paste0(\"log/download_core-genomes_\",Sys.Date(),\".log\"))\n",
    "file.remove('tmp.sh')"
   ]
  },
  {
   "cell_type": "code",
   "execution_count": 59,
   "id": "7867ae16-0b87-4f84-abde-a9572992a370",
   "metadata": {},
   "outputs": [
    {
     "data": {
      "text/html": [
       "'./bin/fetch_ncbi-genomes-by-accession.sh -i data/ncbi_phage-genomes/ext_genomes_accession.txt -o data/ncbi_phage-genomes/extended_genomes -e arabinosylation-anti-crispr -t \"virus genome\"'"
      ],
      "text/latex": [
       "'./bin/fetch\\_ncbi-genomes-by-accession.sh -i data/ncbi\\_phage-genomes/ext\\_genomes\\_accession.txt -o data/ncbi\\_phage-genomes/extended\\_genomes -e arabinosylation-anti-crispr -t \"virus genome\"'"
      ],
      "text/markdown": [
       "'./bin/fetch_ncbi-genomes-by-accession.sh -i data/ncbi_phage-genomes/ext_genomes_accession.txt -o data/ncbi_phage-genomes/extended_genomes -e arabinosylation-anti-crispr -t \"virus genome\"'"
      ],
      "text/plain": [
       "[1] \"./bin/fetch_ncbi-genomes-by-accession.sh -i data/ncbi_phage-genomes/ext_genomes_accession.txt -o data/ncbi_phage-genomes/extended_genomes -e arabinosylation-anti-crispr -t \\\"virus genome\\\"\""
      ]
     },
     "metadata": {},
     "output_type": "display_data"
    },
    {
     "data": {
      "text/html": [
       "<style>\n",
       ".list-inline {list-style: none; margin:0; padding: 0}\n",
       ".list-inline>li {display: inline-block}\n",
       ".list-inline>li:not(:last-child)::after {content: \"\\00b7\"; padding: 0 .5ex}\n",
       "</style>\n",
       "<ol class=list-inline><li>'-- Checking input arguments --'</li><li>'Getting accession numbers from data/ncbi_phage-genomes/ext_genomes_accession.txt'</li><li>'Output directory: data/ncbi_phage-genomes/extended_genomes'</li><li>'Query type: virus genome'</li><li>'Activating arabinosylation-anti-crispr'</li><li>''</li><li>'-- Checking for installed programs --'</li><li>'datasets: /home/dieol22p/miniconda3/envs/arabinosylation-anti-crispr/bin/datasets'</li><li>'unzip: /usr/bin/unzip'</li><li>'dataformat: /home/dieol22p/miniconda3/envs/arabinosylation-anti-crispr/bin/dataformat'</li><li>''</li><li>'rtis-hpc-r04.uod.otago.ac.nz'</li><li>'Fri Dec 20 13:29:48 NZDT 2024'</li><li><span style=white-space:pre-wrap>'Archive:  data/ncbi_phage-genomes/extended_genomes.zip'</span></li><li><span style=white-space:pre-wrap>'  inflating: data/ncbi_phage-genomes/extended_genomes/README.md  '</span></li><li><span style=white-space:pre-wrap>'  inflating: data/ncbi_phage-genomes/extended_genomes/ncbi_dataset/data/data_report.jsonl  '</span></li><li><span style=white-space:pre-wrap>'  inflating: data/ncbi_phage-genomes/extended_genomes/ncbi_dataset/data/annotation_report.jsonl  '</span></li><li><span style=white-space:pre-wrap>'  inflating: data/ncbi_phage-genomes/extended_genomes/ncbi_dataset/data/biosample_report.jsonl  '</span></li><li><span style=white-space:pre-wrap>'  inflating: data/ncbi_phage-genomes/extended_genomes/ncbi_dataset/data/cds.fna  '</span></li><li><span style=white-space:pre-wrap>'  inflating: data/ncbi_phage-genomes/extended_genomes/ncbi_dataset/data/genomic.fna  '</span></li><li><span style=white-space:pre-wrap>'  inflating: data/ncbi_phage-genomes/extended_genomes/ncbi_dataset/data/protein.faa  '</span></li><li><span style=white-space:pre-wrap>'  inflating: data/ncbi_phage-genomes/extended_genomes/ncbi_dataset/data/virus_dataset.md  '</span></li><li><span style=white-space:pre-wrap>'  inflating: data/ncbi_phage-genomes/extended_genomes/ncbi_dataset/data/dataset_catalog.json  '</span></li><li><span style=white-space:pre-wrap>'  inflating: data/ncbi_phage-genomes/extended_genomes/md5sum.txt  '</span></li></ol>\n"
      ],
      "text/latex": [
       "\\begin{enumerate*}\n",
       "\\item '-- Checking input arguments --'\n",
       "\\item 'Getting accession numbers from data/ncbi\\_phage-genomes/ext\\_genomes\\_accession.txt'\n",
       "\\item 'Output directory: data/ncbi\\_phage-genomes/extended\\_genomes'\n",
       "\\item 'Query type: virus genome'\n",
       "\\item 'Activating arabinosylation-anti-crispr'\n",
       "\\item ''\n",
       "\\item '-- Checking for installed programs --'\n",
       "\\item 'datasets: /home/dieol22p/miniconda3/envs/arabinosylation-anti-crispr/bin/datasets'\n",
       "\\item 'unzip: /usr/bin/unzip'\n",
       "\\item 'dataformat: /home/dieol22p/miniconda3/envs/arabinosylation-anti-crispr/bin/dataformat'\n",
       "\\item ''\n",
       "\\item 'rtis-hpc-r04.uod.otago.ac.nz'\n",
       "\\item 'Fri Dec 20 13:29:48 NZDT 2024'\n",
       "\\item 'Archive:  data/ncbi\\_phage-genomes/extended\\_genomes.zip'\n",
       "\\item '  inflating: data/ncbi\\_phage-genomes/extended\\_genomes/README.md  '\n",
       "\\item '  inflating: data/ncbi\\_phage-genomes/extended\\_genomes/ncbi\\_dataset/data/data\\_report.jsonl  '\n",
       "\\item '  inflating: data/ncbi\\_phage-genomes/extended\\_genomes/ncbi\\_dataset/data/annotation\\_report.jsonl  '\n",
       "\\item '  inflating: data/ncbi\\_phage-genomes/extended\\_genomes/ncbi\\_dataset/data/biosample\\_report.jsonl  '\n",
       "\\item '  inflating: data/ncbi\\_phage-genomes/extended\\_genomes/ncbi\\_dataset/data/cds.fna  '\n",
       "\\item '  inflating: data/ncbi\\_phage-genomes/extended\\_genomes/ncbi\\_dataset/data/genomic.fna  '\n",
       "\\item '  inflating: data/ncbi\\_phage-genomes/extended\\_genomes/ncbi\\_dataset/data/protein.faa  '\n",
       "\\item '  inflating: data/ncbi\\_phage-genomes/extended\\_genomes/ncbi\\_dataset/data/virus\\_dataset.md  '\n",
       "\\item '  inflating: data/ncbi\\_phage-genomes/extended\\_genomes/ncbi\\_dataset/data/dataset\\_catalog.json  '\n",
       "\\item '  inflating: data/ncbi\\_phage-genomes/extended\\_genomes/md5sum.txt  '\n",
       "\\end{enumerate*}\n"
      ],
      "text/markdown": [
       "1. '-- Checking input arguments --'\n",
       "2. 'Getting accession numbers from data/ncbi_phage-genomes/ext_genomes_accession.txt'\n",
       "3. 'Output directory: data/ncbi_phage-genomes/extended_genomes'\n",
       "4. 'Query type: virus genome'\n",
       "5. 'Activating arabinosylation-anti-crispr'\n",
       "6. ''\n",
       "7. '-- Checking for installed programs --'\n",
       "8. 'datasets: /home/dieol22p/miniconda3/envs/arabinosylation-anti-crispr/bin/datasets'\n",
       "9. 'unzip: /usr/bin/unzip'\n",
       "10. 'dataformat: /home/dieol22p/miniconda3/envs/arabinosylation-anti-crispr/bin/dataformat'\n",
       "11. ''\n",
       "12. 'rtis-hpc-r04.uod.otago.ac.nz'\n",
       "13. 'Fri Dec 20 13:29:48 NZDT 2024'\n",
       "14. <span style=white-space:pre-wrap>'Archive:  data/ncbi_phage-genomes/extended_genomes.zip'</span>\n",
       "15. <span style=white-space:pre-wrap>'  inflating: data/ncbi_phage-genomes/extended_genomes/README.md  '</span>\n",
       "16. <span style=white-space:pre-wrap>'  inflating: data/ncbi_phage-genomes/extended_genomes/ncbi_dataset/data/data_report.jsonl  '</span>\n",
       "17. <span style=white-space:pre-wrap>'  inflating: data/ncbi_phage-genomes/extended_genomes/ncbi_dataset/data/annotation_report.jsonl  '</span>\n",
       "18. <span style=white-space:pre-wrap>'  inflating: data/ncbi_phage-genomes/extended_genomes/ncbi_dataset/data/biosample_report.jsonl  '</span>\n",
       "19. <span style=white-space:pre-wrap>'  inflating: data/ncbi_phage-genomes/extended_genomes/ncbi_dataset/data/cds.fna  '</span>\n",
       "20. <span style=white-space:pre-wrap>'  inflating: data/ncbi_phage-genomes/extended_genomes/ncbi_dataset/data/genomic.fna  '</span>\n",
       "21. <span style=white-space:pre-wrap>'  inflating: data/ncbi_phage-genomes/extended_genomes/ncbi_dataset/data/protein.faa  '</span>\n",
       "22. <span style=white-space:pre-wrap>'  inflating: data/ncbi_phage-genomes/extended_genomes/ncbi_dataset/data/virus_dataset.md  '</span>\n",
       "23. <span style=white-space:pre-wrap>'  inflating: data/ncbi_phage-genomes/extended_genomes/ncbi_dataset/data/dataset_catalog.json  '</span>\n",
       "24. <span style=white-space:pre-wrap>'  inflating: data/ncbi_phage-genomes/extended_genomes/md5sum.txt  '</span>\n",
       "\n",
       "\n"
      ],
      "text/plain": [
       " [1] \"-- Checking input arguments --\"                                                                   \n",
       " [2] \"Getting accession numbers from data/ncbi_phage-genomes/ext_genomes_accession.txt\"                 \n",
       " [3] \"Output directory: data/ncbi_phage-genomes/extended_genomes\"                                       \n",
       " [4] \"Query type: virus genome\"                                                                         \n",
       " [5] \"Activating arabinosylation-anti-crispr\"                                                           \n",
       " [6] \"\"                                                                                                 \n",
       " [7] \"-- Checking for installed programs --\"                                                            \n",
       " [8] \"datasets: /home/dieol22p/miniconda3/envs/arabinosylation-anti-crispr/bin/datasets\"                \n",
       " [9] \"unzip: /usr/bin/unzip\"                                                                            \n",
       "[10] \"dataformat: /home/dieol22p/miniconda3/envs/arabinosylation-anti-crispr/bin/dataformat\"            \n",
       "[11] \"\"                                                                                                 \n",
       "[12] \"rtis-hpc-r04.uod.otago.ac.nz\"                                                                     \n",
       "[13] \"Fri Dec 20 13:29:48 NZDT 2024\"                                                                    \n",
       "[14] \"Archive:  data/ncbi_phage-genomes/extended_genomes.zip\"                                           \n",
       "[15] \"  inflating: data/ncbi_phage-genomes/extended_genomes/README.md  \"                                \n",
       "[16] \"  inflating: data/ncbi_phage-genomes/extended_genomes/ncbi_dataset/data/data_report.jsonl  \"      \n",
       "[17] \"  inflating: data/ncbi_phage-genomes/extended_genomes/ncbi_dataset/data/annotation_report.jsonl  \"\n",
       "[18] \"  inflating: data/ncbi_phage-genomes/extended_genomes/ncbi_dataset/data/biosample_report.jsonl  \" \n",
       "[19] \"  inflating: data/ncbi_phage-genomes/extended_genomes/ncbi_dataset/data/cds.fna  \"                \n",
       "[20] \"  inflating: data/ncbi_phage-genomes/extended_genomes/ncbi_dataset/data/genomic.fna  \"            \n",
       "[21] \"  inflating: data/ncbi_phage-genomes/extended_genomes/ncbi_dataset/data/protein.faa  \"            \n",
       "[22] \"  inflating: data/ncbi_phage-genomes/extended_genomes/ncbi_dataset/data/virus_dataset.md  \"       \n",
       "[23] \"  inflating: data/ncbi_phage-genomes/extended_genomes/ncbi_dataset/data/dataset_catalog.json  \"   \n",
       "[24] \"  inflating: data/ncbi_phage-genomes/extended_genomes/md5sum.txt  \"                               "
      ]
     },
     "metadata": {},
     "output_type": "display_data"
    },
    {
     "data": {
      "text/html": [
       "TRUE"
      ],
      "text/latex": [
       "TRUE"
      ],
      "text/markdown": [
       "TRUE"
      ],
      "text/plain": [
       "[1] TRUE"
      ]
     },
     "metadata": {},
     "output_type": "display_data"
    }
   ],
   "source": [
    "# Download selection\n",
    "\n",
    "## Create call\n",
    "call <- './bin/fetch_ncbi-genomes-by-accession.sh'\n",
    "call <- paste(call, '-i', genomes$extended)\n",
    "call <- paste0(call, ' -o ', path, 'extended_genomes')\n",
    "call <- paste(call, '-e arabinosylation-anti-crispr')\n",
    "call <- paste(call, '-t \"virus genome\"')\n",
    "call\n",
    "\n",
    "writeLines(call, 'tmp.sh')\n",
    "system('bash tmp.sh', intern = TRUE)\n",
    "system2(command = \"bash\", \n",
    "        args    = c(\"tmp.sh\"), \n",
    "        stdout  = paste0(\"log/download_extended-genomes_\",Sys.Date(),\".log\"))\n",
    "file.remove('tmp.sh')"
   ]
  },
  {
   "cell_type": "code",
   "execution_count": 30,
   "id": "29bf1ba5-c9f8-44ae-971d-496db618d1ea",
   "metadata": {},
   "outputs": [
    {
     "data": {
      "text/html": [
       "'./bin/fetch_ncbi-genomes-by-accession.sh -i data/ncbi_phage-genomes/all_genomes_accession.txt -o data/ncbi_phage-genomes/all_genomes -e arabinosylation-anti-crispr -t \"virus genome\"'"
      ],
      "text/latex": [
       "'./bin/fetch\\_ncbi-genomes-by-accession.sh -i data/ncbi\\_phage-genomes/all\\_genomes\\_accession.txt -o data/ncbi\\_phage-genomes/all\\_genomes -e arabinosylation-anti-crispr -t \"virus genome\"'"
      ],
      "text/markdown": [
       "'./bin/fetch_ncbi-genomes-by-accession.sh -i data/ncbi_phage-genomes/all_genomes_accession.txt -o data/ncbi_phage-genomes/all_genomes -e arabinosylation-anti-crispr -t \"virus genome\"'"
      ],
      "text/plain": [
       "[1] \"./bin/fetch_ncbi-genomes-by-accession.sh -i data/ncbi_phage-genomes/all_genomes_accession.txt -o data/ncbi_phage-genomes/all_genomes -e arabinosylation-anti-crispr -t \\\"virus genome\\\"\""
      ]
     },
     "metadata": {},
     "output_type": "display_data"
    },
    {
     "data": {
      "text/html": [
       "TRUE"
      ],
      "text/latex": [
       "TRUE"
      ],
      "text/markdown": [
       "TRUE"
      ],
      "text/plain": [
       "[1] TRUE"
      ]
     },
     "metadata": {},
     "output_type": "display_data"
    }
   ],
   "source": [
    "# Download all genomes\n",
    "\n",
    "## Create call\n",
    "call <- './bin/fetch_ncbi-genomes-by-accession.sh'\n",
    "call <- paste(call, '-i', genomes$all)\n",
    "call <- paste0(call, ' -o ', path, 'all_genomes')\n",
    "call <- paste(call, '-e arabinosylation-anti-crispr')\n",
    "call <- paste(call, '-t \"virus genome\"')\n",
    "call\n",
    "\n",
    "writeLines(call, 'tmp.sh')\n",
    "system2(command = \"bash\", \n",
    "        args    = c(\"tmp.sh\"), \n",
    "        stdout  = paste0(\"log/download_all-genomes_\",Sys.Date(),\".log\"))\n",
    "file.remove('tmp.sh')"
   ]
  },
  {
   "cell_type": "code",
   "execution_count": 83,
   "id": "d6524161-2f2e-4768-b6e3-4e2784ec14d9",
   "metadata": {},
   "outputs": [
    {
     "data": {
      "text/plain": [
       "R version 4.3.3 (2024-02-29)\n",
       "Platform: x86_64-conda-linux-gnu (64-bit)\n",
       "Running under: Ubuntu 22.04.4 LTS\n",
       "\n",
       "Matrix products: default\n",
       "BLAS/LAPACK: /home/dieol22p/miniconda3/envs/arabinosylation-anti-crispr/lib/libopenblasp-r0.3.28.so;  LAPACK version 3.12.0\n",
       "\n",
       "locale:\n",
       " [1] LC_CTYPE=C.UTF-8       LC_NUMERIC=C           LC_TIME=C.UTF-8       \n",
       " [4] LC_COLLATE=C.UTF-8     LC_MONETARY=C.UTF-8    LC_MESSAGES=C.UTF-8   \n",
       " [7] LC_PAPER=C.UTF-8       LC_NAME=C              LC_ADDRESS=C          \n",
       "[10] LC_TELEPHONE=C         LC_MEASUREMENT=C.UTF-8 LC_IDENTIFICATION=C   \n",
       "\n",
       "time zone: Etc/UTC\n",
       "tzcode source: system (glibc)\n",
       "\n",
       "attached base packages:\n",
       "[1] stats     graphics  grDevices utils     datasets  methods   base     \n",
       "\n",
       "other attached packages:\n",
       "[1] ggplot2_3.5.1 tidyr_1.3.1   dplyr_1.1.4   rentrez_1.2.3 stringr_1.5.1\n",
       "\n",
       "loaded via a namespace (and not attached):\n",
       " [1] gtable_0.3.6      jsonlite_1.8.9    compiler_4.3.3    crayon_1.5.3     \n",
       " [5] tidyselect_1.2.1  IRdisplay_1.1     scales_1.3.0      uuid_1.2-1       \n",
       " [9] fastmap_1.2.0     IRkernel_1.3.2    R6_2.5.1          labeling_0.4.3   \n",
       "[13] generics_0.1.3    curl_6.0.1        XML_3.99-0.17     tibble_3.2.1     \n",
       "[17] munsell_0.5.1     pillar_1.9.0      rlang_1.1.4       utf8_1.2.4       \n",
       "[21] stringi_1.8.4     repr_1.1.7        cli_3.6.3         withr_3.0.2      \n",
       "[25] magrittr_2.0.3    digest_0.6.37     grid_4.3.3        base64enc_0.1-3  \n",
       "[29] pbdZMQ_0.3-13     lifecycle_1.0.4   vctrs_0.6.5       evaluate_1.0.1   \n",
       "[33] glue_1.8.0        farver_2.1.2      fansi_1.0.6       colorspace_2.1-1 \n",
       "[37] purrr_1.0.2       httr_1.4.7        tools_4.3.3       pkgconfig_2.0.3  \n",
       "[41] htmltools_0.5.8.1"
      ]
     },
     "metadata": {},
     "output_type": "display_data"
    }
   ],
   "source": [
    "sessionInfo()"
   ]
  }
 ],
 "metadata": {
  "kernelspec": {
   "display_name": "R_arabinosylation-anti-crispr",
   "language": "R",
   "name": "r_arabinosylation-anti-crispr"
  },
  "language_info": {
   "codemirror_mode": "r",
   "file_extension": ".r",
   "mimetype": "text/x-r-source",
   "name": "R",
   "pygments_lexer": "r",
   "version": "4.3.3"
  }
 },
 "nbformat": 4,
 "nbformat_minor": 5
}
