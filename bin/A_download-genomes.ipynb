{
 "cells": [
  {
   "cell_type": "code",
   "execution_count": 1,
   "id": "0e3b1d62-d7bc-47a2-b2b0-8f4aa318d1be",
   "metadata": {},
   "outputs": [
    {
     "name": "stderr",
     "output_type": "stream",
     "text": [
      "\n",
      "Attaching package: ‘dplyr’\n",
      "\n",
      "\n",
      "The following objects are masked from ‘package:stats’:\n",
      "\n",
      "    filter, lag\n",
      "\n",
      "\n",
      "The following objects are masked from ‘package:base’:\n",
      "\n",
      "    intersect, setdiff, setequal, union\n",
      "\n",
      "\n"
     ]
    }
   ],
   "source": [
    "# Load packages\n",
    "library(readxl)\n",
    "library(stringr)\n",
    "library(rentrez)\n",
    "library(dplyr)\n",
    "library(tidyr)\n",
    "library(ggplot2)"
   ]
  },
  {
   "cell_type": "code",
   "execution_count": 2,
   "id": "9e62a593-354c-4979-a9c4-5fb466642d76",
   "metadata": {},
   "outputs": [
    {
     "name": "stdout",
     "output_type": "stream",
     "text": [
      "Directory:  /projects/health_sciences/bms/microbiology/fineranlab/arabinosylation-anti-CRISPR"
     ]
    },
    {
     "data": {
      "text/html": [
       "'/home/dieol22p/miniconda3/envs/arabinosylation-anti-crispr/bin:/opt/conda/bin:/opt/conda/condabin:/opt/conda/bin:/usr/local/sbin:/usr/local/bin:/usr/sbin:/usr/bin:/sbin:/bin'"
      ],
      "text/latex": [
       "'/home/dieol22p/miniconda3/envs/arabinosylation-anti-crispr/bin:/opt/conda/bin:/opt/conda/condabin:/opt/conda/bin:/usr/local/sbin:/usr/local/bin:/usr/sbin:/usr/bin:/sbin:/bin'"
      ],
      "text/markdown": [
       "'/home/dieol22p/miniconda3/envs/arabinosylation-anti-crispr/bin:/opt/conda/bin:/opt/conda/condabin:/opt/conda/bin:/usr/local/sbin:/usr/local/bin:/usr/sbin:/usr/bin:/sbin:/bin'"
      ],
      "text/plain": [
       "[1] \"/home/dieol22p/miniconda3/envs/arabinosylation-anti-crispr/bin:/opt/conda/bin:/opt/conda/condabin:/opt/conda/bin:/usr/local/sbin:/usr/local/bin:/usr/sbin:/usr/bin:/sbin:/bin\""
      ]
     },
     "metadata": {},
     "output_type": "display_data"
    }
   ],
   "source": [
    "# Adjust PATHs\n",
    "\n",
    "## Location in directory\n",
    "wd <- getwd()\n",
    "subdir <- \"/bin\" # should be 'scripts' if location is ./scripts/thisfile\n",
    "if (endsWith(wd, subdir)) {\n",
    "    wd <- str_remove(wd, subdir)\n",
    "    setwd(wd)\n",
    "}\n",
    "cat('Directory: ', getwd())\n",
    "\n",
    "## Conda environment\n",
    "conda_env <- paste0('/home/',Sys.getenv('USER'),'/miniconda3/envs/arabinosylation-anti-crispr/bin')\n",
    "PATH <- Sys.getenv('PATH')\n",
    "if (!str_detect(PATH, conda_env)) {\n",
    "    Sys.setenv('PATH' = paste(conda_env, PATH, sep = ':'))\n",
    "}\n",
    "Sys.getenv('PATH')"
   ]
  },
  {
   "cell_type": "code",
   "execution_count": 3,
   "id": "89e02a73-050b-40dd-9f75-03b8fc7f3136",
   "metadata": {},
   "outputs": [],
   "source": [
    "# Load internal functions\n",
    "source('bin/utils.R')"
   ]
  },
  {
   "cell_type": "code",
   "execution_count": 4,
   "id": "42d2583c-f55d-4dfe-9a31-0982e87ada3b",
   "metadata": {},
   "outputs": [
    {
     "name": "stderr",
     "output_type": "stream",
     "text": [
      "Warning message in dir.create(dirname(fn[[i]])):\n",
      "“'data' already exists”\n",
      "Warning message in dir.create(dirname(fn[[i]])):\n",
      "“'data/training' already exists”\n",
      "Warning message in dir.create(dirname(fn[[i]])):\n",
      "“'data/validation' already exists”\n",
      "Warning message in dir.create(dirname(fn[[i]])):\n",
      "“'data/test' already exists”\n"
     ]
    }
   ],
   "source": [
    "# Define variables\n",
    "\n",
    "in_tables <- 'docs/supplementary-tables.xlsx'\n",
    "overview <- 'data/overview.csv'\n",
    "\n",
    "fn <- list(\n",
    "    'overview' = 'data/overview.csv',\n",
    "    'training' = 'data/training/accession.txt',\n",
    "    'validation' = 'data/validation/accession.txt',\n",
    "    'test' = 'data/test/accession.txt'\n",
    ")\n",
    "for (i in names(fn)) {\n",
    "    dir.create(dirname(fn[[i]]))\n",
    "}"
   ]
  },
  {
   "cell_type": "code",
   "execution_count": 5,
   "id": "4e945a73-e82b-4edf-8df8-55c54bf856c8",
   "metadata": {},
   "outputs": [
    {
     "name": "stdout",
     "output_type": "stream",
     "text": [
      "[1] \"Reading table phages\"\n",
      "[1] \"Reading table predicted_arabinosylating_phage\"\n",
      "[1] \"Reading table S7_phage-genomes\"\n",
      "[1] \"Reading table proteins\"\n",
      "[1] \"Reading table S4_phages\"\n",
      "[1] \"Reading table S1_bacteria\"\n",
      "[1] \"Reading table S6_ara-hC-transferases\"\n",
      "[1] \"Reading table S8_glucosylation-enzymes\"\n",
      "[1] \"Reading table S9_DNA-modification-enzymes\"\n"
     ]
    }
   ],
   "source": [
    "# Read supplementary tables\n",
    "tables <- list()\n",
    "for (i in excel_sheets(in_tables)) {\n",
    "    print(paste('Reading table', i))\n",
    "    tables[[i]] <- read_excel(in_tables, sheet = i)\n",
    "    }"
   ]
  },
  {
   "cell_type": "code",
   "execution_count": 6,
   "id": "ae128b47-71bd-405d-9384-030244b5de0a",
   "metadata": {},
   "outputs": [],
   "source": [
    "# NCBI Query\n",
    "queries <- list(\n",
    "    c('nuccore',\"Phage sequences\",\"phage[TITL] OR bacteriophage[TITL]\"),\n",
    "    c('nuccore',\"Phage genomes\",\"(phage[TITL] OR bacteriophage[TITL]) AND (genome[TITL] OR complete sequence[TITL])\"),\n",
    "    c('nuccore','INPHARED','\"gbdiv_PHG\"[prop]')\n",
    ")\n",
    "queries <- as.data.frame(t(as.data.frame(queries)))\n",
    "colnames(queries) <- c('db','name','term')\n",
    "rownames(queries) <- 1:nrow(queries)\n",
    "\n",
    "# Entrez call\n",
    "queries$count <- NA\n",
    "for (i in 1:nrow(queries)) {\n",
    "    queries$count[[i]] <- entrez_search(db = queries$db[[i]], term = queries$term[[i]], retmax=0)$count\n",
    "}"
   ]
  },
  {
   "cell_type": "code",
   "execution_count": 8,
   "id": "da8daccc-4822-4c68-9795-d1e527d617e5",
   "metadata": {},
   "outputs": [
    {
     "data": {
      "image/png": "[encoded data removed]",
      "text/plain": [
       "plot without title"
      ]
     },
     "metadata": {
      "image/png": {
       "height": 360,
       "width": 360
      }
     },
     "output_type": "display_data"
    }
   ],
   "source": [
    "# Visualize\n",
    "options(repr.plot.width=6, repr.plot.height=6)\n",
    "\n",
    "## Order\n",
    "queries$name <- factor(queries$name, unique(queries$name))\n",
    "\n",
    "## Plot\n",
    "ggplot(queries, aes(name, count, fill=name)) +\n",
    "  geom_col() +\n",
    "  scale_fill_manual(values = c('grey','darkorange','cyan3')) +\n",
    "  theme_classic(20) +\n",
    "  theme(\n",
    "      panel.grid.major.y = element_line(color = 'grey80'),\n",
    "      panel.grid.minor.y = element_line(color = 'grey90'),\n",
    "      axis.text.x = element_text(angle=45,hjust=1,vjust=1)\n",
    "  ) +\n",
    "  labs(title='NCBI database entries', x = 'Search', y = 'Number of entries')"
   ]
  },
  {
   "cell_type": "code",
   "execution_count": 21,
   "id": "fe88ae35-6089-4a57-888b-c43895ff3245",
   "metadata": {},
   "outputs": [
    {
     "data": {
      "text/html": [
       "27454"
      ],
      "text/latex": [
       "27454"
      ],
      "text/markdown": [
       "27454"
      ],
      "text/plain": [
       "[1] 27454"
      ]
     },
     "metadata": {},
     "output_type": "display_data"
    },
    {
     "data": {
      "text/html": [
       "69721"
      ],
      "text/latex": [
       "69721"
      ],
      "text/markdown": [
       "69721"
      ],
      "text/plain": [
       "[1] 69721"
      ]
     },
     "metadata": {},
     "output_type": "display_data"
    }
   ],
   "source": [
    "# NCBI query to obtain entrez IDs\n",
    "result <- list()\n",
    "for (i in c('Phage genomes','INPHARED')) {\n",
    "    query <- queries$term[queries$name == i]\n",
    "    result[[i]] <- entrez_search(db='nuccore', term=query, retmax=90000)\n",
    "}\n",
    "\n",
    "## Intersect\n",
    "ids_intersect <- intersect(result$`Phage genomes`$ids, result$INPHARED$ids)\n",
    "length(ids_intersect)\n",
    "\n",
    "## Union\n",
    "ids_union <- union(result$`Phage genomes`$ids, result$INPHARED$ids)\n",
    "length(ids_union)"
   ]
  },
  {
   "cell_type": "code",
   "execution_count": 32,
   "id": "07b7c2cc-8a75-4372-8297-6900ccf861a0",
   "metadata": {},
   "outputs": [
    {
     "data": {
      "image/png": "[encoded data removed]",
      "text/plain": [
       "plot without title"
      ]
     },
     "metadata": {
      "image/png": {
       "height": 360,
       "width": 360
      }
     },
     "output_type": "display_data"
    }
   ],
   "source": [
    "# Visualize ID overlap (would be better as sankey)\n",
    "options(repr.plot.width=6, repr.plot.height=6)\n",
    "\n",
    "## Wrangle\n",
    "df <- data.frame(\n",
    "    ids = ids_union\n",
    ")\n",
    "df$db <- NA\n",
    "df$db[df$ids %in% result$`Phage genomes`$ids] <- 'Phage genomes'\n",
    "df$db[df$ids %in% result$INPHARED$ids & is.na(df$db)] <- 'INPHARED'\n",
    "df$db[df$ids %in% result$INPHARED$ids & df$db == 'Phage genomes'] <- 'Both'\n",
    "df$N <- 1\n",
    "\n",
    "## Summarize\n",
    "df <- df %>% group_by(db) %>% summarize(entries = sum(N, na.rm = TRUE))\n",
    "df$db <- factor(df$db, c('INPHARED','Both','Phage genomes'))\n",
    "\n",
    "## Plot\n",
    "ggplot(df, aes(db, entries, fill=db)) +\n",
    "  geom_col() +\n",
    "  scale_fill_manual(values = c('grey','darkorange','cyan3')) +\n",
    "  theme_classic(20) +\n",
    "  theme(\n",
    "      panel.grid.major.y = element_line(color = 'grey80'),\n",
    "      panel.grid.minor.y = element_line(color = 'grey90'),\n",
    "      axis.text.x = element_text(angle=45,hjust=1,vjust=1)\n",
    "  ) +\n",
    "  labs(title='NCBI database entries', x = 'Search', y = 'Number of IDs')"
   ]
  },
  {
   "cell_type": "code",
   "execution_count": 23,
   "id": "39d620a4-6829-4bce-8649-dd3abbb9c35a",
   "metadata": {},
   "outputs": [
    {
     "data": {
      "text/html": [
       "<table class=\"dataframe\">\n",
       "<caption>A data.frame: 6 × 3</caption>\n",
       "<thead>\n",
       "\t<tr><th></th><th scope=col>entrez</th><th scope=col>group</th><th scope=col>accession</th></tr>\n",
       "\t<tr><th></th><th scope=col>&lt;chr&gt;</th><th scope=col>&lt;fct&gt;</th><th scope=col>&lt;chr&gt;</th></tr>\n",
       "</thead>\n",
       "<tbody>\n",
       "\t<tr><th scope=row>1</th><td>2890096451</td><td>655</td><td>PL089164.1</td></tr>\n",
       "\t<tr><th scope=row>2</th><td>2890096449</td><td>333</td><td>PL089163.1</td></tr>\n",
       "\t<tr><th scope=row>3</th><td>2743645791</td><td>353</td><td>PP777464.1</td></tr>\n",
       "\t<tr><th scope=row>69719</th><td>166167    </td><td>502</td><td>J02446.1  </td></tr>\n",
       "\t<tr><th scope=row>69720</th><td>166152    </td><td>539</td><td>J02445.1  </td></tr>\n",
       "\t<tr><th scope=row>69721</th><td>166109    </td><td>595</td><td>M13491.1  </td></tr>\n",
       "</tbody>\n",
       "</table>\n"
      ],
      "text/latex": [
       "A data.frame: 6 × 3\n",
       "\\begin{tabular}{r|lll}\n",
       "  & entrez & group & accession\\\\\n",
       "  & <chr> & <fct> & <chr>\\\\\n",
       "\\hline\n",
       "\t1 & 2890096451 & 655 & PL089164.1\\\\\n",
       "\t2 & 2890096449 & 333 & PL089163.1\\\\\n",
       "\t3 & 2743645791 & 353 & PP777464.1\\\\\n",
       "\t69719 & 166167     & 502 & J02446.1  \\\\\n",
       "\t69720 & 166152     & 539 & J02445.1  \\\\\n",
       "\t69721 & 166109     & 595 & M13491.1  \\\\\n",
       "\\end{tabular}\n"
      ],
      "text/markdown": [
       "\n",
       "A data.frame: 6 × 3\n",
       "\n",
       "| <!--/--> | entrez &lt;chr&gt; | group &lt;fct&gt; | accession &lt;chr&gt; |\n",
       "|---|---|---|---|\n",
       "| 1 | 2890096451 | 655 | PL089164.1 |\n",
       "| 2 | 2890096449 | 333 | PL089163.1 |\n",
       "| 3 | 2743645791 | 353 | PP777464.1 |\n",
       "| 69719 | 166167     | 502 | J02446.1   |\n",
       "| 69720 | 166152     | 539 | J02445.1   |\n",
       "| 69721 | 166109     | 595 | M13491.1   |\n",
       "\n"
      ],
      "text/plain": [
       "      entrez     group accession \n",
       "1     2890096451 655   PL089164.1\n",
       "2     2890096449 333   PL089163.1\n",
       "3     2743645791 353   PP777464.1\n",
       "69719 166167     502   J02446.1  \n",
       "69720 166152     539   J02445.1  \n",
       "69721 166109     595   M13491.1  "
      ]
     },
     "metadata": {},
     "output_type": "display_data"
    }
   ],
   "source": [
    "# Convert entrez ID to nucleotide accession\n",
    "\n",
    "query <- data.frame(\n",
    "    entrez = ids_union\n",
    ")\n",
    "\n",
    "## Create groups of IDs\n",
    "n_groups <- ceiling(nrow(query) / 100)\n",
    "query$group <- factor(sample(1:n_groups, nrow(query), replace=TRUE))\n",
    "\n",
    "## Convert entrez to accession\n",
    "query$accession <- NA\n",
    "for (i in levels(query$group)) {\n",
    "    ind <- which(query$group==i)\n",
    "    # Accession\n",
    "    x <- entrez_fetch(db='nuccore', id=query$entrez[ind], rettype='acc')\n",
    "    query$accession[ind] <- head(str_split(x, \"\\\\n\")[[1]], -1)\n",
    "}\n",
    "\n",
    "## View\n",
    "rbind(head(query,3), tail(query,3))"
   ]
  },
  {
   "cell_type": "code",
   "execution_count": 33,
   "id": "6dd11214-8234-4cf0-8a0b-9f22fff9ebb2",
   "metadata": {},
   "outputs": [
    {
     "data": {
      "text/html": [
       "69721"
      ],
      "text/latex": [
       "69721"
      ],
      "text/markdown": [
       "69721"
      ],
      "text/plain": [
       "[1] 69721"
      ]
     },
     "metadata": {},
     "output_type": "display_data"
    },
    {
     "data": {
      "text/html": [
       "69721"
      ],
      "text/latex": [
       "69721"
      ],
      "text/markdown": [
       "69721"
      ],
      "text/plain": [
       "[1] 69721"
      ]
     },
     "metadata": {},
     "output_type": "display_data"
    },
    {
     "data": {
      "text/plain": [
       "\n",
       "TRUE \n",
       "  35 "
      ]
     },
     "metadata": {},
     "output_type": "display_data"
    },
    {
     "data": {
      "text/plain": [
       "< table of extent 0 >"
      ]
     },
     "metadata": {},
     "output_type": "display_data"
    }
   ],
   "source": [
    "# Check IDs\n",
    "\n",
    "## Unique\n",
    "length(unique(query$entrez))\n",
    "length(unique(query$accession))\n",
    "\n",
    "## Overlap of query and selection\n",
    "table(tables$phages$accession %in% query$accession)\n",
    "\n",
    "## Data split\n",
    "table(query$type)"
   ]
  },
  {
   "cell_type": "code",
   "execution_count": 34,
   "id": "e6849b52-e94b-4023-8405-ef4d4b8ded4f",
   "metadata": {},
   "outputs": [
    {
     "name": "stdout",
     "output_type": "stream",
     "text": [
      "Error : HTTP failure: 400\n",
      "<?xml version=\"1.0\" encoding=\"UTF-8\" ?>\n",
      "<!DOCTYPE eEfetchResult PUBLIC \"-//NLM//DTD efetch 20131226//EN\" \"https://eutils.ncbi.nlm.nih.gov/eutils/dtd/20131226/efetch.dtd\">\n",
      "<eFetchResult>\n",
      "\t<ERROR> Error: CEFetchPApplication::proxy_stream(): Error: F a i l e d  t o  u n d e r s t a n d  i d :  C W C 4 6 _ 0 9 1 0 5 &#xa;&#xa;</ERROR>\n",
      "</eFetchResult>\n",
      "\n",
      "Error : HTTP failure: 400\n",
      "<?xml version=\"1.0\" encoding=\"UTF-8\" ?>\n",
      "<!DOCTYPE eEfetchResult PUBLIC \"-//NLM//DTD efetch 20131226//EN\" \"https://eutils.ncbi.nlm.nih.gov/eutils/dtd/20131226/efetch.dtd\">\n",
      "<eFetchResult>\n",
      "\t<ERROR> Error: CEFetchPApplication::proxy_stream(): Error: F a i l e d  t o  u n d e r s t a n d  i d :  C W C 4 6 _ 0 9 1 0 5 &#xa;&#xa;</ERROR>\n",
      "</eFetchResult>\n",
      "\n"
     ]
    }
   ],
   "source": [
    "# Check phages with annotated proteins\n",
    "sel <- tables$proteins\n",
    "sel$genome_accession <- NA\n",
    "for (n in 1:nrow(sel)) {\n",
    "    # Select ID\n",
    "    i <- sel$protein_accession[[n]]\n",
    "\n",
    "    # Error handling\n",
    "    if (is.na(i)) {next}\n",
    "\n",
    "    # Run ENTREZ query\n",
    "    report <- try(entrez_fetch(db=\"protein\", id=i, rettype = 'jsonl'))\n",
    "\n",
    "    # Skip unknown sequences\n",
    "    if (class(report) == 'try-error') {next}\n",
    "    \n",
    "    # Get NCBI protein report\n",
    "    report <- str_split(report, '\\n')[[1]] # Split into lines\n",
    "    index <- which(str_detect(report, 'DBSOURCE')) # Detect which line (usually 5)\n",
    "    db_source <- report[[index]]\n",
    "    db_source <- str_split(db_source, '\\\\ ')[[1]]\n",
    "    db_source <- db_source[[length(db_source)]] # Select last element\n",
    "    sel$genome_accession[[n]] <- db_source\n",
    "}"
   ]
  },
  {
   "cell_type": "code",
   "execution_count": 35,
   "id": "b0c58bee-fd0a-4a2a-bbd9-41facf5ac1ff",
   "metadata": {},
   "outputs": [
    {
     "data": {
      "text/plain": [
       "index\n",
       "FALSE  TRUE \n",
       "   11   212 "
      ]
     },
     "metadata": {},
     "output_type": "display_data"
    },
    {
     "data": {
      "text/html": [
       "<style>\n",
       ".list-inline {list-style: none; margin:0; padding: 0}\n",
       ".list-inline>li {display: inline-block}\n",
       ".list-inline>li:not(:last-child)::after {content: \"\\00b7\"; padding: 0 .5ex}\n",
       "</style>\n",
       "<ol class=list-inline><li>NA</li><li>'CP056784.2'</li><li>'J01710.1'</li><li>'CP053607.1'</li></ol>\n"
      ],
      "text/latex": [
       "\\begin{enumerate*}\n",
       "\\item NA\n",
       "\\item 'CP056784.2'\n",
       "\\item 'J01710.1'\n",
       "\\item 'CP053607.1'\n",
       "\\end{enumerate*}\n"
      ],
      "text/markdown": [
       "1. NA\n",
       "2. 'CP056784.2'\n",
       "3. 'J01710.1'\n",
       "4. 'CP053607.1'\n",
       "\n",
       "\n"
      ],
      "text/plain": [
       "[1] NA           \"CP056784.2\" \"J01710.1\"   \"CP053607.1\""
      ]
     },
     "metadata": {},
     "output_type": "display_data"
    }
   ],
   "source": [
    "# Comparing accession numbers\n",
    "\n",
    "## Check overlap\n",
    "index <- sel$genome_accession %in% query$accession\n",
    "table(index)\n",
    "\n",
    "## Detect missing genomes\n",
    "unique(sel$genome_accession[which(!index)])\n",
    "\n",
    "## Manually add entries to query\n",
    "entries <- list(\n",
    "    data.frame(entrez='',group='manual',accession='OP946501.1'),\n",
    "    data.frame(entrez='',group='manual',accession='OP946502.1'),\n",
    "    data.frame(entrez='',group='manual',accession='OZ038340.1')\n",
    ")\n",
    "entries <- bind_rows(entries)\n",
    "query <- rbind(query, entries)\n",
    "\n",
    "## Select unique accession numbers\n",
    "query <- query[!duplicated(query$accession), ]"
   ]
  },
  {
   "cell_type": "code",
   "execution_count": 36,
   "id": "979a8178-64ab-43cd-94a0-aa7e6a05635f",
   "metadata": {},
   "outputs": [
    {
     "data": {
      "text/html": [
       "<table class=\"dataframe\">\n",
       "<caption>A data.frame: 6 × 4</caption>\n",
       "<thead>\n",
       "\t<tr><th></th><th scope=col>entrez</th><th scope=col>group</th><th scope=col>accession</th><th scope=col>type</th></tr>\n",
       "\t<tr><th></th><th scope=col>&lt;chr&gt;</th><th scope=col>&lt;fct&gt;</th><th scope=col>&lt;chr&gt;</th><th scope=col>&lt;chr&gt;</th></tr>\n",
       "</thead>\n",
       "<tbody>\n",
       "\t<tr><th scope=row>1</th><td>2890096451</td><td>655</td><td>PL089164.1</td><td>test</td></tr>\n",
       "\t<tr><th scope=row>2</th><td>2890096449</td><td>333</td><td>PL089163.1</td><td>test</td></tr>\n",
       "\t<tr><th scope=row>3</th><td>2743645791</td><td>353</td><td>PP777464.1</td><td>test</td></tr>\n",
       "\t<tr><th scope=row>69719</th><td>166167    </td><td>502</td><td>J02446.1  </td><td>test</td></tr>\n",
       "\t<tr><th scope=row>69720</th><td>166152    </td><td>539</td><td>J02445.1  </td><td>test</td></tr>\n",
       "\t<tr><th scope=row>69721</th><td>166109    </td><td>595</td><td>M13491.1  </td><td>test</td></tr>\n",
       "</tbody>\n",
       "</table>\n"
      ],
      "text/latex": [
       "A data.frame: 6 × 4\n",
       "\\begin{tabular}{r|llll}\n",
       "  & entrez & group & accession & type\\\\\n",
       "  & <chr> & <fct> & <chr> & <chr>\\\\\n",
       "\\hline\n",
       "\t1 & 2890096451 & 655 & PL089164.1 & test\\\\\n",
       "\t2 & 2890096449 & 333 & PL089163.1 & test\\\\\n",
       "\t3 & 2743645791 & 353 & PP777464.1 & test\\\\\n",
       "\t69719 & 166167     & 502 & J02446.1   & test\\\\\n",
       "\t69720 & 166152     & 539 & J02445.1   & test\\\\\n",
       "\t69721 & 166109     & 595 & M13491.1   & test\\\\\n",
       "\\end{tabular}\n"
      ],
      "text/markdown": [
       "\n",
       "A data.frame: 6 × 4\n",
       "\n",
       "| <!--/--> | entrez &lt;chr&gt; | group &lt;fct&gt; | accession &lt;chr&gt; | type &lt;chr&gt; |\n",
       "|---|---|---|---|---|\n",
       "| 1 | 2890096451 | 655 | PL089164.1 | test |\n",
       "| 2 | 2890096449 | 333 | PL089163.1 | test |\n",
       "| 3 | 2743645791 | 353 | PP777464.1 | test |\n",
       "| 69719 | 166167     | 502 | J02446.1   | test |\n",
       "| 69720 | 166152     | 539 | J02445.1   | test |\n",
       "| 69721 | 166109     | 595 | M13491.1   | test |\n",
       "\n"
      ],
      "text/plain": [
       "      entrez     group accession  type\n",
       "1     2890096451 655   PL089164.1 test\n",
       "2     2890096449 333   PL089163.1 test\n",
       "3     2743645791 353   PP777464.1 test\n",
       "69719 166167     502   J02446.1   test\n",
       "69720 166152     539   J02445.1   test\n",
       "69721 166109     595   M13491.1   test"
      ]
     },
     "metadata": {},
     "output_type": "display_data"
    },
    {
     "data": {
      "text/plain": [
       "\n",
       "      test   training validation \n",
       "     69593         35         93 "
      ]
     },
     "metadata": {},
     "output_type": "display_data"
    }
   ],
   "source": [
    "# Split data into types\n",
    "\n",
    "## Test/Training data\n",
    "query$type <- 'test'\n",
    "query$type[query$accession %in% tables$phages$accession] <- 'training'\n",
    "\n",
    "## Validation\n",
    "index <- which(query$type == 'test' & query$accession %in% sel$genome_accession)\n",
    "query$type[index] <- 'validation'\n",
    "\n",
    "index <- which(query$group == 'manual')\n",
    "query$type[index] <- 'validation'\n",
    "\n",
    "## View\n",
    "rbind(head(query,3), tail(query,3))\n",
    "\n",
    "## Check data split\n",
    "table(query$type)"
   ]
  },
  {
   "cell_type": "code",
   "execution_count": 37,
   "id": "50bd2036-0737-47ac-b663-2e7f8c72848e",
   "metadata": {},
   "outputs": [],
   "source": [
    "# Export accession numbers\n",
    "write.table(query, fn$overview, sep = ',', quote = FALSE, row.names = FALSE)\n",
    "\n",
    "## Training data\n",
    "index <- which(query$type == 'training')\n",
    "writeLines(query$accession[index], fn$training)\n",
    "\n",
    "## Validation data\n",
    "index <- which(query$type == 'validation')\n",
    "writeLines(query$accession[index], fn$validation)\n",
    "\n",
    "## Test data\n",
    "index <- which(query$type == 'test')\n",
    "writeLines(query$accession[index], fn$test)"
   ]
  },
  {
   "cell_type": "code",
   "execution_count": 38,
   "id": "dad0aae8-ba39-409c-99fb-84c57eeb2494",
   "metadata": {},
   "outputs": [
    {
     "name": "stderr",
     "output_type": "stream",
     "text": [
      "Warning message in download_ncbi_genomes(inputfile = fn$training, overwrite = TRUE):\n",
      "“Overwrite flag set. Removing output.”\n",
      "Warning message in file.remove(zipfile):\n",
      "“cannot remove file 'data/training/ncbi_dataset.zip', reason 'No such file or directory'”\n"
     ]
    },
    {
     "name": "stdout",
     "output_type": "stream",
     "text": [
      "datasets download virus genome accession --inputfile data/training/accession.txt --filename data/training/ncbi_dataset.zip --include genome,cds,protein,annotation,biosample > data/training/download.log 2>&1 \n",
      "\n",
      "Unzip\n",
      "\n"
     ]
    },
    {
     "name": "stderr",
     "output_type": "stream",
     "text": [
      "Checksums identical. Files were downloaded without problems.\n",
      "\n"
     ]
    },
    {
     "name": "stdout",
     "output_type": "stream",
     "text": [
      "dataformat tsv virus-annotation --inputfile data/training/ncbi_dataset/data/annotation_report.jsonl > data/training/ncbi_dataset/data/features.gtf \n",
      "\n",
      "dataformat tsv virus-genome --inputfile data/training/ncbi_dataset/data/data_report.jsonl > data/training/ncbi_dataset/data/metadata.tsv \n",
      "\n"
     ]
    },
    {
     "name": "stderr",
     "output_type": "stream",
     "text": [
      "All accession IDs retrieved successfully\n",
      "\n"
     ]
    },
    {
     "name": "stdout",
     "output_type": "stream",
     "text": [
      "Done."
     ]
    }
   ],
   "source": [
    "# Download training data\n",
    "download_ncbi_genomes(inputfile = fn$training, overwrite = TRUE)"
   ]
  },
  {
   "cell_type": "code",
   "execution_count": 39,
   "id": "f70d8a16-cd6b-49cb-956d-70b44d7b1efa",
   "metadata": {},
   "outputs": [
    {
     "name": "stderr",
     "output_type": "stream",
     "text": [
      "Warning message in download_ncbi_genomes(inputfile = fn$validation, overwrite = TRUE):\n",
      "“Overwrite flag set. Removing output.”\n",
      "Warning message in file.remove(zipfile):\n",
      "“cannot remove file 'data/validation/ncbi_dataset.zip', reason 'No such file or directory'”\n"
     ]
    },
    {
     "name": "stdout",
     "output_type": "stream",
     "text": [
      "datasets download virus genome accession --inputfile data/validation/accession.txt --filename data/validation/ncbi_dataset.zip --include genome,cds,protein,annotation,biosample > data/validation/download.log 2>&1 \n",
      "\n",
      "Unzip\n",
      "\n"
     ]
    },
    {
     "name": "stderr",
     "output_type": "stream",
     "text": [
      "Checksums identical. Files were downloaded without problems.\n",
      "\n"
     ]
    },
    {
     "name": "stdout",
     "output_type": "stream",
     "text": [
      "dataformat tsv virus-annotation --inputfile data/validation/ncbi_dataset/data/annotation_report.jsonl > data/validation/ncbi_dataset/data/features.gtf \n",
      "\n",
      "dataformat tsv virus-genome --inputfile data/validation/ncbi_dataset/data/data_report.jsonl > data/validation/ncbi_dataset/data/metadata.tsv \n",
      "\n"
     ]
    },
    {
     "name": "stderr",
     "output_type": "stream",
     "text": [
      "All accession IDs retrieved successfully\n",
      "\n"
     ]
    },
    {
     "name": "stdout",
     "output_type": "stream",
     "text": [
      "Done."
     ]
    }
   ],
   "source": [
    "# Download validation data\n",
    "download_ncbi_genomes(inputfile = fn$validation, overwrite = TRUE)"
   ]
  },
  {
   "cell_type": "code",
   "execution_count": 40,
   "id": "ad6eae66-778e-4ec2-9d4d-a2a453b8f29e",
   "metadata": {},
   "outputs": [
    {
     "name": "stderr",
     "output_type": "stream",
     "text": [
      "Warning message in download_ncbi_genomes(inputfile = fn$test, overwrite = TRUE):\n",
      "“Overwrite flag set. Removing output.”\n",
      "Warning message in file.remove(zipfile):\n",
      "“cannot remove file 'data/test/ncbi_dataset.zip', reason 'No such file or directory'”\n"
     ]
    },
    {
     "name": "stdout",
     "output_type": "stream",
     "text": [
      "datasets download virus genome accession --inputfile data/test/accession.txt --filename data/test/ncbi_dataset.zip --include genome,cds,protein,annotation,biosample > data/test/download.log 2>&1 \n",
      "\n",
      "Unzip\n",
      "\n"
     ]
    },
    {
     "name": "stderr",
     "output_type": "stream",
     "text": [
      "Checksums identical. Files were downloaded without problems.\n",
      "\n"
     ]
    },
    {
     "name": "stdout",
     "output_type": "stream",
     "text": [
      "dataformat tsv virus-annotation --inputfile data/test/ncbi_dataset/data/annotation_report.jsonl > data/test/ncbi_dataset/data/features.gtf \n",
      "\n",
      "dataformat tsv virus-genome --inputfile data/test/ncbi_dataset/data/data_report.jsonl > data/test/ncbi_dataset/data/metadata.tsv \n",
      "\n"
     ]
    },
    {
     "name": "stderr",
     "output_type": "stream",
     "text": [
      "Warning message in scan(file = file, what = what, sep = sep, quote = quote, dec = dec, :\n",
      "“EOF within quoted string”\n",
      "Warning message in download_ncbi_genomes(inputfile = fn$test, overwrite = TRUE):\n",
      "“Not all accession IDs retrieved. Exporting missing IDs...”\n"
     ]
    },
    {
     "name": "stdout",
     "output_type": "stream",
     "text": [
      "Entries retrieved: 22467 of 69593 \n",
      "\n",
      "Done."
     ]
    }
   ],
   "source": [
    "# Download test data\n",
    "download_ncbi_genomes(inputfile = fn$test, overwrite = TRUE)"
   ]
  },
  {
   "cell_type": "code",
   "execution_count": 47,
   "id": "2f18f6f6-3107-4114-b42f-540c881d6fa3",
   "metadata": {},
   "outputs": [
    {
     "data": {
      "text/html": [
       "47126"
      ],
      "text/latex": [
       "47126"
      ],
      "text/markdown": [
       "47126"
      ],
      "text/plain": [
       "[1] 47126"
      ]
     },
     "metadata": {},
     "output_type": "display_data"
    }
   ],
   "source": [
    "# Find missing entries\n",
    "acc <- readLines('data/test/missing_accessions.txt')\n",
    "length(acc)"
   ]
  },
  {
   "cell_type": "code",
   "execution_count": 49,
   "id": "d9e1e0da-0ab5-47e1-81f9-b541216e871f",
   "metadata": {},
   "outputs": [
    {
     "data": {
      "text/html": [
       "TRUE"
      ],
      "text/latex": [
       "TRUE"
      ],
      "text/markdown": [
       "TRUE"
      ],
      "text/plain": [
       "[1] TRUE"
      ]
     },
     "metadata": {},
     "output_type": "display_data"
    }
   ],
   "source": [
    "dir.create('data/test2/', recursive = TRUE)\n",
    "file.copy('data/test/missing_accessions.txt','data/test2/accession.txt')"
   ]
  },
  {
   "cell_type": "code",
   "execution_count": 50,
   "id": "3d725704-9775-4a42-b521-b04da60c25fc",
   "metadata": {},
   "outputs": [
    {
     "name": "stdout",
     "output_type": "stream",
     "text": [
      "datasets download virus genome accession --inputfile data/test2/accession.txt --filename data/test2/ncbi_dataset.zip --include genome,cds,protein,annotation,biosample > data/test2/download.log 2>&1 \n",
      "\n",
      "Unzip\n",
      "\n"
     ]
    },
    {
     "name": "stderr",
     "output_type": "stream",
     "text": [
      "Checksums identical. Files were downloaded without problems.\n",
      "\n"
     ]
    },
    {
     "name": "stdout",
     "output_type": "stream",
     "text": [
      "dataformat tsv virus-annotation --inputfile data/test2/ncbi_dataset/data/annotation_report.jsonl > data/test2/ncbi_dataset/data/features.gtf \n",
      "\n",
      "dataformat tsv virus-genome --inputfile data/test2/ncbi_dataset/data/data_report.jsonl > data/test2/ncbi_dataset/data/metadata.tsv \n",
      "\n"
     ]
    },
    {
     "name": "stderr",
     "output_type": "stream",
     "text": [
      "Warning message in download_ncbi_genomes(\"data/test2/accession.txt\", overwrite = TRUE):\n",
      "“Not all accession IDs retrieved. Exporting missing IDs...”\n"
     ]
    },
    {
     "name": "stdout",
     "output_type": "stream",
     "text": [
      "Entries retrieved: 44226 of 47126 \n",
      "\n",
      "Done."
     ]
    }
   ],
   "source": [
    "## Download missing genomes (into different archive, iterate)\n",
    "download_ncbi_genomes('data/test2/accession.txt', overwrite = TRUE)"
   ]
  },
  {
   "cell_type": "code",
   "execution_count": 61,
   "id": "d1eb728f-c5b0-4703-9383-3bdcba66d77b",
   "metadata": {},
   "outputs": [
    {
     "data": {
      "text/html": [
       "2900"
      ],
      "text/latex": [
       "2900"
      ],
      "text/markdown": [
       "2900"
      ],
      "text/plain": [
       "[1] 2900"
      ]
     },
     "metadata": {},
     "output_type": "display_data"
    }
   ],
   "source": [
    "# Find missing entries\n",
    "acc <- readLines('data/test2/missing_accessions.txt')\n",
    "length(acc)"
   ]
  },
  {
   "cell_type": "code",
   "execution_count": 53,
   "id": "01ec0055-2189-4fa0-9da1-dcea5b1b55cd",
   "metadata": {},
   "outputs": [
    {
     "name": "stderr",
     "output_type": "stream",
     "text": [
      "Warning message in dir.create(\"data/test3/\", recursive = TRUE):\n",
      "“'data/test3' already exists”\n"
     ]
    },
    {
     "data": {
      "text/html": [
       "TRUE"
      ],
      "text/latex": [
       "TRUE"
      ],
      "text/markdown": [
       "TRUE"
      ],
      "text/plain": [
       "[1] TRUE"
      ]
     },
     "metadata": {},
     "output_type": "display_data"
    }
   ],
   "source": [
    "dir.create('data/test3/', recursive = TRUE)\n",
    "file.copy('data/test2/missing_accessions.txt','data/test3/accession.txt')"
   ]
  },
  {
   "cell_type": "code",
   "execution_count": 54,
   "id": "2375edc4-a888-4689-a4cb-346c8f2c4148",
   "metadata": {},
   "outputs": [
    {
     "name": "stdout",
     "output_type": "stream",
     "text": [
      "datasets download virus genome accession --inputfile data/test3/accession.txt --filename data/test3/ncbi_dataset.zip --include genome,cds,protein,annotation,biosample > data/test3/download.log 2>&1 \n",
      "\n"
     ]
    },
    {
     "name": "stderr",
     "output_type": "stream",
     "text": [
      "Warning message in system(call_datasets, intern = TRUE):\n",
      "“running command 'datasets download virus genome accession --inputfile data/test3/accession.txt --filename data/test3/ncbi_dataset.zip --include genome,cds,protein,annotation,biosample > data/test3/download.log 2>&1' had status 1”\n"
     ]
    },
    {
     "name": "stdout",
     "output_type": "stream",
     "text": [
      "Unzip\n",
      "\n"
     ]
    },
    {
     "name": "stderr",
     "output_type": "stream",
     "text": [
      "Warning message in unzip(zipfile, exdir = PATH):\n",
      "“error 1 in extracting from zip file”\n",
      "Warning message in file(file, \"rt\"):\n",
      "“cannot open file 'data/test3/md5sum.txt': No such file or directory”\n"
     ]
    },
    {
     "ename": "ERROR",
     "evalue": "Error in file(file, \"rt\"): cannot open the connection\n",
     "output_type": "error",
     "traceback": [
      "Error in file(file, \"rt\"): cannot open the connection\nTraceback:\n",
      "1. utils::read.table(md5file, col.names = c(\"old\", \"path\"))",
      "2. file(file, \"rt\")",
      "3. .handleSimpleError(function (cnd) \n . {\n .     watcher$capture_plot_and_output()\n .     cnd <- sanitize_call(cnd)\n .     watcher$push(cnd)\n .     switch(on_error, continue = invokeRestart(\"eval_continue\"), \n .         stop = invokeRestart(\"eval_stop\"), error = invokeRestart(\"eval_error\", \n .             cnd))\n . }, \"cannot open the connection\", base::quote(file(file, \"rt\")))"
     ]
    }
   ],
   "source": [
    "## Download missing genomes (into different archive, iterate)\n",
    "download_ncbi_genomes('data/test3/accession.txt')"
   ]
  },
  {
   "cell_type": "code",
   "execution_count": 55,
   "id": "d6524161-2f2e-4768-b6e3-4e2784ec14d9",
   "metadata": {},
   "outputs": [
    {
     "data": {
      "text/plain": [
       "R version 4.4.2 (2024-10-31)\n",
       "Platform: x86_64-conda-linux-gnu\n",
       "Running under: Ubuntu 22.04.4 LTS\n",
       "\n",
       "Matrix products: default\n",
       "BLAS/LAPACK: /home/dieol22p/miniconda3/envs/arabinosylation-anti-crispr/lib/libopenblasp-r0.3.28.so;  LAPACK version 3.12.0\n",
       "\n",
       "locale:\n",
       " [1] LC_CTYPE=C.UTF-8       LC_NUMERIC=C           LC_TIME=C.UTF-8       \n",
       " [4] LC_COLLATE=C.UTF-8     LC_MONETARY=C.UTF-8    LC_MESSAGES=C.UTF-8   \n",
       " [7] LC_PAPER=C.UTF-8       LC_NAME=C              LC_ADDRESS=C          \n",
       "[10] LC_TELEPHONE=C         LC_MEASUREMENT=C.UTF-8 LC_IDENTIFICATION=C   \n",
       "\n",
       "time zone: Etc/UTC\n",
       "tzcode source: system (glibc)\n",
       "\n",
       "attached base packages:\n",
       "[1] stats     graphics  grDevices utils     datasets  methods   base     \n",
       "\n",
       "other attached packages:\n",
       "[1] ggplot2_3.5.1 tidyr_1.3.1   dplyr_1.1.4   rentrez_1.2.3 stringr_1.5.1\n",
       "[6] readxl_1.4.3 \n",
       "\n",
       "loaded via a namespace (and not attached):\n",
       " [1] gtable_0.3.6      jsonlite_1.8.9    compiler_4.4.2    crayon_1.5.3     \n",
       " [5] tidyselect_1.2.1  IRdisplay_1.1     scales_1.3.0      uuid_1.2-1       \n",
       " [9] fastmap_1.2.0     IRkernel_1.3.2    R6_2.5.1          labeling_0.4.3   \n",
       "[13] generics_0.1.3    curl_6.0.1        XML_3.99-0.17     tibble_3.2.1     \n",
       "[17] munsell_0.5.1     pillar_1.10.1     rlang_1.1.4       stringi_1.8.4    \n",
       "[21] repr_1.1.7        cli_3.6.3         withr_3.0.2       magrittr_2.0.3   \n",
       "[25] digest_0.6.37     grid_4.4.2        base64enc_0.1-3   pbdZMQ_0.3-13    \n",
       "[29] lifecycle_1.0.4   vctrs_0.6.5       evaluate_1.0.1    glue_1.8.0       \n",
       "[33] farver_2.1.2      cellranger_1.1.0  colorspace_2.1-1  httr_1.4.7       \n",
       "[37] purrr_1.0.2       tools_4.4.2       pkgconfig_2.0.3   htmltools_0.5.8.1"
      ]
     },
     "metadata": {},
     "output_type": "display_data"
    }
   ],
   "source": [
    "sessionInfo()"
   ]
  }
 ],
 "metadata": {
  "kernelspec": {
   "display_name": "R_arabinosylation-anti-crispr",
   "language": "R",
   "name": "r_arabinosylation-anti-crispr"
  },
  "language_info": {
   "codemirror_mode": "r",
   "file_extension": ".r",
   "mimetype": "text/x-r-source",
   "name": "R",
   "pygments_lexer": "r",
   "version": "4.4.2"
  }
 },
 "nbformat": 4,
 "nbformat_minor": 5
}
