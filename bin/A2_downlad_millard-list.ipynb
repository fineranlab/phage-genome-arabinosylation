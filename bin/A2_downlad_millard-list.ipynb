{
 "cells": [
  {
   "cell_type": "code",
   "execution_count": 1,
   "id": "f15dccae-63b5-4d41-a31e-e8652bfc7b7a",
   "metadata": {},
   "outputs": [
    {
     "name": "stderr",
     "output_type": "stream",
     "text": [
      "\n",
      "Attaching package: ‘dplyr’\n",
      "\n",
      "\n",
      "The following objects are masked from ‘package:stats’:\n",
      "\n",
      "    filter, lag\n",
      "\n",
      "\n",
      "The following objects are masked from ‘package:base’:\n",
      "\n",
      "    intersect, setdiff, setequal, union\n",
      "\n",
      "\n"
     ]
    }
   ],
   "source": [
    "# Load packages\n",
    "library(readxl)\n",
    "library(stringr)\n",
    "library(rentrez)\n",
    "library(dplyr)\n",
    "library(tidyr)\n",
    "library(ggplot2)"
   ]
  },
  {
   "cell_type": "code",
   "execution_count": 2,
   "id": "971c62cf-dd03-471b-951d-7a9c02c9d456",
   "metadata": {},
   "outputs": [
    {
     "name": "stdout",
     "output_type": "stream",
     "text": [
      "Directory:  /projects/health_sciences/bms/microbiology/fineranlab/arabinosylation-anti-CRISPR"
     ]
    },
    {
     "data": {
      "text/html": [
       "'/home/dieol22p/miniconda3/envs/arabinosylation-anti-crispr/bin:/opt/conda/bin:/opt/conda/condabin:/opt/conda/bin:/usr/local/sbin:/usr/local/bin:/usr/sbin:/usr/bin:/sbin:/bin'"
      ],
      "text/latex": [
       "'/home/dieol22p/miniconda3/envs/arabinosylation-anti-crispr/bin:/opt/conda/bin:/opt/conda/condabin:/opt/conda/bin:/usr/local/sbin:/usr/local/bin:/usr/sbin:/usr/bin:/sbin:/bin'"
      ],
      "text/markdown": [
       "'/home/dieol22p/miniconda3/envs/arabinosylation-anti-crispr/bin:/opt/conda/bin:/opt/conda/condabin:/opt/conda/bin:/usr/local/sbin:/usr/local/bin:/usr/sbin:/usr/bin:/sbin:/bin'"
      ],
      "text/plain": [
       "[1] \"/home/dieol22p/miniconda3/envs/arabinosylation-anti-crispr/bin:/opt/conda/bin:/opt/conda/condabin:/opt/conda/bin:/usr/local/sbin:/usr/local/bin:/usr/sbin:/usr/bin:/sbin:/bin\""
      ]
     },
     "metadata": {},
     "output_type": "display_data"
    }
   ],
   "source": [
    "# Adjust PATHs\n",
    "\n",
    "## Location in directory\n",
    "wd <- getwd()\n",
    "subdir <- \"/bin\" # should be 'scripts' if location is ./scripts/thisfile\n",
    "if (endsWith(wd, subdir)) {\n",
    "    wd <- str_remove(wd, subdir)\n",
    "    setwd(wd)\n",
    "}\n",
    "cat('Directory: ', getwd())\n",
    "\n",
    "## Conda environment\n",
    "conda_env <- paste0('/home/',Sys.getenv('USER'),'/miniconda3/envs/arabinosylation-anti-crispr/bin')\n",
    "PATH <- Sys.getenv('PATH')\n",
    "if (!str_detect(PATH, conda_env)) {\n",
    "    Sys.setenv('PATH' = paste(conda_env, PATH, sep = ':'))\n",
    "}\n",
    "Sys.getenv('PATH')"
   ]
  },
  {
   "cell_type": "code",
   "execution_count": 3,
   "id": "3a85f69f-d8e3-4982-99f1-20d7035a00e1",
   "metadata": {},
   "outputs": [],
   "source": [
    "# Load internal functions\n",
    "source('bin/utils.R')"
   ]
  },
  {
   "cell_type": "code",
   "execution_count": 4,
   "id": "c4fc0245-8546-4c23-85df-93d5315014a4",
   "metadata": {},
   "outputs": [
    {
     "name": "stderr",
     "output_type": "stream",
     "text": [
      "Warning message in dir.create(out_path):\n",
      "“'data/millard_list' already exists”\n"
     ]
    },
    {
     "data": {
      "text/html": [
       "<dl>\n",
       "\t<dt>$tsv</dt>\n",
       "\t\t<dd>'data/millard_list/list.tsv'</dd>\n",
       "\t<dt>$accession</dt>\n",
       "\t\t<dd>'data/millard_list/accession.txt'</dd>\n",
       "</dl>\n"
      ],
      "text/latex": [
       "\\begin{description}\n",
       "\\item[\\$tsv] 'data/millard\\_list/list.tsv'\n",
       "\\item[\\$accession] 'data/millard\\_list/accession.txt'\n",
       "\\end{description}\n"
      ],
      "text/markdown": [
       "$tsv\n",
       ":   'data/millard_list/list.tsv'\n",
       "$accession\n",
       ":   'data/millard_list/accession.txt'\n",
       "\n",
       "\n"
      ],
      "text/plain": [
       "$tsv\n",
       "[1] \"data/millard_list/list.tsv\"\n",
       "\n",
       "$accession\n",
       "[1] \"data/millard_list/accession.txt\"\n"
      ]
     },
     "metadata": {},
     "output_type": "display_data"
    }
   ],
   "source": [
    "# Variables\n",
    "in_url <- 'https://millardlab-inphared.s3.climb.ac.uk/1Jan2025_data.tsv.gz'\n",
    "out_path <- 'data/millard_list/'\n",
    "dir.create(out_path)\n",
    "\n",
    "fn <- list(\n",
    "    tsv = 'data/millard_list/list.tsv',\n",
    "    accession = 'data/millard_list/accession.txt'\n",
    ")\n",
    "fn"
   ]
  },
  {
   "cell_type": "code",
   "execution_count": 5,
   "id": "6ebd4203-64fb-470e-a3d7-e3e9d038dede",
   "metadata": {},
   "outputs": [],
   "source": [
    "# Download data\n",
    "download.file(in_url, fn$tsv)"
   ]
  },
  {
   "cell_type": "code",
   "execution_count": 6,
   "id": "d0841615-337a-4166-84e4-ba3ebe914d53",
   "metadata": {},
   "outputs": [
    {
     "name": "stderr",
     "output_type": "stream",
     "text": [
      "Warning message:\n",
      "“\u001b[1m\u001b[22mOne or more parsing issues, call `problems()` on your data frame for details,\n",
      "e.g.:\n",
      "  dat <- vroom(...)\n",
      "  problems(dat)”\n",
      "\u001b[1mRows: \u001b[22m\u001b[34m32043\u001b[39m \u001b[1mColumns: \u001b[22m\u001b[34m27\u001b[39m\n",
      "\u001b[36m──\u001b[39m \u001b[1mColumn specification\u001b[22m \u001b[36m────────────────────────────────────────────────────────\u001b[39m\n",
      "\u001b[1mDelimiter:\u001b[22m \"\\t\"\n",
      "\u001b[31mchr\u001b[39m (18): Accession, Description, Classification, Molecule, Modification Dat...\n",
      "\u001b[32mdbl\u001b[39m  (7): Genome Length (bp), molGC (%), Number CDS, Positive Strand (%), Ne...\n",
      "\u001b[33mlgl\u001b[39m  (2): Jumbophage, Low Coding Capacity Warning\n",
      "\n",
      "\u001b[36mℹ\u001b[39m Use `spec()` to retrieve the full column specification for this data.\n",
      "\u001b[36mℹ\u001b[39m Specify the column types or set `show_col_types = FALSE` to quiet this message.\n"
     ]
    }
   ],
   "source": [
    "# Read data\n",
    "data <- readr::read_tsv(fn$tsv)"
   ]
  },
  {
   "cell_type": "code",
   "execution_count": 7,
   "id": "ed3b8f33-083f-4454-854e-f7cac79cdaf5",
   "metadata": {},
   "outputs": [
    {
     "data": {
      "text/html": [
       "<table class=\"dataframe\">\n",
       "<caption>A tibble: 2 × 27</caption>\n",
       "<thead>\n",
       "\t<tr><th scope=col>Accession</th><th scope=col>Description</th><th scope=col>Classification</th><th scope=col>Genome Length (bp)</th><th scope=col>Jumbophage</th><th scope=col>molGC (%)</th><th scope=col>Molecule</th><th scope=col>Modification Date</th><th scope=col>Number CDS</th><th scope=col>Positive Strand (%)</th><th scope=col>⋯</th><th scope=col>Sub-family</th><th scope=col>Family</th><th scope=col>Order</th><th scope=col>Class</th><th scope=col>Phylum</th><th scope=col>Kingdom</th><th scope=col>Realm</th><th scope=col>Baltimore Group</th><th scope=col>Genbank Division</th><th scope=col>Isolation Host (beware inconsistent and nonsense values)</th></tr>\n",
       "\t<tr><th scope=col>&lt;chr&gt;</th><th scope=col>&lt;chr&gt;</th><th scope=col>&lt;chr&gt;</th><th scope=col>&lt;dbl&gt;</th><th scope=col>&lt;lgl&gt;</th><th scope=col>&lt;dbl&gt;</th><th scope=col>&lt;chr&gt;</th><th scope=col>&lt;chr&gt;</th><th scope=col>&lt;dbl&gt;</th><th scope=col>&lt;dbl&gt;</th><th scope=col>⋯</th><th scope=col>&lt;chr&gt;</th><th scope=col>&lt;chr&gt;</th><th scope=col>&lt;chr&gt;</th><th scope=col>&lt;chr&gt;</th><th scope=col>&lt;chr&gt;</th><th scope=col>&lt;chr&gt;</th><th scope=col>&lt;chr&gt;</th><th scope=col>&lt;chr&gt;</th><th scope=col>&lt;chr&gt;</th><th scope=col>&lt;chr&gt;</th></tr>\n",
       "</thead>\n",
       "<tbody>\n",
       "\t<tr><td>AY319521</td><td>Salmonella phage SopEPhi</td><td>Salmonella phage SopEPhi Felsduovirus SopEphi Felsduovirus Peduoviridae Caudoviricetes Uroviricota Heunggongvirae Duplodnaviria Viruses       </td><td> 35155</td><td>FALSE</td><td>51.321</td><td>DNA</td><td>22-MAR-2024</td><td> 45</td><td>82.22222</td><td>⋯</td><td>Unclassified       </td><td>Peduoviridae</td><td>Unclassified</td><td>Caudoviricetes</td><td>Uroviricota</td><td>Heunggongvirae</td><td>Duplodnaviria</td><td>Group I</td><td>SYN</td><td>Salmonella enterica subsp. enterica serovar Typhimurium</td></tr>\n",
       "\t<tr><td>MW175890</td><td>Dompiswa phage TSP7_1   </td><td>Dompiswa phage TSP7_1 Phapecoctavirus TSP7 Phapecoctavirus Stephanstirmvirinae Caudoviricetes Uroviricota Heunggongvirae Duplodnaviria Viruses</td><td>150892</td><td>FALSE</td><td>39.115</td><td>DNA</td><td>10-JAN-2024</td><td>272</td><td>49.63235</td><td>⋯</td><td>Stephanstirmvirinae</td><td>Unclassified</td><td>Unclassified</td><td>Caudoviricetes</td><td>Uroviricota</td><td>Heunggongvirae</td><td>Duplodnaviria</td><td>Group I</td><td>ENV</td><td>Unspecified                                            </td></tr>\n",
       "</tbody>\n",
       "</table>\n"
      ],
      "text/latex": [
       "A tibble: 2 × 27\n",
       "\\begin{tabular}{lllllllllllllllllllll}\n",
       " Accession & Description & Classification & Genome Length (bp) & Jumbophage & molGC (\\%) & Molecule & Modification Date & Number CDS & Positive Strand (\\%) & ⋯ & Sub-family & Family & Order & Class & Phylum & Kingdom & Realm & Baltimore Group & Genbank Division & Isolation Host (beware inconsistent and nonsense values)\\\\\n",
       " <chr> & <chr> & <chr> & <dbl> & <lgl> & <dbl> & <chr> & <chr> & <dbl> & <dbl> & ⋯ & <chr> & <chr> & <chr> & <chr> & <chr> & <chr> & <chr> & <chr> & <chr> & <chr>\\\\\n",
       "\\hline\n",
       "\t AY319521 & Salmonella phage SopEPhi & Salmonella phage SopEPhi Felsduovirus SopEphi Felsduovirus Peduoviridae Caudoviricetes Uroviricota Heunggongvirae Duplodnaviria Viruses        &  35155 & FALSE & 51.321 & DNA & 22-MAR-2024 &  45 & 82.22222 & ⋯ & Unclassified        & Peduoviridae & Unclassified & Caudoviricetes & Uroviricota & Heunggongvirae & Duplodnaviria & Group I & SYN & Salmonella enterica subsp. enterica serovar Typhimurium\\\\\n",
       "\t MW175890 & Dompiswa phage TSP7\\_1    & Dompiswa phage TSP7\\_1 Phapecoctavirus TSP7 Phapecoctavirus Stephanstirmvirinae Caudoviricetes Uroviricota Heunggongvirae Duplodnaviria Viruses & 150892 & FALSE & 39.115 & DNA & 10-JAN-2024 & 272 & 49.63235 & ⋯ & Stephanstirmvirinae & Unclassified & Unclassified & Caudoviricetes & Uroviricota & Heunggongvirae & Duplodnaviria & Group I & ENV & Unspecified                                            \\\\\n",
       "\\end{tabular}\n"
      ],
      "text/markdown": [
       "\n",
       "A tibble: 2 × 27\n",
       "\n",
       "| Accession &lt;chr&gt; | Description &lt;chr&gt; | Classification &lt;chr&gt; | Genome Length (bp) &lt;dbl&gt; | Jumbophage &lt;lgl&gt; | molGC (%) &lt;dbl&gt; | Molecule &lt;chr&gt; | Modification Date &lt;chr&gt; | Number CDS &lt;dbl&gt; | Positive Strand (%) &lt;dbl&gt; | ⋯ ⋯ | Sub-family &lt;chr&gt; | Family &lt;chr&gt; | Order &lt;chr&gt; | Class &lt;chr&gt; | Phylum &lt;chr&gt; | Kingdom &lt;chr&gt; | Realm &lt;chr&gt; | Baltimore Group &lt;chr&gt; | Genbank Division &lt;chr&gt; | Isolation Host (beware inconsistent and nonsense values) &lt;chr&gt; |\n",
       "|---|---|---|---|---|---|---|---|---|---|---|---|---|---|---|---|---|---|---|---|---|\n",
       "| AY319521 | Salmonella phage SopEPhi | Salmonella phage SopEPhi Felsduovirus SopEphi Felsduovirus Peduoviridae Caudoviricetes Uroviricota Heunggongvirae Duplodnaviria Viruses        |  35155 | FALSE | 51.321 | DNA | 22-MAR-2024 |  45 | 82.22222 | ⋯ | Unclassified        | Peduoviridae | Unclassified | Caudoviricetes | Uroviricota | Heunggongvirae | Duplodnaviria | Group I | SYN | Salmonella enterica subsp. enterica serovar Typhimurium |\n",
       "| MW175890 | Dompiswa phage TSP7_1    | Dompiswa phage TSP7_1 Phapecoctavirus TSP7 Phapecoctavirus Stephanstirmvirinae Caudoviricetes Uroviricota Heunggongvirae Duplodnaviria Viruses | 150892 | FALSE | 39.115 | DNA | 10-JAN-2024 | 272 | 49.63235 | ⋯ | Stephanstirmvirinae | Unclassified | Unclassified | Caudoviricetes | Uroviricota | Heunggongvirae | Duplodnaviria | Group I | ENV | Unspecified                                             |\n",
       "\n"
      ],
      "text/plain": [
       "  Accession Description             \n",
       "1 AY319521  Salmonella phage SopEPhi\n",
       "2 MW175890  Dompiswa phage TSP7_1   \n",
       "  Classification                                                                                                                                \n",
       "1 Salmonella phage SopEPhi Felsduovirus SopEphi Felsduovirus Peduoviridae Caudoviricetes Uroviricota Heunggongvirae Duplodnaviria Viruses       \n",
       "2 Dompiswa phage TSP7_1 Phapecoctavirus TSP7 Phapecoctavirus Stephanstirmvirinae Caudoviricetes Uroviricota Heunggongvirae Duplodnaviria Viruses\n",
       "  Genome Length (bp) Jumbophage molGC (%) Molecule Modification Date Number CDS\n",
       "1  35155             FALSE      51.321    DNA      22-MAR-2024        45       \n",
       "2 150892             FALSE      39.115    DNA      10-JAN-2024       272       \n",
       "  Positive Strand (%) ⋯ Sub-family          Family       Order       \n",
       "1 82.22222            ⋯ Unclassified        Peduoviridae Unclassified\n",
       "2 49.63235            ⋯ Stephanstirmvirinae Unclassified Unclassified\n",
       "  Class          Phylum      Kingdom        Realm         Baltimore Group\n",
       "1 Caudoviricetes Uroviricota Heunggongvirae Duplodnaviria Group I        \n",
       "2 Caudoviricetes Uroviricota Heunggongvirae Duplodnaviria Group I        \n",
       "  Genbank Division Isolation Host (beware inconsistent and nonsense values)\n",
       "1 SYN              Salmonella enterica subsp. enterica serovar Typhimurium \n",
       "2 ENV              Unspecified                                             "
      ]
     },
     "metadata": {},
     "output_type": "display_data"
    },
    {
     "data": {
      "text/html": [
       "<style>\n",
       ".list-inline {list-style: none; margin:0; padding: 0}\n",
       ".list-inline>li {display: inline-block}\n",
       ".list-inline>li:not(:last-child)::after {content: \"\\00b7\"; padding: 0 .5ex}\n",
       "</style>\n",
       "<ol class=list-inline><li>32043</li><li>27</li></ol>\n"
      ],
      "text/latex": [
       "\\begin{enumerate*}\n",
       "\\item 32043\n",
       "\\item 27\n",
       "\\end{enumerate*}\n"
      ],
      "text/markdown": [
       "1. 32043\n",
       "2. 27\n",
       "\n",
       "\n"
      ],
      "text/plain": [
       "[1] 32043    27"
      ]
     },
     "metadata": {},
     "output_type": "display_data"
    },
    {
     "data": {
      "text/html": [
       "32043"
      ],
      "text/latex": [
       "32043"
      ],
      "text/markdown": [
       "32043"
      ],
      "text/plain": [
       "[1] 32043"
      ]
     },
     "metadata": {},
     "output_type": "display_data"
    },
    {
     "data": {
      "text/html": [
       "FALSE"
      ],
      "text/latex": [
       "FALSE"
      ],
      "text/markdown": [
       "FALSE"
      ],
      "text/plain": [
       "[1] FALSE"
      ]
     },
     "metadata": {},
     "output_type": "display_data"
    },
    {
     "data": {
      "text/html": [
       "23233"
      ],
      "text/latex": [
       "23233"
      ],
      "text/markdown": [
       "23233"
      ],
      "text/plain": [
       "[1] 23233"
      ]
     },
     "metadata": {},
     "output_type": "display_data"
    },
    {
     "data": {
      "text/html": [
       "FALSE"
      ],
      "text/latex": [
       "FALSE"
      ],
      "text/markdown": [
       "FALSE"
      ],
      "text/plain": [
       "[1] FALSE"
      ]
     },
     "metadata": {},
     "output_type": "display_data"
    }
   ],
   "source": [
    "# Summary\n",
    "\n",
    "## View\n",
    "head(data, 2)\n",
    "\n",
    "dim(data)\n",
    "length(unique(data$Accession))\n",
    "any(is.na(data$Accession))\n",
    "length(unique(data$Description))\n",
    "any(is.na(data$Description))"
   ]
  },
  {
   "cell_type": "code",
   "execution_count": 25,
   "id": "8900c289-c51e-448f-a8ab-6e13750185ff",
   "metadata": {},
   "outputs": [],
   "source": [
    "## Create groups of IDs\n",
    "n_groups <- ceiling(nrow(data) / 100)\n",
    "data$batch <- factor(sample(1:n_groups, nrow(data), replace=TRUE))\n",
    "\n",
    "entrez_ids <- list()\n",
    "acc_ids <- list()\n",
    "for (i in levels(data$batch)) {\n",
    "    ind <- which(data$batch == i)\n",
    "    entrez_ids[[i]] <- entrez_search(db = 'nuccore', term = paste(data$Accession[ind], collapse = ' '))$ids\n",
    "    if (length(entrez_ids[[i]]) < 1) {next}\n",
    "    acc_ids[[i]] <- str_split(entrez_fetch('nuccore', entrez_ids[[i]], rettype = 'acc'),'\\\\n')[[1]]\n",
    "}"
   ]
  },
  {
   "cell_type": "code",
   "execution_count": 31,
   "id": "6919ac97-9712-49aa-b8c5-2ba2f3fa238f",
   "metadata": {},
   "outputs": [
    {
     "data": {
      "text/html": [
       "6321"
      ],
      "text/latex": [
       "6321"
      ],
      "text/markdown": [
       "6321"
      ],
      "text/plain": [
       "[1] 6321"
      ]
     },
     "metadata": {},
     "output_type": "display_data"
    }
   ],
   "source": [
    "length(unlist(acc_ids))\n",
    "# Well fuck me this is shit"
   ]
  },
  {
   "cell_type": "code",
   "execution_count": 38,
   "id": "ffa1e524-1c0e-41ca-b0c8-2d0af1ec3101",
   "metadata": {},
   "outputs": [
    {
     "data": {
      "text/plain": [
       "\n",
       "FALSE  TRUE \n",
       "26023  6020 "
      ]
     },
     "metadata": {},
     "output_type": "display_data"
    }
   ],
   "source": [
    "x <- str_split(unlist(acc_ids),'\\\\.',simplify=TRUE)[,1]\n",
    "x <- x[which(x != '')]\n",
    "table(data$Accession %in% x)\n",
    "# Even worse. How the fuck can they not just provide correct IDs?"
   ]
  },
  {
   "cell_type": "code",
   "execution_count": 41,
   "id": "f2870f71-3221-4c0a-87c0-53ecb99fa261",
   "metadata": {},
   "outputs": [],
   "source": [
    "# Export accession numbers\n",
    "# writeLines(data$Accession, fn$accession)"
   ]
  },
  {
   "cell_type": "code",
   "execution_count": 42,
   "id": "064bd8ea-e344-4276-9f6e-5c65fc4c89b0",
   "metadata": {},
   "outputs": [
    {
     "name": "stdout",
     "output_type": "stream",
     "text": [
      "datasets download virus genome accession --inputfile data/millard_list/accession.txt --filename data/millard_list/ncbi_dataset.zip --include genome,cds,protein,annotation,biosample > data/millard_list/download.log 2>&1 \n",
      "\n"
     ]
    },
    {
     "name": "stderr",
     "output_type": "stream",
     "text": [
      "Warning message in system(call_datasets, intern = TRUE):\n",
      "“running command 'datasets download virus genome accession --inputfile data/millard_list/accession.txt --filename data/millard_list/ncbi_dataset.zip --include genome,cds,protein,annotation,biosample > data/millard_list/download.log 2>&1' had status 1”\n"
     ]
    },
    {
     "name": "stdout",
     "output_type": "stream",
     "text": [
      "Unzip\n",
      "\n"
     ]
    },
    {
     "name": "stderr",
     "output_type": "stream",
     "text": [
      "Warning message in unzip(zipfile, exdir = PATH):\n",
      "“error 1 in extracting from zip file”\n",
      "Warning message in file(file, \"rt\"):\n",
      "“cannot open file 'data/millard_list/md5sum.txt': No such file or directory”\n"
     ]
    },
    {
     "ename": "ERROR",
     "evalue": "Error in file(file, \"rt\"): cannot open the connection\n",
     "output_type": "error",
     "traceback": [
      "Error in file(file, \"rt\"): cannot open the connection\nTraceback:\n",
      "1. utils::read.table(md5file, col.names = c(\"old\", \"path\"))",
      "2. file(file, \"rt\")",
      "3. .handleSimpleError(function (cnd) \n . {\n .     watcher$capture_plot_and_output()\n .     cnd <- sanitize_call(cnd)\n .     watcher$push(cnd)\n .     switch(on_error, continue = invokeRestart(\"eval_continue\"), \n .         stop = invokeRestart(\"eval_stop\"), error = invokeRestart(\"eval_error\", \n .             cnd))\n . }, \"cannot open the connection\", base::quote(file(file, \"rt\")))"
     ]
    }
   ],
   "source": [
    "# Download genomes\n",
    "# download_ncbi_genomes(inputfile = fn$accession)"
   ]
  },
  {
   "cell_type": "code",
   "execution_count": 43,
   "id": "38814864-4cd7-4c41-9efb-375ba74a8aff",
   "metadata": {},
   "outputs": [
    {
     "data": {
      "text/html": [
       "<style>\n",
       ".list-inline {list-style: none; margin:0; padding: 0}\n",
       ".list-inline>li {display: inline-block}\n",
       ".list-inline>li:not(:last-child)::after {content: \"\\00b7\"; padding: 0 .5ex}\n",
       "</style>\n",
       "<ol class=list-inline><li>'Error: No valid accessions were passed'</li><li>''</li><li>'Use datasets download virus genome accession &lt;command&gt; --help for detailed help about a command.'</li><li>''</li></ol>\n"
      ],
      "text/latex": [
       "\\begin{enumerate*}\n",
       "\\item 'Error: No valid accessions were passed'\n",
       "\\item ''\n",
       "\\item 'Use datasets download virus genome accession <command> --help for detailed help about a command.'\n",
       "\\item ''\n",
       "\\end{enumerate*}\n"
      ],
      "text/markdown": [
       "1. 'Error: No valid accessions were passed'\n",
       "2. ''\n",
       "3. 'Use datasets download virus genome accession &lt;command&gt; --help for detailed help about a command.'\n",
       "4. ''\n",
       "\n",
       "\n"
      ],
      "text/plain": [
       "[1] \"Error: No valid accessions were passed\"                                                          \n",
       "[2] \"\"                                                                                                \n",
       "[3] \"Use datasets download virus genome accession <command> --help for detailed help about a command.\"\n",
       "[4] \"\"                                                                                                "
      ]
     },
     "metadata": {},
     "output_type": "display_data"
    }
   ],
   "source": [
    "readLines('data/millard_list/download.log')"
   ]
  },
  {
   "cell_type": "code",
   "execution_count": 39,
   "id": "a8aa1f9b-8ca8-44f8-b438-ddf95e4f941f",
   "metadata": {},
   "outputs": [
    {
     "data": {
      "text/plain": [
       "R version 4.4.2 (2024-10-31)\n",
       "Platform: x86_64-conda-linux-gnu\n",
       "Running under: Ubuntu 22.04.4 LTS\n",
       "\n",
       "Matrix products: default\n",
       "BLAS/LAPACK: /home/dieol22p/miniconda3/envs/arabinosylation-anti-crispr/lib/libopenblasp-r0.3.28.so;  LAPACK version 3.12.0\n",
       "\n",
       "locale:\n",
       " [1] LC_CTYPE=C.UTF-8       LC_NUMERIC=C           LC_TIME=C.UTF-8       \n",
       " [4] LC_COLLATE=C.UTF-8     LC_MONETARY=C.UTF-8    LC_MESSAGES=C.UTF-8   \n",
       " [7] LC_PAPER=C.UTF-8       LC_NAME=C              LC_ADDRESS=C          \n",
       "[10] LC_TELEPHONE=C         LC_MEASUREMENT=C.UTF-8 LC_IDENTIFICATION=C   \n",
       "\n",
       "time zone: Etc/UTC\n",
       "tzcode source: system (glibc)\n",
       "\n",
       "attached base packages:\n",
       "[1] stats     graphics  grDevices utils     datasets  methods   base     \n",
       "\n",
       "other attached packages:\n",
       "[1] ggplot2_3.5.1 tidyr_1.3.1   dplyr_1.1.4   rentrez_1.2.3 stringr_1.5.1\n",
       "[6] readxl_1.4.3 \n",
       "\n",
       "loaded via a namespace (and not attached):\n",
       " [1] bit_4.5.0.1       gtable_0.3.6      jsonlite_1.8.9    compiler_4.4.2   \n",
       " [5] crayon_1.5.3      tidyselect_1.2.1  IRdisplay_1.1     parallel_4.4.2   \n",
       " [9] scales_1.3.0      uuid_1.2-1        fastmap_1.2.0     IRkernel_1.3.2   \n",
       "[13] readr_2.1.5       R6_2.5.1          generics_0.1.3    curl_6.0.1       \n",
       "[17] XML_3.99-0.17     tibble_3.2.1      munsell_0.5.1     tzdb_0.4.0       \n",
       "[21] pillar_1.10.1     rlang_1.1.4       stringi_1.8.4     repr_1.1.7       \n",
       "[25] bit64_4.5.2       cli_3.6.3         withr_3.0.2       magrittr_2.0.3   \n",
       "[29] digest_0.6.37     grid_4.4.2        vroom_1.6.5       hms_1.1.3        \n",
       "[33] base64enc_0.1-3   pbdZMQ_0.3-13     lifecycle_1.0.4   vctrs_0.6.5      \n",
       "[37] evaluate_1.0.1    glue_1.8.0        cellranger_1.1.0  colorspace_2.1-1 \n",
       "[41] httr_1.4.7        purrr_1.0.2       tools_4.4.2       pkgconfig_2.0.3  \n",
       "[45] htmltools_0.5.8.1"
      ]
     },
     "metadata": {},
     "output_type": "display_data"
    }
   ],
   "source": [
    "sessionInfo()"
   ]
  }
 ],
 "metadata": {
  "kernelspec": {
   "display_name": "R_arabinosylation-anti-crispr",
   "language": "R",
   "name": "r_arabinosylation-anti-crispr"
  },
  "language_info": {
   "codemirror_mode": "r",
   "file_extension": ".r",
   "mimetype": "text/x-r-source",
   "name": "R",
   "pygments_lexer": "r",
   "version": "4.4.2"
  }
 },
 "nbformat": 4,
 "nbformat_minor": 5
}
