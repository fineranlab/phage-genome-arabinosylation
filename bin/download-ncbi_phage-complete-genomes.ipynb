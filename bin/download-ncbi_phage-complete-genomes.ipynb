{
 "cells": [
  {
   "cell_type": "code",
   "execution_count": 24,
   "id": "4e75a1a7-a63a-43b9-b87e-2a5b4bbb5895",
   "metadata": {},
   "outputs": [],
   "source": [
    "## Load packages\n",
    "library(readxl)\n",
    "library(stringr)\n",
    "library(rentrez)\n",
    "library(dplyr)\n",
    "library(tidyr)\n",
    "library(jsonlite)\n",
    "library(Biostrings)"
   ]
  },
  {
   "cell_type": "code",
   "execution_count": 5,
   "id": "63528cb3-1567-4dcc-9666-c5edbd539be4",
   "metadata": {},
   "outputs": [
    {
     "data": {
      "text/html": [
       "'/home/dieol22p/arabinosylation-anti-CRISPR'"
      ],
      "text/latex": [
       "'/home/dieol22p/arabinosylation-anti-CRISPR'"
      ],
      "text/markdown": [
       "'/home/dieol22p/arabinosylation-anti-CRISPR'"
      ],
      "text/plain": [
       "[1] \"/home/dieol22p/arabinosylation-anti-CRISPR\""
      ]
     },
     "metadata": {},
     "output_type": "display_data"
    }
   ],
   "source": [
    "## Adjust PATH\n",
    "wd <- getwd()\n",
    "subdir <- \"/bin\" # should be 'scripts' if location is ./scripts/thisfile\n",
    "if (endsWith(wd, subdir)) {\n",
    "    wd <- str_remove(wd, subdir)\n",
    "    setwd(wd)\n",
    "}\n",
    "getwd()"
   ]
  },
  {
   "cell_type": "code",
   "execution_count": 6,
   "id": "6922ecc8-87c5-4470-b423-c40d6e1d3a58",
   "metadata": {},
   "outputs": [],
   "source": [
    "## Functions\n",
    "\n",
    "#' Get list entry and use NA for missing information\n",
    "#'\n",
    "#' Get entries from list entries and ignore missing information (e.g. NULL)\n",
    "#' as well as errors (e.g. missing columns in data.frame)\n",
    "#' \n",
    "get_list_entry <- function(x) {\n",
    "\n",
    "    x <- tryCatch(\n",
    "        error = function(cnd) NA, x\n",
    "    )\n",
    "\n",
    "    if (is.null(x)) {x <- NA}\n",
    "\n",
    "    return(x)\n",
    "}"
   ]
  },
  {
   "cell_type": "code",
   "execution_count": 7,
   "id": "a6766868-fd61-4bca-bcda-c555b55ea135",
   "metadata": {},
   "outputs": [
    {
     "name": "stderr",
     "output_type": "stream",
     "text": [
      "Warning message in dir.create(path, recursive = TRUE):\n",
      "“'data/ncbi_phage-complete-genomes' already exists”\n"
     ]
    }
   ],
   "source": [
    "# Define variables\n",
    "\n",
    "## Input files \n",
    "in_tables <- 'docs/supplementary-tables.xlsx'\n",
    "\n",
    "## Data storage\n",
    "path <- \"data/ncbi_phage-complete-genomes/\"\n",
    "dir.create(path, recursive = TRUE)\n",
    "genomes <- list(\n",
    "    accession = \"accession.txt\",\n",
    "    overview = \"overview.csv\",\n",
    "    annotation = \"annotation.gtf\",\n",
    "    zip = \"genomes.zip\",\n",
    "    archive = \"genomes/ncbi_dataset/data/\"\n",
    ")\n",
    "for (i in names(genomes)) {genomes[[i]] <- paste0(path, genomes[[i]])}"
   ]
  },
  {
   "cell_type": "code",
   "execution_count": 8,
   "id": "0cdc3ee1-abf6-4641-8854-6dd9dc177edf",
   "metadata": {},
   "outputs": [
    {
     "name": "stdout",
     "output_type": "stream",
     "text": [
      "[1] \"Reading table S7_phage-genomes\"\n",
      "[1] \"Reading table proteins\"\n",
      "[1] \"Reading table S4_phages\"\n",
      "[1] \"Reading table S1_bacteria\"\n",
      "[1] \"Reading table S6_ara-hC-transferases\"\n",
      "[1] \"Reading table S8_glucosylation-enzymes\"\n",
      "[1] \"Reading table S9_DNA-modification-enzymes\"\n"
     ]
    }
   ],
   "source": [
    "# Read data\n",
    "tables <- list()\n",
    "for (i in excel_sheets(in_tables)) {\n",
    "    print(paste('Reading table', i))\n",
    "    tables[[i]] <- read_excel(in_tables, sheet = i)\n",
    "    }"
   ]
  },
  {
   "cell_type": "code",
   "execution_count": 9,
   "id": "0fc02ed3-33e4-4c45-a16f-0d5bc3e5abf5",
   "metadata": {},
   "outputs": [
    {
     "data": {
      "text/html": [
       "'Missing accession IDs: FALSE'"
      ],
      "text/latex": [
       "'Missing accession IDs: FALSE'"
      ],
      "text/markdown": [
       "'Missing accession IDs: FALSE'"
      ],
      "text/plain": [
       "[1] \"Missing accession IDs: FALSE\""
      ]
     },
     "metadata": {},
     "output_type": "display_data"
    }
   ],
   "source": [
    "# Select phage genomes\n",
    "data <- tables$`S7_phage-genomes`\n",
    "\n",
    "## Check for missing IDs\n",
    "paste('Missing accession IDs:', any(is.na(data$accession)))"
   ]
  },
  {
   "cell_type": "code",
   "execution_count": 18,
   "id": "0cf3c9fa-6b53-41e4-a418-89ed6dcb24a7",
   "metadata": {},
   "outputs": [
    {
     "name": "stderr",
     "output_type": "stream",
     "text": [
      "Downloading 26029 virus genomes\n",
      "\n"
     ]
    }
   ],
   "source": [
    "## Download phage genomes\n",
    "\n",
    "# Query genomes using NCBI datasets CLI\n",
    "message(paste(\"Downloading\", length(readLines(genomes$accession)), \"virus genomes\"))\n",
    "cli_call <- paste0(\"datasets download virus genome accession\")\n",
    "cli_call <- paste(c(cli_call, \"--inputfile\", genomes$accession, \"--filename\", genomes$zip, \n",
    "                    \"--include annotation,biosample,cds,genome,protein\"), collapse = \" \")\n",
    "system(cli_call)"
   ]
  },
  {
   "cell_type": "code",
   "execution_count": 19,
   "id": "f5b54200-500a-4e61-9541-563f024b9b46",
   "metadata": {},
   "outputs": [
    {
     "data": {
      "text/html": [
       "<dl>\n",
       "\t<dt>$annotation_report</dt>\n",
       "\t\t<dd>'data/ncbi_phage-complete-genomes/genomes/ncbi_dataset/data/annotation_report.jsonl'</dd>\n",
       "\t<dt>$biosample_report</dt>\n",
       "\t\t<dd>'data/ncbi_phage-complete-genomes/genomes/ncbi_dataset/data/biosample_report.jsonl'</dd>\n",
       "\t<dt>$cds</dt>\n",
       "\t\t<dd>'data/ncbi_phage-complete-genomes/genomes/ncbi_dataset/data/cds.fna'</dd>\n",
       "\t<dt>$data_report</dt>\n",
       "\t\t<dd>'data/ncbi_phage-complete-genomes/genomes/ncbi_dataset/data/data_report.jsonl'</dd>\n",
       "\t<dt>$dataset_catalog</dt>\n",
       "\t\t<dd>'data/ncbi_phage-complete-genomes/genomes/ncbi_dataset/data/dataset_catalog.json'</dd>\n",
       "\t<dt>$genomic</dt>\n",
       "\t\t<dd>'data/ncbi_phage-complete-genomes/genomes/ncbi_dataset/data/genomic.fna'</dd>\n",
       "\t<dt>$protein</dt>\n",
       "\t\t<dd>'data/ncbi_phage-complete-genomes/genomes/ncbi_dataset/data/protein.faa'</dd>\n",
       "\t<dt>$virus_dataset</dt>\n",
       "\t\t<dd>'data/ncbi_phage-complete-genomes/genomes/ncbi_dataset/data/virus_dataset.md'</dd>\n",
       "</dl>\n"
      ],
      "text/latex": [
       "\\begin{description}\n",
       "\\item[\\$annotation\\_report] 'data/ncbi\\_phage-complete-genomes/genomes/ncbi\\_dataset/data/annotation\\_report.jsonl'\n",
       "\\item[\\$biosample\\_report] 'data/ncbi\\_phage-complete-genomes/genomes/ncbi\\_dataset/data/biosample\\_report.jsonl'\n",
       "\\item[\\$cds] 'data/ncbi\\_phage-complete-genomes/genomes/ncbi\\_dataset/data/cds.fna'\n",
       "\\item[\\$data\\_report] 'data/ncbi\\_phage-complete-genomes/genomes/ncbi\\_dataset/data/data\\_report.jsonl'\n",
       "\\item[\\$dataset\\_catalog] 'data/ncbi\\_phage-complete-genomes/genomes/ncbi\\_dataset/data/dataset\\_catalog.json'\n",
       "\\item[\\$genomic] 'data/ncbi\\_phage-complete-genomes/genomes/ncbi\\_dataset/data/genomic.fna'\n",
       "\\item[\\$protein] 'data/ncbi\\_phage-complete-genomes/genomes/ncbi\\_dataset/data/protein.faa'\n",
       "\\item[\\$virus\\_dataset] 'data/ncbi\\_phage-complete-genomes/genomes/ncbi\\_dataset/data/virus\\_dataset.md'\n",
       "\\end{description}\n"
      ],
      "text/markdown": [
       "$annotation_report\n",
       ":   'data/ncbi_phage-complete-genomes/genomes/ncbi_dataset/data/annotation_report.jsonl'\n",
       "$biosample_report\n",
       ":   'data/ncbi_phage-complete-genomes/genomes/ncbi_dataset/data/biosample_report.jsonl'\n",
       "$cds\n",
       ":   'data/ncbi_phage-complete-genomes/genomes/ncbi_dataset/data/cds.fna'\n",
       "$data_report\n",
       ":   'data/ncbi_phage-complete-genomes/genomes/ncbi_dataset/data/data_report.jsonl'\n",
       "$dataset_catalog\n",
       ":   'data/ncbi_phage-complete-genomes/genomes/ncbi_dataset/data/dataset_catalog.json'\n",
       "$genomic\n",
       ":   'data/ncbi_phage-complete-genomes/genomes/ncbi_dataset/data/genomic.fna'\n",
       "$protein\n",
       ":   'data/ncbi_phage-complete-genomes/genomes/ncbi_dataset/data/protein.faa'\n",
       "$virus_dataset\n",
       ":   'data/ncbi_phage-complete-genomes/genomes/ncbi_dataset/data/virus_dataset.md'\n",
       "\n",
       "\n"
      ],
      "text/plain": [
       "$annotation_report\n",
       "[1] \"data/ncbi_phage-complete-genomes/genomes/ncbi_dataset/data/annotation_report.jsonl\"\n",
       "\n",
       "$biosample_report\n",
       "[1] \"data/ncbi_phage-complete-genomes/genomes/ncbi_dataset/data/biosample_report.jsonl\"\n",
       "\n",
       "$cds\n",
       "[1] \"data/ncbi_phage-complete-genomes/genomes/ncbi_dataset/data/cds.fna\"\n",
       "\n",
       "$data_report\n",
       "[1] \"data/ncbi_phage-complete-genomes/genomes/ncbi_dataset/data/data_report.jsonl\"\n",
       "\n",
       "$dataset_catalog\n",
       "[1] \"data/ncbi_phage-complete-genomes/genomes/ncbi_dataset/data/dataset_catalog.json\"\n",
       "\n",
       "$genomic\n",
       "[1] \"data/ncbi_phage-complete-genomes/genomes/ncbi_dataset/data/genomic.fna\"\n",
       "\n",
       "$protein\n",
       "[1] \"data/ncbi_phage-complete-genomes/genomes/ncbi_dataset/data/protein.faa\"\n",
       "\n",
       "$virus_dataset\n",
       "[1] \"data/ncbi_phage-complete-genomes/genomes/ncbi_dataset/data/virus_dataset.md\"\n"
      ]
     },
     "metadata": {},
     "output_type": "display_data"
    }
   ],
   "source": [
    "## Extract data\n",
    "unzip(genomes$zip, exdir = str_remove(genomes$zip, \".zip\"))\n",
    "ncbi <- list()\n",
    "for (i in list.files(genomes$archive)) {\n",
    "    j <- str_split(i, \"\\\\.\")[[1]][1]\n",
    "    ncbi[[j]] <- paste0(genomes$archive, i)\n",
    "}\n",
    "ncbi"
   ]
  },
  {
   "cell_type": "code",
   "execution_count": 20,
   "id": "6197a5e0-7266-473e-ae0b-8d12d5b2258f",
   "metadata": {},
   "outputs": [
    {
     "data": {
      "text/html": [
       "FALSE"
      ],
      "text/latex": [
       "FALSE"
      ],
      "text/markdown": [
       "FALSE"
      ],
      "text/plain": [
       "[1] FALSE"
      ]
     },
     "metadata": {},
     "output_type": "display_data"
    },
    {
     "data": {
      "text/html": [
       "FALSE"
      ],
      "text/latex": [
       "FALSE"
      ],
      "text/markdown": [
       "FALSE"
      ],
      "text/plain": [
       "[1] FALSE"
      ]
     },
     "metadata": {},
     "output_type": "display_data"
    }
   ],
   "source": [
    "## Investigate data report\n",
    "\n",
    "# Read data report\n",
    "report <- as.list(readLines(ncbi$data_report, skipNul = TRUE))\n",
    "report <- lapply(report, fromJSON)\n",
    "\n",
    "# Re-format\n",
    "for (n in 1:length(report)) {\n",
    "    x <- report[[n]]\n",
    "    report[[n]] <- data.frame(\n",
    "    accession = get_list_entry(x[[\"accession\"]]),\n",
    "    virusName = get_list_entry(x[[\"virus\"]][[\"organismName\"]]),\n",
    "    virusClass = get_list_entry(x[[\"virus\"]][[\"lineage\"]][[\"name\"]][[5]]),\n",
    "    virusGenus = get_list_entry(x[[\"virus\"]][[\"lineage\"]][[\"name\"]][[6]]),\n",
    "    completeness = get_list_entry(x[[\"completeness\"]]),\n",
    "    geneCount = get_list_entry(x[[\"geneCount\"]]),\n",
    "    genomeSize = get_list_entry(x[[\"length\"]]),\n",
    "    geoLocation = get_list_entry(x[[\"location\"]][[\"geographicLocation\"]]),\n",
    "    geoRegion = get_list_entry(x[[\"location\"]][[\"geographicRegion\"]]),\n",
    "    labHost = get_list_entry(x[[\"labHost\"]])\n",
    "    )\n",
    "}\n",
    "report <- bind_rows(report)\n",
    "\n",
    "# Check accession numbers\n",
    "all(data$accession %in% report$accession)\n",
    "all(report$accession %in% data$accession)"
   ]
  },
  {
   "cell_type": "code",
   "execution_count": 25,
   "id": "b542d937-c598-400e-91a5-ec6313ed9e3f",
   "metadata": {},
   "outputs": [],
   "source": [
    "## Add additional information\n",
    "\n",
    "# Read genomes\n",
    "genome <- readDNAStringSet(ncbi$genomic)\n",
    "names(genome) <- str_split(names(genome), ',',simplify=TRUE)[,1]\n",
    "\n",
    "# Mutate report\n",
    "report$key <- paste(report$accession, report$virusName)\n",
    "report$genomePresent <- names(genome) %in% report$key\n",
    "report$genomeIndex <- match(names(genome), report$key)"
   ]
  },
  {
   "cell_type": "code",
   "execution_count": 26,
   "id": "00369d33-7905-4293-907d-5c69f1f71cb7",
   "metadata": {},
   "outputs": [
    {
     "data": {
      "text/plain": [
       "x\n",
       "FALSE  TRUE \n",
       "    3    31 "
      ]
     },
     "metadata": {},
     "output_type": "display_data"
    },
    {
     "data": {
      "text/html": [
       "<style>\n",
       ".list-inline {list-style: none; margin:0; padding: 0}\n",
       ".list-inline>li {display: inline-block}\n",
       ".list-inline>li:not(:last-child)::after {content: \"\\00b7\"; padding: 0 .5ex}\n",
       "</style>\n",
       "<ol class=list-inline><li>'NC_028683.1'</li><li>'NC_055721.1'</li><li>'NC_055727.1'</li></ol>\n"
      ],
      "text/latex": [
       "\\begin{enumerate*}\n",
       "\\item 'NC\\_028683.1'\n",
       "\\item 'NC\\_055721.1'\n",
       "\\item 'NC\\_055727.1'\n",
       "\\end{enumerate*}\n"
      ],
      "text/markdown": [
       "1. 'NC_028683.1'\n",
       "2. 'NC_055721.1'\n",
       "3. 'NC_055727.1'\n",
       "\n",
       "\n"
      ],
      "text/plain": [
       "[1] \"NC_028683.1\" \"NC_055721.1\" \"NC_055727.1\""
      ]
     },
     "metadata": {},
     "output_type": "display_data"
    }
   ],
   "source": [
    "## Investigate report\n",
    "x <- data$accession %in% report$accession\n",
    "table(x)\n",
    "data$accession[!x]"
   ]
  },
  {
   "cell_type": "code",
   "execution_count": 29,
   "id": "7664f4f7-adfb-4a47-8470-703086cc09e2",
   "metadata": {},
   "outputs": [
    {
     "name": "stderr",
     "output_type": "stream",
     "text": [
      "Genomes present \n",
      "True: 20940, False: 4859\n",
      "\n",
      "13 Annotations\n",
      "\n"
     ]
    },
    {
     "data": {
      "text/html": [
       "<table class=\"dataframe\">\n",
       "<caption>A data.frame: 6 × 13</caption>\n",
       "<thead>\n",
       "\t<tr><th></th><th scope=col>accession</th><th scope=col>virusName</th><th scope=col>virusClass</th><th scope=col>virusGenus</th><th scope=col>completeness</th><th scope=col>geneCount</th><th scope=col>genomeSize</th><th scope=col>geoLocation</th><th scope=col>geoRegion</th><th scope=col>labHost</th><th scope=col>key</th><th scope=col>genomePresent</th><th scope=col>genomeIndex</th></tr>\n",
       "\t<tr><th></th><th scope=col>&lt;chr&gt;</th><th scope=col>&lt;chr&gt;</th><th scope=col>&lt;chr&gt;</th><th scope=col>&lt;chr&gt;</th><th scope=col>&lt;chr&gt;</th><th scope=col>&lt;int&gt;</th><th scope=col>&lt;int&gt;</th><th scope=col>&lt;chr&gt;</th><th scope=col>&lt;chr&gt;</th><th scope=col>&lt;chr&gt;</th><th scope=col>&lt;chr&gt;</th><th scope=col>&lt;lgl&gt;</th><th scope=col>&lt;int&gt;</th></tr>\n",
       "</thead>\n",
       "<tbody>\n",
       "\t<tr><th scope=row>1</th><td>OP073944.1</td><td>Bacteriophage sp.                     </td><td>NA            </td><td>NA                         </td><td>COMPLETE</td><td>21</td><td>22014</td><td>Japan      </td><td>Asia  </td><td>NA</td><td>OP073944.1 Bacteriophage sp.                     </td><td> TRUE</td><td>4501</td></tr>\n",
       "\t<tr><th scope=row>2</th><td>OP073957.1</td><td>Bacteriophage sp.                     </td><td>NA            </td><td>NA                         </td><td>COMPLETE</td><td>15</td><td>17138</td><td>Japan      </td><td>Asia  </td><td>NA</td><td>OP073957.1 Bacteriophage sp.                     </td><td> TRUE</td><td>4502</td></tr>\n",
       "\t<tr><th scope=row>3</th><td>OP073961.1</td><td>Bacteriophage sp.                     </td><td>NA            </td><td>NA                         </td><td>COMPLETE</td><td>32</td><td>31550</td><td>Japan      </td><td>Asia  </td><td>NA</td><td>OP073961.1 Bacteriophage sp.                     </td><td> TRUE</td><td>4503</td></tr>\n",
       "\t<tr><th scope=row>25797</th><td>EU855793.1</td><td>Listeria phage P40                    </td><td>Caudoviricetes</td><td>unclassified Caudoviricetes</td><td>COMPLETE</td><td>62</td><td>35638</td><td>Switzerland</td><td>Europe</td><td>NA</td><td>EU855793.1 Listeria phage P40                    </td><td>FALSE</td><td>  NA</td></tr>\n",
       "\t<tr><th scope=row>25798</th><td>EU861004.1</td><td>Staphylococcus phage vB_SauS-phiIPLA88</td><td>Caudoviricetes</td><td>Azeredovirinae             </td><td>COMPLETE</td><td>61</td><td>42526</td><td>NA         </td><td>NA    </td><td>NA</td><td>EU861004.1 Staphylococcus phage vB_SauS-phiIPLA88</td><td>FALSE</td><td>  NA</td></tr>\n",
       "\t<tr><th scope=row>25799</th><td>EU861005.1</td><td>Staphylococcus phage phiSauS-IPLA35   </td><td>Caudoviricetes</td><td>Triavirus                  </td><td>COMPLETE</td><td>62</td><td>45344</td><td>NA         </td><td>NA    </td><td>NA</td><td>EU861005.1 Staphylococcus phage phiSauS-IPLA35   </td><td>FALSE</td><td>  NA</td></tr>\n",
       "</tbody>\n",
       "</table>\n"
      ],
      "text/latex": [
       "A data.frame: 6 × 13\n",
       "\\begin{tabular}{r|lllllllllllll}\n",
       "  & accession & virusName & virusClass & virusGenus & completeness & geneCount & genomeSize & geoLocation & geoRegion & labHost & key & genomePresent & genomeIndex\\\\\n",
       "  & <chr> & <chr> & <chr> & <chr> & <chr> & <int> & <int> & <chr> & <chr> & <chr> & <chr> & <lgl> & <int>\\\\\n",
       "\\hline\n",
       "\t1 & OP073944.1 & Bacteriophage sp.                      & NA             & NA                          & COMPLETE & 21 & 22014 & Japan       & Asia   & NA & OP073944.1 Bacteriophage sp.                      &  TRUE & 4501\\\\\n",
       "\t2 & OP073957.1 & Bacteriophage sp.                      & NA             & NA                          & COMPLETE & 15 & 17138 & Japan       & Asia   & NA & OP073957.1 Bacteriophage sp.                      &  TRUE & 4502\\\\\n",
       "\t3 & OP073961.1 & Bacteriophage sp.                      & NA             & NA                          & COMPLETE & 32 & 31550 & Japan       & Asia   & NA & OP073961.1 Bacteriophage sp.                      &  TRUE & 4503\\\\\n",
       "\t25797 & EU855793.1 & Listeria phage P40                     & Caudoviricetes & unclassified Caudoviricetes & COMPLETE & 62 & 35638 & Switzerland & Europe & NA & EU855793.1 Listeria phage P40                     & FALSE &   NA\\\\\n",
       "\t25798 & EU861004.1 & Staphylococcus phage vB\\_SauS-phiIPLA88 & Caudoviricetes & Azeredovirinae              & COMPLETE & 61 & 42526 & NA          & NA     & NA & EU861004.1 Staphylococcus phage vB\\_SauS-phiIPLA88 & FALSE &   NA\\\\\n",
       "\t25799 & EU861005.1 & Staphylococcus phage phiSauS-IPLA35    & Caudoviricetes & Triavirus                   & COMPLETE & 62 & 45344 & NA          & NA     & NA & EU861005.1 Staphylococcus phage phiSauS-IPLA35    & FALSE &   NA\\\\\n",
       "\\end{tabular}\n"
      ],
      "text/markdown": [
       "\n",
       "A data.frame: 6 × 13\n",
       "\n",
       "| <!--/--> | accession &lt;chr&gt; | virusName &lt;chr&gt; | virusClass &lt;chr&gt; | virusGenus &lt;chr&gt; | completeness &lt;chr&gt; | geneCount &lt;int&gt; | genomeSize &lt;int&gt; | geoLocation &lt;chr&gt; | geoRegion &lt;chr&gt; | labHost &lt;chr&gt; | key &lt;chr&gt; | genomePresent &lt;lgl&gt; | genomeIndex &lt;int&gt; |\n",
       "|---|---|---|---|---|---|---|---|---|---|---|---|---|---|\n",
       "| 1 | OP073944.1 | Bacteriophage sp.                      | NA             | NA                          | COMPLETE | 21 | 22014 | Japan       | Asia   | NA | OP073944.1 Bacteriophage sp.                      |  TRUE | 4501 |\n",
       "| 2 | OP073957.1 | Bacteriophage sp.                      | NA             | NA                          | COMPLETE | 15 | 17138 | Japan       | Asia   | NA | OP073957.1 Bacteriophage sp.                      |  TRUE | 4502 |\n",
       "| 3 | OP073961.1 | Bacteriophage sp.                      | NA             | NA                          | COMPLETE | 32 | 31550 | Japan       | Asia   | NA | OP073961.1 Bacteriophage sp.                      |  TRUE | 4503 |\n",
       "| 25797 | EU855793.1 | Listeria phage P40                     | Caudoviricetes | unclassified Caudoviricetes | COMPLETE | 62 | 35638 | Switzerland | Europe | NA | EU855793.1 Listeria phage P40                     | FALSE |   NA |\n",
       "| 25798 | EU861004.1 | Staphylococcus phage vB_SauS-phiIPLA88 | Caudoviricetes | Azeredovirinae              | COMPLETE | 61 | 42526 | NA          | NA     | NA | EU861004.1 Staphylococcus phage vB_SauS-phiIPLA88 | FALSE |   NA |\n",
       "| 25799 | EU861005.1 | Staphylococcus phage phiSauS-IPLA35    | Caudoviricetes | Triavirus                   | COMPLETE | 62 | 45344 | NA          | NA     | NA | EU861005.1 Staphylococcus phage phiSauS-IPLA35    | FALSE |   NA |\n",
       "\n"
      ],
      "text/plain": [
       "      accession  virusName                              virusClass    \n",
       "1     OP073944.1 Bacteriophage sp.                      NA            \n",
       "2     OP073957.1 Bacteriophage sp.                      NA            \n",
       "3     OP073961.1 Bacteriophage sp.                      NA            \n",
       "25797 EU855793.1 Listeria phage P40                     Caudoviricetes\n",
       "25798 EU861004.1 Staphylococcus phage vB_SauS-phiIPLA88 Caudoviricetes\n",
       "25799 EU861005.1 Staphylococcus phage phiSauS-IPLA35    Caudoviricetes\n",
       "      virusGenus                  completeness geneCount genomeSize geoLocation\n",
       "1     NA                          COMPLETE     21        22014      Japan      \n",
       "2     NA                          COMPLETE     15        17138      Japan      \n",
       "3     NA                          COMPLETE     32        31550      Japan      \n",
       "25797 unclassified Caudoviricetes COMPLETE     62        35638      Switzerland\n",
       "25798 Azeredovirinae              COMPLETE     61        42526      NA         \n",
       "25799 Triavirus                   COMPLETE     62        45344      NA         \n",
       "      geoRegion labHost key                                              \n",
       "1     Asia      NA      OP073944.1 Bacteriophage sp.                     \n",
       "2     Asia      NA      OP073957.1 Bacteriophage sp.                     \n",
       "3     Asia      NA      OP073961.1 Bacteriophage sp.                     \n",
       "25797 Europe    NA      EU855793.1 Listeria phage P40                    \n",
       "25798 NA        NA      EU861004.1 Staphylococcus phage vB_SauS-phiIPLA88\n",
       "25799 NA        NA      EU861005.1 Staphylococcus phage phiSauS-IPLA35   \n",
       "      genomePresent genomeIndex\n",
       "1      TRUE         4501       \n",
       "2      TRUE         4502       \n",
       "3      TRUE         4503       \n",
       "25797 FALSE           NA       \n",
       "25798 FALSE           NA       \n",
       "25799 FALSE           NA       "
      ]
     },
     "metadata": {},
     "output_type": "display_data"
    },
    {
     "name": "stderr",
     "output_type": "stream",
     "text": [
      "Any missing accession: FALSE\n",
      "\n",
      "Any missing virusName: FALSE\n",
      "\n"
     ]
    }
   ],
   "source": [
    "## Investigate report\n",
    "\n",
    "# Dimensions\n",
    "x <- table(report$genomePresent)\n",
    "message(paste0(\"Genomes present \\n\", \"True: \", x[[2]], \", False: \", x[[1]]))\n",
    "message(paste(ncol(report), \"Annotations\"))\n",
    "\n",
    "# View\n",
    "rbind(head(report,3), tail(report,3))\n",
    "\n",
    "# Check absence of NAs in important columns\n",
    "message(paste(\"Any missing accession:\", any(is.na(report$accession))))\n",
    "message(paste(\"Any missing virusName:\", any(is.na(report$virusName))))"
   ]
  },
  {
   "cell_type": "code",
   "execution_count": 30,
   "id": "fe931349-7c64-4912-b7ee-250250154824",
   "metadata": {},
   "outputs": [],
   "source": [
    "## Save report\n",
    "write.table(report, genomes$overview, sep = \",\")"
   ]
  },
  {
   "cell_type": "code",
   "execution_count": 31,
   "id": "1d7c4cd2-6e7c-4c1d-9861-f2df55d318e8",
   "metadata": {},
   "outputs": [
    {
     "name": "stderr",
     "output_type": "stream",
     "text": [
      "dataformat tsv virus-annotation --fields accession,gene-cds-name,gene-cds-nuc-fasta-title,gene-cds-nuc-fasta-seq-id,gene-cds-nuc-fasta-range-start,gene-cds-nuc-fasta-range-stop,gene-cds-protein-fasta-accession,gene-cds-protein-fasta-seq-id,gene-cds-protein-fasta-title --inputfile data/ncbi_phage-complete-genomes/genomes/ncbi_dataset/data/annotation_report.jsonl > data/ncbi_phage-complete-genomes/annotation.gtf\n",
      "\n"
     ]
    }
   ],
   "source": [
    "## Format annotation to GTF\n",
    "gtf_fields <- c(\"accession\",\"gene-cds-name\", \"gene-cds-nuc-fasta-title\",\"gene-cds-nuc-fasta-seq-id\",\n",
    "                \"gene-cds-nuc-fasta-range-start\",\"gene-cds-nuc-fasta-range-stop\",\n",
    "                \"gene-cds-protein-fasta-accession\",\"gene-cds-protein-fasta-seq-id\",\"gene-cds-protein-fasta-title\"\n",
    "               )\n",
    "gtf_fields <- paste0(gtf_fields, collapse = \",\")\n",
    "system_call <- paste(\"dataformat tsv virus-annotation --fields\",gtf_fields,\"--inputfile\", ncbi$annotation_report, \">\", genomes$annotation)\n",
    "message(system_call)\n",
    "system(system_call)"
   ]
  },
  {
   "cell_type": "code",
   "execution_count": 32,
   "id": "5d9dcd81-771b-4ba8-894e-84b7e70897e7",
   "metadata": {},
   "outputs": [
    {
     "data": {
      "text/plain": [
       "R version 4.3.3 (2024-02-29)\n",
       "Platform: x86_64-conda-linux-gnu (64-bit)\n",
       "Running under: Rocky Linux 9.2 (Blue Onyx)\n",
       "\n",
       "Matrix products: default\n",
       "BLAS/LAPACK: /home/dieol22p/miniconda3/envs/arabinosylation-anti-crispr/lib/libopenblasp-r0.3.28.so;  LAPACK version 3.12.0\n",
       "\n",
       "locale:\n",
       " [1] LC_CTYPE=en_US.UTF-8       LC_NUMERIC=C              \n",
       " [3] LC_TIME=en_US.UTF-8        LC_COLLATE=en_US.UTF-8    \n",
       " [5] LC_MONETARY=en_US.UTF-8    LC_MESSAGES=en_US.UTF-8   \n",
       " [7] LC_PAPER=en_US.UTF-8       LC_NAME=C                 \n",
       " [9] LC_ADDRESS=C               LC_TELEPHONE=C            \n",
       "[11] LC_MEASUREMENT=en_US.UTF-8 LC_IDENTIFICATION=C       \n",
       "\n",
       "time zone: Pacific/Auckland\n",
       "tzcode source: system (glibc)\n",
       "\n",
       "attached base packages:\n",
       "[1] stats4    stats     graphics  grDevices utils     datasets  methods  \n",
       "[8] base     \n",
       "\n",
       "other attached packages:\n",
       " [1] Biostrings_2.70.1   GenomeInfoDb_1.38.1 XVector_0.42.0     \n",
       " [4] IRanges_2.36.0      S4Vectors_0.40.2    BiocGenerics_0.48.1\n",
       " [7] jsonlite_1.8.9      tidyr_1.3.1         dplyr_1.1.4        \n",
       "[10] rentrez_1.2.3       stringr_1.5.1       readxl_1.4.3       \n",
       "\n",
       "loaded via a namespace (and not attached):\n",
       " [1] compiler_4.3.3          crayon_1.5.3            tidyselect_1.2.1       \n",
       " [4] IRdisplay_1.1           bitops_1.0-9            uuid_1.2-1             \n",
       " [7] fastmap_1.2.0           IRkernel_1.3.2          R6_2.5.1               \n",
       "[10] generics_0.1.3          XML_3.99-0.17           tibble_3.2.1           \n",
       "[13] GenomeInfoDbData_1.2.11 pillar_1.9.0            rlang_1.1.4            \n",
       "[16] utf8_1.2.4              stringi_1.8.4           repr_1.1.7             \n",
       "[19] cli_3.6.3               magrittr_2.0.3          zlibbioc_1.48.0        \n",
       "[22] digest_0.6.37           base64enc_0.1-3         pbdZMQ_0.3-13          \n",
       "[25] lifecycle_1.0.4         vctrs_0.6.5             evaluate_1.0.1         \n",
       "[28] glue_1.8.0              cellranger_1.1.0        RCurl_1.98-1.16        \n",
       "[31] fansi_1.0.6             purrr_1.0.2             tools_4.3.3            \n",
       "[34] pkgconfig_2.0.3         htmltools_0.5.8.1      "
      ]
     },
     "metadata": {},
     "output_type": "display_data"
    }
   ],
   "source": [
    "sessionInfo()"
   ]
  }
 ],
 "metadata": {
  "kernelspec": {
   "display_name": "R",
   "language": "R",
   "name": "ir"
  },
  "language_info": {
   "codemirror_mode": "r",
   "file_extension": ".r",
   "mimetype": "text/x-r-source",
   "name": "R",
   "pygments_lexer": "r",
   "version": "4.3.3"
  }
 },
 "nbformat": 4,
 "nbformat_minor": 5
}
