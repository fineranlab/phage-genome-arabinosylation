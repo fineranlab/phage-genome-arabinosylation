{
 "cells": [
  {
   "cell_type": "code",
   "execution_count": 9,
   "id": "4e75a1a7-a63a-43b9-b87e-2a5b4bbb5895",
   "metadata": {},
   "outputs": [],
   "source": [
    "## Load packages\n",
    "library(readxl)\n",
    "library(stringr)\n",
    "library(rentrez)\n",
    "library(dplyr)\n",
    "library(tidyr)\n",
    "library(jsonlite)"
   ]
  },
  {
   "cell_type": "code",
   "execution_count": 5,
   "id": "63528cb3-1567-4dcc-9666-c5edbd539be4",
   "metadata": {},
   "outputs": [
    {
     "data": {
      "text/html": [
       "'C:/Users/dieol22p/OneDrive - University of Otago/General - Phi Lab/Papers in preparation/LC53 modification and CRISPR/CHM Revision Nov 2024/bioinformatics/arabinosylation-anti-CRISPR'"
      ],
      "text/latex": [
       "'C:/Users/dieol22p/OneDrive - University of Otago/General - Phi Lab/Papers in preparation/LC53 modification and CRISPR/CHM Revision Nov 2024/bioinformatics/arabinosylation-anti-CRISPR'"
      ],
      "text/markdown": [
       "'C:/Users/dieol22p/OneDrive - University of Otago/General - Phi Lab/Papers in preparation/LC53 modification and CRISPR/CHM Revision Nov 2024/bioinformatics/arabinosylation-anti-CRISPR'"
      ],
      "text/plain": [
       "[1] \"C:/Users/dieol22p/OneDrive - University of Otago/General - Phi Lab/Papers in preparation/LC53 modification and CRISPR/CHM Revision Nov 2024/bioinformatics/arabinosylation-anti-CRISPR\""
      ]
     },
     "metadata": {},
     "output_type": "display_data"
    }
   ],
   "source": [
    "## Adjust PATH\n",
    "wd <- getwd()\n",
    "subdir <- \"/bin\" # should be 'scripts' if location is ./scripts/thisfile\n",
    "if (endsWith(wd, subdir)) {\n",
    "    wd <- str_remove(wd, subdir)\n",
    "    setwd(wd)\n",
    "}\n",
    "getwd()"
   ]
  },
  {
   "cell_type": "code",
   "execution_count": 6,
   "id": "6922ecc8-87c5-4470-b423-c40d6e1d3a58",
   "metadata": {},
   "outputs": [],
   "source": [
    "## Functions\n",
    "\n",
    "#' Get list entry and use NA for missing information\n",
    "#'\n",
    "#' Get entries from list entries and ignore missing information (e.g. NULL)\n",
    "#' as well as errors (e.g. missing columns in data.frame)\n",
    "#' \n",
    "get_list_entry <- function(x) {\n",
    "\n",
    "    x <- tryCatch(\n",
    "        error = function(cnd) NA, x\n",
    "    )\n",
    "\n",
    "    if (is.null(x)) {x <- NA}\n",
    "\n",
    "    return(x)\n",
    "}"
   ]
  },
  {
   "cell_type": "code",
   "execution_count": 11,
   "id": "a6766868-fd61-4bca-bcda-c555b55ea135",
   "metadata": {},
   "outputs": [
    {
     "name": "stderr",
     "output_type": "stream",
     "text": [
      "Warning message in dir.create(path, recursive = TRUE):\n",
      "\"'data\\phages' already exists\"\n"
     ]
    }
   ],
   "source": [
    "# Define variables\n",
    "\n",
    "## Input files \n",
    "in_tables <- 'docs/supplementary-tables.xlsx'\n",
    "\n",
    "## Data storage\n",
    "path <- \"data/phages/\"\n",
    "dir.create(path, recursive = TRUE)\n",
    "genomes <- list(\n",
    "    accession = \"accession.txt\",\n",
    "    overview = \"overview.csv\",\n",
    "    annotation = \"annotation.gtf\",\n",
    "    zip = \"genomes.zip\",\n",
    "    archive = \"genomes/ncbi_dataset/data/\"\n",
    ")\n",
    "for (i in names(genomes)) {genomes[[i]] <- paste0(path, genomes[[i]])}"
   ]
  },
  {
   "cell_type": "code",
   "execution_count": 14,
   "id": "0cdc3ee1-abf6-4641-8854-6dd9dc177edf",
   "metadata": {},
   "outputs": [
    {
     "name": "stdout",
     "output_type": "stream",
     "text": [
      "[1] \"Reading table S4_phages\"\n",
      "[1] \"Reading table S7_phage-genomes\"\n",
      "[1] \"Reading table S1_bacteria\"\n",
      "[1] \"Reading table S5_TS-proteins\"\n",
      "[1] \"Reading table S6_ara-hC-transferases\"\n",
      "[1] \"Reading table S8_glucosylation-enzymes\"\n",
      "[1] \"Reading table S9_DNA-modification-enzymes\"\n"
     ]
    }
   ],
   "source": [
    "# Read data\n",
    "tables <- list()\n",
    "for (i in excel_sheets(in_tables)) {\n",
    "    print(paste('Reading table', i))\n",
    "    tables[[i]] <- read_excel(in_tables, sheet = i)\n",
    "    }"
   ]
  },
  {
   "cell_type": "code",
   "execution_count": 24,
   "id": "0fc02ed3-33e4-4c45-a16f-0d5bc3e5abf5",
   "metadata": {},
   "outputs": [
    {
     "data": {
      "text/html": [
       "'Missing accession IDs: FALSE'"
      ],
      "text/latex": [
       "'Missing accession IDs: FALSE'"
      ],
      "text/markdown": [
       "'Missing accession IDs: FALSE'"
      ],
      "text/plain": [
       "[1] \"Missing accession IDs: FALSE\""
      ]
     },
     "metadata": {},
     "output_type": "display_data"
    }
   ],
   "source": [
    "# Select phage genomes\n",
    "data <- tables$`S7_phage-genomes`\n",
    "\n",
    "## Check for missing IDs\n",
    "paste('Missing accession IDs:', any(is.na(data$Accession)))"
   ]
  },
  {
   "cell_type": "code",
   "execution_count": 27,
   "id": "0cf3c9fa-6b53-41e4-a418-89ed6dcb24a7",
   "metadata": {},
   "outputs": [
    {
     "name": "stderr",
     "output_type": "stream",
     "text": [
      "Downloading 35 virus genomes\n",
      "\n",
      "Warning message in system(cli_call):\n",
      "\"'CreateProcess' failed to run 'C:\\Users\\dieol22p\\ANACON~1\\envs\\ARABIN~1\\bin\\datasets.exe download virus genome accession --inputfile data/phages/accession.txt --filename data/phages/genomes.zip --include annotation,biosample,cds,genome,protein'\"\n"
     ]
    },
    {
     "data": {
      "text/html": [
       "127"
      ],
      "text/latex": [
       "127"
      ],
      "text/markdown": [
       "127"
      ],
      "text/plain": [
       "[1] 127"
      ]
     },
     "metadata": {},
     "output_type": "display_data"
    }
   ],
   "source": [
    "## Download phage genomes\n",
    "\n",
    "# Write accession numbers to file\n",
    "writeLines(data$Accession, genomes$accession)\n",
    "\n",
    "# Query genomes using NCBI datasets CLI\n",
    "message(paste(\"Downloading\", length(data$Accession), \"virus genomes\"))\n",
    "cli_call <- paste0(\"datasets download virus genome accession\")\n",
    "cli_call <- paste(c(cli_call, \"--inputfile\", genomes$accession, \"--filename\", genomes$zip, \n",
    "                    \"--include annotation,biosample,cds,genome,protein\"), collapse = \" \")\n",
    "system(cli_call)"
   ]
  },
  {
   "cell_type": "code",
   "execution_count": null,
   "id": "f5b54200-500a-4e61-9541-563f024b9b46",
   "metadata": {},
   "outputs": [],
   "source": [
    "## Extract data\n",
    "unzip(genomes$zip, exdir = str_remove(genomes$zip, \".zip\"))\n",
    "ncbi <- list()\n",
    "for (i in list.files(genomes$archive)) {\n",
    "    j <- str_split(i, \"\\\\.\")[[1]][1]\n",
    "    ncbi[[j]] <- paste0(genomes$archive, i)\n",
    "}\n",
    "ncbi"
   ]
  },
  {
   "cell_type": "code",
   "execution_count": null,
   "id": "6197a5e0-7266-473e-ae0b-8d12d5b2258f",
   "metadata": {},
   "outputs": [],
   "source": [
    "## Investigate data report\n",
    "\n",
    "# Read data report\n",
    "report <- as.list(readLines(ncbi$data_report, skipNul = TRUE))\n",
    "report <- lapply(report, fromJSON)\n",
    "\n",
    "# Re-format\n",
    "for (n in 1:length(report)) {\n",
    "    x <- report[[n]]\n",
    "    report[[n]] <- data.frame(\n",
    "    accession = get_list_entry(x[[\"accession\"]]),\n",
    "    virusName = get_list_entry(x[[\"virus\"]][[\"organismName\"]]),\n",
    "    virusClass = get_list_entry(x[[\"virus\"]][[\"lineage\"]][[\"name\"]][[5]]),\n",
    "    virusGenus = get_list_entry(x[[\"virus\"]][[\"lineage\"]][[\"name\"]][[6]]),\n",
    "    completeness = get_list_entry(x[[\"completeness\"]]),\n",
    "    geneCount = get_list_entry(x[[\"geneCount\"]]),\n",
    "    genomeSize = get_list_entry(x[[\"length\"]]),\n",
    "    geoLocation = get_list_entry(x[[\"location\"]][[\"geographicLocation\"]]),\n",
    "    geoRegion = get_list_entry(x[[\"location\"]][[\"geographicRegion\"]]),\n",
    "    labHost = get_list_entry(x[[\"labHost\"]])\n",
    "    )\n",
    "}\n",
    "report <- bind_rows(report)\n",
    "\n",
    "# Check accession numbers\n",
    "all(query$accession %in% report$accession)\n",
    "all(report$accession %in% query$accession)"
   ]
  },
  {
   "cell_type": "code",
   "execution_count": null,
   "id": "b542d937-c598-400e-91a5-ec6313ed9e3f",
   "metadata": {},
   "outputs": [],
   "source": [
    "## Add additional information\n",
    "\n",
    "# Read genomes\n",
    "genome <- readDNAStringSet(ncbi$genomic)\n",
    "names(genome) <- str_split(names(genome), ',',simplify=TRUE)[,1]\n",
    "\n",
    "# Mutate report\n",
    "report$key <- paste(report$accession, report$virusName)\n",
    "report$genomePresent <- names(genome) %in% report$key\n",
    "report$genomeIndex <- match(names(genome), report$key)"
   ]
  },
  {
   "cell_type": "code",
   "execution_count": null,
   "id": "7664f4f7-adfb-4a47-8470-703086cc09e2",
   "metadata": {},
   "outputs": [],
   "source": [
    "## Investigate report\n",
    "\n",
    "# Dimensions\n",
    "x <- table(report$genomePresent)\n",
    "message(paste0(\"Genomes present \\n\", \"True: \", x[[2]], \", False: \", x[[1]]))\n",
    "message(paste(ncol(report), \"Annotations\"))\n",
    "\n",
    "# View\n",
    "rbind(head(report,3), tail(report,3))\n",
    "\n",
    "# Check absence of NAs in important columns\n",
    "message(paste(\"Any missing accession:\", any(is.na(report$accession))))\n",
    "message(paste(\"Any missing virusName:\", any(is.na(report$virusName))))"
   ]
  },
  {
   "cell_type": "code",
   "execution_count": null,
   "id": "fe931349-7c64-4912-b7ee-250250154824",
   "metadata": {},
   "outputs": [],
   "source": [
    "## Save report\n",
    "write.table(report, genomes$overview, sep = \",\")"
   ]
  },
  {
   "cell_type": "code",
   "execution_count": null,
   "id": "1d7c4cd2-6e7c-4c1d-9861-f2df55d318e8",
   "metadata": {},
   "outputs": [],
   "source": [
    "## Format annotation to GTF\n",
    "gtf_fields <- c(\"accession\",\"gene-cds-name\", \"gene-cds-nuc-fasta-title\",\"gene-cds-nuc-fasta-seq-id\",\n",
    "                \"gene-cds-nuc-fasta-range-start\",\"gene-cds-nuc-fasta-range-stop\",\n",
    "                \"gene-cds-protein-fasta-accession\",\"gene-cds-protein-fasta-seq-id\",\"gene-cds-protein-fasta-title\"\n",
    "               )\n",
    "gtf_fields <- paste0(gtf_fields, collapse = \",\")\n",
    "system_call <- paste(\"dataformat tsv virus-annotation --fields\",gtf_fields,\"--inputfile\", ncbi$annotation_report, \">\", genomes$annotation)\n",
    "message(system_call)\n",
    "system(system_call)"
   ]
  },
  {
   "cell_type": "code",
   "execution_count": null,
   "id": "5d9dcd81-771b-4ba8-894e-84b7e70897e7",
   "metadata": {},
   "outputs": [],
   "source": [
    "sessionInfo()"
   ]
  }
 ],
 "metadata": {
  "kernelspec": {
   "display_name": "R",
   "language": "R",
   "name": "ir"
  },
  "language_info": {
   "codemirror_mode": "r",
   "file_extension": ".r",
   "mimetype": "text/x-r-source",
   "name": "R",
   "pygments_lexer": "r",
   "version": "4.0.5"
  }
 },
 "nbformat": 4,
 "nbformat_minor": 5
}
