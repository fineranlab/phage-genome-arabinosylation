{
 "cells": [
  {
   "cell_type": "code",
   "execution_count": 1,
   "id": "4e75a1a7-a63a-43b9-b87e-2a5b4bbb5895",
   "metadata": {},
   "outputs": [
    {
     "name": "stderr",
     "output_type": "stream",
     "text": [
      "\n",
      "Attaching package: ‘dplyr’\n",
      "\n",
      "\n",
      "The following objects are masked from ‘package:stats’:\n",
      "\n",
      "    filter, lag\n",
      "\n",
      "\n",
      "The following objects are masked from ‘package:base’:\n",
      "\n",
      "    intersect, setdiff, setequal, union\n",
      "\n",
      "\n",
      "Loading required package: BiocGenerics\n",
      "\n",
      "\n",
      "Attaching package: ‘BiocGenerics’\n",
      "\n",
      "\n",
      "The following objects are masked from ‘package:dplyr’:\n",
      "\n",
      "    combine, intersect, setdiff, union\n",
      "\n",
      "\n",
      "The following objects are masked from ‘package:stats’:\n",
      "\n",
      "    IQR, mad, sd, var, xtabs\n",
      "\n",
      "\n",
      "The following objects are masked from ‘package:base’:\n",
      "\n",
      "    anyDuplicated, aperm, append, as.data.frame, basename, cbind,\n",
      "    colnames, dirname, do.call, duplicated, eval, evalq, Filter, Find,\n",
      "    get, grep, grepl, intersect, is.unsorted, lapply, Map, mapply,\n",
      "    match, mget, order, paste, pmax, pmax.int, pmin, pmin.int,\n",
      "    Position, rank, rbind, Reduce, rownames, sapply, setdiff, sort,\n",
      "    table, tapply, union, unique, unsplit, which.max, which.min\n",
      "\n",
      "\n",
      "Loading required package: S4Vectors\n",
      "\n",
      "Loading required package: stats4\n",
      "\n",
      "\n",
      "Attaching package: ‘S4Vectors’\n",
      "\n",
      "\n",
      "The following object is masked from ‘package:tidyr’:\n",
      "\n",
      "    expand\n",
      "\n",
      "\n",
      "The following objects are masked from ‘package:dplyr’:\n",
      "\n",
      "    first, rename\n",
      "\n",
      "\n",
      "The following object is masked from ‘package:utils’:\n",
      "\n",
      "    findMatches\n",
      "\n",
      "\n",
      "The following objects are masked from ‘package:base’:\n",
      "\n",
      "    expand.grid, I, unname\n",
      "\n",
      "\n",
      "Loading required package: IRanges\n",
      "\n",
      "\n",
      "Attaching package: ‘IRanges’\n",
      "\n",
      "\n",
      "The following objects are masked from ‘package:dplyr’:\n",
      "\n",
      "    collapse, desc, slice\n",
      "\n",
      "\n",
      "Loading required package: XVector\n",
      "\n",
      "Loading required package: GenomeInfoDb\n",
      "\n",
      "\n",
      "Attaching package: ‘Biostrings’\n",
      "\n",
      "\n",
      "The following object is masked from ‘package:base’:\n",
      "\n",
      "    strsplit\n",
      "\n",
      "\n"
     ]
    }
   ],
   "source": [
    "## Load packages\n",
    "library(readxl)\n",
    "library(stringr)\n",
    "library(rentrez)\n",
    "library(dplyr)\n",
    "library(tidyr)\n",
    "library(jsonlite)"
   ]
  },
  {
   "cell_type": "code",
   "execution_count": 2,
   "id": "63528cb3-1567-4dcc-9666-c5edbd539be4",
   "metadata": {},
   "outputs": [
    {
     "data": {
      "text/html": [
       "'/home/dieol22p/arabinosylation-anti-CRISPR'"
      ],
      "text/latex": [
       "'/home/dieol22p/arabinosylation-anti-CRISPR'"
      ],
      "text/markdown": [
       "'/home/dieol22p/arabinosylation-anti-CRISPR'"
      ],
      "text/plain": [
       "[1] \"/home/dieol22p/arabinosylation-anti-CRISPR\""
      ]
     },
     "metadata": {},
     "output_type": "display_data"
    }
   ],
   "source": [
    "## Adjust PATH\n",
    "wd <- getwd()\n",
    "subdir <- \"/bin\" # should be 'scripts' if location is ./scripts/thisfile\n",
    "if (endsWith(wd, subdir)) {\n",
    "    wd <- str_remove(wd, subdir)\n",
    "    setwd(wd)\n",
    "}\n",
    "getwd()"
   ]
  },
  {
   "cell_type": "code",
   "execution_count": 3,
   "id": "6922ecc8-87c5-4470-b423-c40d6e1d3a58",
   "metadata": {},
   "outputs": [],
   "source": [
    "## Functions\n",
    "\n",
    "#' Get list entry and use NA for missing information\n",
    "#'\n",
    "#' Get entries from list entries and ignore missing information (e.g. NULL)\n",
    "#' as well as errors (e.g. missing columns in data.frame)\n",
    "#' \n",
    "get_list_entry <- function(x) {\n",
    "\n",
    "    x <- tryCatch(\n",
    "        error = function(cnd) NA, x\n",
    "    )\n",
    "\n",
    "    if (is.null(x)) {x <- NA}\n",
    "\n",
    "    return(x)\n",
    "}"
   ]
  },
  {
   "cell_type": "code",
   "execution_count": 4,
   "id": "a6766868-fd61-4bca-bcda-c555b55ea135",
   "metadata": {},
   "outputs": [
    {
     "name": "stderr",
     "output_type": "stream",
     "text": [
      "Warning message in dir.create(path, recursive = TRUE):\n",
      "“'data/phages' already exists”\n"
     ]
    }
   ],
   "source": [
    "# Define variables\n",
    "\n",
    "## Input files \n",
    "in_tables <- 'docs/supplementary-tables.xlsx'\n",
    "\n",
    "## Data storage\n",
    "path <- \"data/phages/\"\n",
    "dir.create(path, recursive = TRUE)\n",
    "genomes <- list(\n",
    "    accession = \"accession.txt\",\n",
    "    overview = \"overview.csv\",\n",
    "    annotation = \"annotation.gtf\",\n",
    "    zip = \"genomes.zip\",\n",
    "    archive = \"genomes/ncbi_dataset/data/\"\n",
    ")\n",
    "for (i in names(genomes)) {genomes[[i]] <- paste0(path, genomes[[i]])}"
   ]
  },
  {
   "cell_type": "code",
   "execution_count": 5,
   "id": "0cdc3ee1-abf6-4641-8854-6dd9dc177edf",
   "metadata": {},
   "outputs": [
    {
     "name": "stdout",
     "output_type": "stream",
     "text": [
      "[1] \"Reading table S4_phages\"\n",
      "[1] \"Reading table S7_phage-genomes\"\n",
      "[1] \"Reading table S1_bacteria\"\n",
      "[1] \"Reading table S5_TS-proteins\"\n",
      "[1] \"Reading table S6_ara-hC-transferases\"\n",
      "[1] \"Reading table S8_glucosylation-enzymes\"\n",
      "[1] \"Reading table S9_DNA-modification-enzymes\"\n"
     ]
    }
   ],
   "source": [
    "# Read data\n",
    "tables <- list()\n",
    "for (i in excel_sheets(in_tables)) {\n",
    "    print(paste('Reading table', i))\n",
    "    tables[[i]] <- read_excel(in_tables, sheet = i)\n",
    "    }"
   ]
  },
  {
   "cell_type": "code",
   "execution_count": 6,
   "id": "0fc02ed3-33e4-4c45-a16f-0d5bc3e5abf5",
   "metadata": {},
   "outputs": [
    {
     "data": {
      "text/html": [
       "'Missing accession IDs: FALSE'"
      ],
      "text/latex": [
       "'Missing accession IDs: FALSE'"
      ],
      "text/markdown": [
       "'Missing accession IDs: FALSE'"
      ],
      "text/plain": [
       "[1] \"Missing accession IDs: FALSE\""
      ]
     },
     "metadata": {},
     "output_type": "display_data"
    }
   ],
   "source": [
    "# Select phage genomes\n",
    "data <- tables$`S7_phage-genomes`\n",
    "\n",
    "## Check for missing IDs\n",
    "paste('Missing accession IDs:', any(is.na(data$accession)))"
   ]
  },
  {
   "cell_type": "code",
   "execution_count": 7,
   "id": "0cf3c9fa-6b53-41e4-a418-89ed6dcb24a7",
   "metadata": {},
   "outputs": [
    {
     "name": "stderr",
     "output_type": "stream",
     "text": [
      "Downloading 34 virus genomes\n",
      "\n"
     ]
    }
   ],
   "source": [
    "## Download phage genomes\n",
    "\n",
    "# Write accession numbers to file\n",
    "writeLines(data$accession, genomes$accession)\n",
    "\n",
    "# Query genomes using NCBI datasets CLI\n",
    "message(paste(\"Downloading\", length(data$accession), \"virus genomes\"))\n",
    "cli_call <- paste0(\"datasets download virus genome accession\")\n",
    "cli_call <- paste(c(cli_call, \"--inputfile\", genomes$accession, \"--filename\", genomes$zip, \n",
    "                    \"--include annotation,biosample,cds,genome,protein\"), collapse = \" \")\n",
    "system(cli_call)"
   ]
  },
  {
   "cell_type": "code",
   "execution_count": 8,
   "id": "f5b54200-500a-4e61-9541-563f024b9b46",
   "metadata": {},
   "outputs": [
    {
     "data": {
      "text/html": [
       "<dl>\n",
       "\t<dt>$annotation_report</dt>\n",
       "\t\t<dd>'data/phages/genomes/ncbi_dataset/data/annotation_report.jsonl'</dd>\n",
       "\t<dt>$biosample_report</dt>\n",
       "\t\t<dd>'data/phages/genomes/ncbi_dataset/data/biosample_report.jsonl'</dd>\n",
       "\t<dt>$cds</dt>\n",
       "\t\t<dd>'data/phages/genomes/ncbi_dataset/data/cds.fna'</dd>\n",
       "\t<dt>$data_report</dt>\n",
       "\t\t<dd>'data/phages/genomes/ncbi_dataset/data/data_report.jsonl'</dd>\n",
       "\t<dt>$dataset_catalog</dt>\n",
       "\t\t<dd>'data/phages/genomes/ncbi_dataset/data/dataset_catalog.json'</dd>\n",
       "\t<dt>$genomic</dt>\n",
       "\t\t<dd>'data/phages/genomes/ncbi_dataset/data/genomic.fna'</dd>\n",
       "\t<dt>$protein</dt>\n",
       "\t\t<dd>'data/phages/genomes/ncbi_dataset/data/protein.faa'</dd>\n",
       "\t<dt>$virus_dataset</dt>\n",
       "\t\t<dd>'data/phages/genomes/ncbi_dataset/data/virus_dataset.md'</dd>\n",
       "</dl>\n"
      ],
      "text/latex": [
       "\\begin{description}\n",
       "\\item[\\$annotation\\_report] 'data/phages/genomes/ncbi\\_dataset/data/annotation\\_report.jsonl'\n",
       "\\item[\\$biosample\\_report] 'data/phages/genomes/ncbi\\_dataset/data/biosample\\_report.jsonl'\n",
       "\\item[\\$cds] 'data/phages/genomes/ncbi\\_dataset/data/cds.fna'\n",
       "\\item[\\$data\\_report] 'data/phages/genomes/ncbi\\_dataset/data/data\\_report.jsonl'\n",
       "\\item[\\$dataset\\_catalog] 'data/phages/genomes/ncbi\\_dataset/data/dataset\\_catalog.json'\n",
       "\\item[\\$genomic] 'data/phages/genomes/ncbi\\_dataset/data/genomic.fna'\n",
       "\\item[\\$protein] 'data/phages/genomes/ncbi\\_dataset/data/protein.faa'\n",
       "\\item[\\$virus\\_dataset] 'data/phages/genomes/ncbi\\_dataset/data/virus\\_dataset.md'\n",
       "\\end{description}\n"
      ],
      "text/markdown": [
       "$annotation_report\n",
       ":   'data/phages/genomes/ncbi_dataset/data/annotation_report.jsonl'\n",
       "$biosample_report\n",
       ":   'data/phages/genomes/ncbi_dataset/data/biosample_report.jsonl'\n",
       "$cds\n",
       ":   'data/phages/genomes/ncbi_dataset/data/cds.fna'\n",
       "$data_report\n",
       ":   'data/phages/genomes/ncbi_dataset/data/data_report.jsonl'\n",
       "$dataset_catalog\n",
       ":   'data/phages/genomes/ncbi_dataset/data/dataset_catalog.json'\n",
       "$genomic\n",
       ":   'data/phages/genomes/ncbi_dataset/data/genomic.fna'\n",
       "$protein\n",
       ":   'data/phages/genomes/ncbi_dataset/data/protein.faa'\n",
       "$virus_dataset\n",
       ":   'data/phages/genomes/ncbi_dataset/data/virus_dataset.md'\n",
       "\n",
       "\n"
      ],
      "text/plain": [
       "$annotation_report\n",
       "[1] \"data/phages/genomes/ncbi_dataset/data/annotation_report.jsonl\"\n",
       "\n",
       "$biosample_report\n",
       "[1] \"data/phages/genomes/ncbi_dataset/data/biosample_report.jsonl\"\n",
       "\n",
       "$cds\n",
       "[1] \"data/phages/genomes/ncbi_dataset/data/cds.fna\"\n",
       "\n",
       "$data_report\n",
       "[1] \"data/phages/genomes/ncbi_dataset/data/data_report.jsonl\"\n",
       "\n",
       "$dataset_catalog\n",
       "[1] \"data/phages/genomes/ncbi_dataset/data/dataset_catalog.json\"\n",
       "\n",
       "$genomic\n",
       "[1] \"data/phages/genomes/ncbi_dataset/data/genomic.fna\"\n",
       "\n",
       "$protein\n",
       "[1] \"data/phages/genomes/ncbi_dataset/data/protein.faa\"\n",
       "\n",
       "$virus_dataset\n",
       "[1] \"data/phages/genomes/ncbi_dataset/data/virus_dataset.md\"\n"
      ]
     },
     "metadata": {},
     "output_type": "display_data"
    }
   ],
   "source": [
    "## Extract data\n",
    "unzip(genomes$zip, exdir = str_remove(genomes$zip, \".zip\"))\n",
    "ncbi <- list()\n",
    "for (i in list.files(genomes$archive)) {\n",
    "    j <- str_split(i, \"\\\\.\")[[1]][1]\n",
    "    ncbi[[j]] <- paste0(genomes$archive, i)\n",
    "}\n",
    "ncbi"
   ]
  },
  {
   "cell_type": "code",
   "execution_count": 9,
   "id": "6197a5e0-7266-473e-ae0b-8d12d5b2258f",
   "metadata": {},
   "outputs": [
    {
     "data": {
      "text/html": [
       "TRUE"
      ],
      "text/latex": [
       "TRUE"
      ],
      "text/markdown": [
       "TRUE"
      ],
      "text/plain": [
       "[1] TRUE"
      ]
     },
     "metadata": {},
     "output_type": "display_data"
    },
    {
     "data": {
      "text/html": [
       "TRUE"
      ],
      "text/latex": [
       "TRUE"
      ],
      "text/markdown": [
       "TRUE"
      ],
      "text/plain": [
       "[1] TRUE"
      ]
     },
     "metadata": {},
     "output_type": "display_data"
    }
   ],
   "source": [
    "## Investigate data report\n",
    "\n",
    "# Read data report\n",
    "report <- as.list(readLines(ncbi$data_report, skipNul = TRUE))\n",
    "report <- lapply(report, fromJSON)\n",
    "\n",
    "# Re-format\n",
    "for (n in 1:length(report)) {\n",
    "    x <- report[[n]]\n",
    "    report[[n]] <- data.frame(\n",
    "    accession = get_list_entry(x[[\"accession\"]]),\n",
    "    virusName = get_list_entry(x[[\"virus\"]][[\"organismName\"]]),\n",
    "    virusClass = get_list_entry(x[[\"virus\"]][[\"lineage\"]][[\"name\"]][[5]]),\n",
    "    virusGenus = get_list_entry(x[[\"virus\"]][[\"lineage\"]][[\"name\"]][[6]]),\n",
    "    completeness = get_list_entry(x[[\"completeness\"]]),\n",
    "    geneCount = get_list_entry(x[[\"geneCount\"]]),\n",
    "    genomeSize = get_list_entry(x[[\"length\"]]),\n",
    "    geoLocation = get_list_entry(x[[\"location\"]][[\"geographicLocation\"]]),\n",
    "    geoRegion = get_list_entry(x[[\"location\"]][[\"geographicRegion\"]]),\n",
    "    labHost = get_list_entry(x[[\"labHost\"]])\n",
    "    )\n",
    "}\n",
    "report <- bind_rows(report)\n",
    "\n",
    "# Check accession numbers\n",
    "all(data$accession %in% report$accession)\n",
    "all(report$accession %in% data$accession)"
   ]
  },
  {
   "cell_type": "code",
   "execution_count": 10,
   "id": "066c3efd-1894-46cf-bf63-0ff3d7eec851",
   "metadata": {},
   "outputs": [
    {
     "data": {
      "text/html": [
       "<table class=\"dataframe\">\n",
       "<caption>A data.frame: 34 × 10</caption>\n",
       "<thead>\n",
       "\t<tr><th scope=col>accession</th><th scope=col>virusName</th><th scope=col>virusClass</th><th scope=col>virusGenus</th><th scope=col>completeness</th><th scope=col>geneCount</th><th scope=col>genomeSize</th><th scope=col>geoLocation</th><th scope=col>geoRegion</th><th scope=col>labHost</th></tr>\n",
       "\t<tr><th scope=col>&lt;chr&gt;</th><th scope=col>&lt;chr&gt;</th><th scope=col>&lt;chr&gt;</th><th scope=col>&lt;chr&gt;</th><th scope=col>&lt;chr&gt;</th><th scope=col>&lt;int&gt;</th><th scope=col>&lt;int&gt;</th><th scope=col>&lt;chr&gt;</th><th scope=col>&lt;chr&gt;</th><th scope=col>&lt;chr&gt;</th></tr>\n",
       "</thead>\n",
       "<tbody>\n",
       "\t<tr><td>AF158101.6 </td><td>Escherichia phage T4                 </td><td>Caudoviricetes</td><td>Straboviridae              </td><td>COMPLETE</td><td>278</td><td>168903</td><td>NA                  </td><td>NA           </td><td>NA                       </td></tr>\n",
       "\t<tr><td>MK639187.1 </td><td>Shigella phage SSE1                  </td><td>Caudoviricetes</td><td>Straboviridae              </td><td>COMPLETE</td><td>266</td><td>169744</td><td>China               </td><td>Asia         </td><td>Shigella dysenteriae     </td></tr>\n",
       "\t<tr><td>MK962754.1 </td><td>Shigella phage JK36                  </td><td>Caudoviricetes</td><td>Straboviridae              </td><td>COMPLETE</td><td>280</td><td>168893</td><td>Ireland             </td><td>Europe       </td><td>Escherichia coli         </td></tr>\n",
       "\t<tr><td>MN334766.1 </td><td>Serratia phage PCH45                 </td><td>Caudoviricetes</td><td>unclassified Caudoviricetes</td><td>COMPLETE</td><td>225</td><td>212807</td><td>New Zealand: Dunedin</td><td>Oceania      </td><td>NA                       </td></tr>\n",
       "\t<tr><td>MN505213.1 </td><td>Serratia phage JS26                  </td><td>Caudoviricetes</td><td>Casjensviridae             </td><td>COMPLETE</td><td> 84</td><td> 63971</td><td>NA                  </td><td>NA           </td><td>NA                       </td></tr>\n",
       "\t<tr><td>MN662249.1 </td><td>Acinetobacter phage Stupor           </td><td>Caudoviricetes</td><td>Straboviridae              </td><td>COMPLETE</td><td>245</td><td>164309</td><td>Russia              </td><td>Europe       </td><td>NA                       </td></tr>\n",
       "\t<tr><td>MN850579.1 </td><td>Escherichia phage mogra              </td><td>Caudoviricetes</td><td>Straboviridae              </td><td>COMPLETE</td><td>266</td><td>168724</td><td>Denmark             </td><td>Europe       </td><td>NA                       </td></tr>\n",
       "\t<tr><td>MN850590.1 </td><td>Escherichia phage moha               </td><td>Caudoviricetes</td><td>Straboviridae              </td><td>COMPLETE</td><td>270</td><td>168676</td><td>Denmark             </td><td>Europe       </td><td>NA                       </td></tr>\n",
       "\t<tr><td>MN850622.1 </td><td>Escherichia phage mobillu            </td><td>Caudoviricetes</td><td>Straboviridae              </td><td>COMPLETE</td><td>260</td><td>163063</td><td>Denmark             </td><td>Europe       </td><td>NA                       </td></tr>\n",
       "\t<tr><td>MT385367.1 </td><td>Acinetobacter phage Abraxas          </td><td>Caudoviricetes</td><td>Straboviridae              </td><td>COMPLETE</td><td>249</td><td>166559</td><td>Russia              </td><td>Europe       </td><td>NA                       </td></tr>\n",
       "\t<tr><td>MT949699.1 </td><td>Acinetobacter phage Maestro          </td><td>Caudoviricetes</td><td>Straboviridae              </td><td>COMPLETE</td><td>271</td><td>169176</td><td>USA                 </td><td>North America</td><td>NA                       </td></tr>\n",
       "\t<tr><td>MT984581.1 </td><td>Escherichia phage T4                 </td><td>Caudoviricetes</td><td>Straboviridae              </td><td>COMPLETE</td><td>273</td><td>168908</td><td>Australia           </td><td>Oceania      </td><td>NA                       </td></tr>\n",
       "\t<tr><td>MW388001.1 </td><td>Acinetobacter phage Minot            </td><td>Caudoviricetes</td><td>Straboviridae              </td><td>COMPLETE</td><td>257</td><td>167029</td><td>USA: Navasota, TX   </td><td>North America</td><td>NA                       </td></tr>\n",
       "\t<tr><td>MZ348424.1 </td><td>Kosakonia phage Kc304                </td><td>Caudoviricetes</td><td>Straboviridae              </td><td>COMPLETE</td><td>272</td><td>171207</td><td>Czech Republic      </td><td>Europe       </td><td>Kosakonia cowanii Hamburg</td></tr>\n",
       "\t<tr><td>MZ501047.1 </td><td>Escherichia phage AlbertHofmann      </td><td>Caudoviricetes</td><td>Straboviridae              </td><td>COMPLETE</td><td>273</td><td>168968</td><td>Switzerland: Basel  </td><td>Europe       </td><td>NA                       </td></tr>\n",
       "\t<tr><td>MZ501056.1 </td><td>Escherichia phage ChristianSchoenbein</td><td>Caudoviricetes</td><td>Straboviridae              </td><td>COMPLETE</td><td>271</td><td>169031</td><td>Switzerland: Basel  </td><td>Europe       </td><td>NA                       </td></tr>\n",
       "\t<tr><td>NC_004928.1</td><td>Escherichia phage RB69               </td><td>Caudoviricetes</td><td>Straboviridae              </td><td>COMPLETE</td><td>275</td><td>167560</td><td>NA                  </td><td>NA           </td><td>Escherichia coli         </td></tr>\n",
       "\t<tr><td>NC_014260.1</td><td>Escherichia phage IME08              </td><td>Caudoviricetes</td><td>Straboviridae              </td><td>COMPLETE</td><td>273</td><td>172253</td><td>NA                  </td><td>NA           </td><td>NA                       </td></tr>\n",
       "\t<tr><td>NC_014661.1</td><td>Acinetobacter phage Acj61            </td><td>Caudoviricetes</td><td>Straboviridae              </td><td>COMPLETE</td><td>254</td><td>164093</td><td>NA                  </td><td>NA           </td><td>NA                       </td></tr>\n",
       "\t<tr><td>NC_028683.1</td><td>Edwardsiella phage PEi20             </td><td>Caudoviricetes</td><td>Straboviridae              </td><td>COMPLETE</td><td>305</td><td>177643</td><td>NA                  </td><td>NA           </td><td>NA                       </td></tr>\n",
       "\t<tr><td>NC_028820.1</td><td>Yersinia phage vB_YenM_TG1           </td><td>Caudoviricetes</td><td>Straboviridae              </td><td>COMPLETE</td><td>266</td><td>162101</td><td>Canada              </td><td>North America</td><td>NA                       </td></tr>\n",
       "\t<tr><td>NC_041996.1</td><td>Serratia phage CHI14                 </td><td>Caudoviricetes</td><td>Straboviridae              </td><td>COMPLETE</td><td>291</td><td>171175</td><td>United Kingdom      </td><td>Europe       </td><td>NA                       </td></tr>\n",
       "\t<tr><td>NC_049511.1</td><td>Acinetobacter phage AM101            </td><td>Caudoviricetes</td><td>Straboviridae              </td><td>COMPLETE</td><td>258</td><td>166487</td><td>Russia              </td><td>Europe       </td><td>NA                       </td></tr>\n",
       "\t<tr><td>NC_053012.1</td><td>Serratia phage JS26                  </td><td>Caudoviricetes</td><td>Casjensviridae             </td><td>COMPLETE</td><td> 84</td><td> 63971</td><td>NA                  </td><td>NA           </td><td>NA                       </td></tr>\n",
       "\t<tr><td>NC_054940.1</td><td>Shigella phage JK45                  </td><td>Caudoviricetes</td><td>Straboviridae              </td><td>COMPLETE</td><td>275</td><td>170740</td><td>Ireland             </td><td>Europe       </td><td>Escherichia coli DH5alpha</td></tr>\n",
       "\t<tr><td>NC_055721.1</td><td>Escherichia phage EcS1               </td><td>Caudoviricetes</td><td>Straboviridae              </td><td>COMPLETE</td><td>313</td><td>175437</td><td>Japan               </td><td>Asia         </td><td>Escherichia coli         </td></tr>\n",
       "\t<tr><td>NC_055727.1</td><td>Proteus phage PM2                    </td><td>Caudoviricetes</td><td>Straboviridae              </td><td>COMPLETE</td><td>267</td><td>163469</td><td>NA                  </td><td>NA           </td><td>NA                       </td></tr>\n",
       "\t<tr><td>NC_055728.1</td><td>Serratia phage X20                   </td><td>Caudoviricetes</td><td>Straboviridae              </td><td>COMPLETE</td><td>294</td><td>172450</td><td>United Kingdom      </td><td>Europe       </td><td>NA                       </td></tr>\n",
       "\t<tr><td>NC_055749.1</td><td>Escherichia phage SF                 </td><td>Caudoviricetes</td><td>Straboviridae              </td><td>COMPLETE</td><td>262</td><td>168695</td><td>Malaysia            </td><td>Asia         </td><td>NA                       </td></tr>\n",
       "\t<tr><td>OL770259.1 </td><td>Acinetobacter phage AB-Navy4         </td><td>Caudoviricetes</td><td>Straboviridae              </td><td>COMPLETE</td><td>254</td><td>166964</td><td>USA: Germantown, MD </td><td>North America</td><td>NA                       </td></tr>\n",
       "\t<tr><td>OL770309.1 </td><td>Erwinia phage Virsaitis27            </td><td>Caudoviricetes</td><td>Straboviridae              </td><td>COMPLETE</td><td>289</td><td>171269</td><td>Latvia              </td><td>Europe       </td><td>NA                       </td></tr>\n",
       "\t<tr><td>OP617331.1 </td><td>Serratia phage vB_SspM_LC53          </td><td>Caudoviricetes</td><td>Straboviridae              </td><td>COMPLETE</td><td>274</td><td>172075</td><td>New Zealand: Dunedin</td><td>Oceania      </td><td>NA                       </td></tr>\n",
       "\t<tr><td>OQ703618.1 </td><td>Escherichia phage GADS24             </td><td>Caudoviricetes</td><td>Straboviridae              </td><td>COMPLETE</td><td>265</td><td>168896</td><td>Saudi Arabia        </td><td>Asia         </td><td>NA                       </td></tr>\n",
       "\t<tr><td>OR088902.1 </td><td>Serratia phage 92A1                  </td><td>Caudoviricetes</td><td>Straboviridae              </td><td>COMPLETE</td><td>300</td><td>174432</td><td>NA                  </td><td>NA           </td><td>NA                       </td></tr>\n",
       "</tbody>\n",
       "</table>\n"
      ],
      "text/latex": [
       "A data.frame: 34 × 10\n",
       "\\begin{tabular}{llllllllll}\n",
       " accession & virusName & virusClass & virusGenus & completeness & geneCount & genomeSize & geoLocation & geoRegion & labHost\\\\\n",
       " <chr> & <chr> & <chr> & <chr> & <chr> & <int> & <int> & <chr> & <chr> & <chr>\\\\\n",
       "\\hline\n",
       "\t AF158101.6  & Escherichia phage T4                  & Caudoviricetes & Straboviridae               & COMPLETE & 278 & 168903 & NA                   & NA            & NA                       \\\\\n",
       "\t MK639187.1  & Shigella phage SSE1                   & Caudoviricetes & Straboviridae               & COMPLETE & 266 & 169744 & China                & Asia          & Shigella dysenteriae     \\\\\n",
       "\t MK962754.1  & Shigella phage JK36                   & Caudoviricetes & Straboviridae               & COMPLETE & 280 & 168893 & Ireland              & Europe        & Escherichia coli         \\\\\n",
       "\t MN334766.1  & Serratia phage PCH45                  & Caudoviricetes & unclassified Caudoviricetes & COMPLETE & 225 & 212807 & New Zealand: Dunedin & Oceania       & NA                       \\\\\n",
       "\t MN505213.1  & Serratia phage JS26                   & Caudoviricetes & Casjensviridae              & COMPLETE &  84 &  63971 & NA                   & NA            & NA                       \\\\\n",
       "\t MN662249.1  & Acinetobacter phage Stupor            & Caudoviricetes & Straboviridae               & COMPLETE & 245 & 164309 & Russia               & Europe        & NA                       \\\\\n",
       "\t MN850579.1  & Escherichia phage mogra               & Caudoviricetes & Straboviridae               & COMPLETE & 266 & 168724 & Denmark              & Europe        & NA                       \\\\\n",
       "\t MN850590.1  & Escherichia phage moha                & Caudoviricetes & Straboviridae               & COMPLETE & 270 & 168676 & Denmark              & Europe        & NA                       \\\\\n",
       "\t MN850622.1  & Escherichia phage mobillu             & Caudoviricetes & Straboviridae               & COMPLETE & 260 & 163063 & Denmark              & Europe        & NA                       \\\\\n",
       "\t MT385367.1  & Acinetobacter phage Abraxas           & Caudoviricetes & Straboviridae               & COMPLETE & 249 & 166559 & Russia               & Europe        & NA                       \\\\\n",
       "\t MT949699.1  & Acinetobacter phage Maestro           & Caudoviricetes & Straboviridae               & COMPLETE & 271 & 169176 & USA                  & North America & NA                       \\\\\n",
       "\t MT984581.1  & Escherichia phage T4                  & Caudoviricetes & Straboviridae               & COMPLETE & 273 & 168908 & Australia            & Oceania       & NA                       \\\\\n",
       "\t MW388001.1  & Acinetobacter phage Minot             & Caudoviricetes & Straboviridae               & COMPLETE & 257 & 167029 & USA: Navasota, TX    & North America & NA                       \\\\\n",
       "\t MZ348424.1  & Kosakonia phage Kc304                 & Caudoviricetes & Straboviridae               & COMPLETE & 272 & 171207 & Czech Republic       & Europe        & Kosakonia cowanii Hamburg\\\\\n",
       "\t MZ501047.1  & Escherichia phage AlbertHofmann       & Caudoviricetes & Straboviridae               & COMPLETE & 273 & 168968 & Switzerland: Basel   & Europe        & NA                       \\\\\n",
       "\t MZ501056.1  & Escherichia phage ChristianSchoenbein & Caudoviricetes & Straboviridae               & COMPLETE & 271 & 169031 & Switzerland: Basel   & Europe        & NA                       \\\\\n",
       "\t NC\\_004928.1 & Escherichia phage RB69                & Caudoviricetes & Straboviridae               & COMPLETE & 275 & 167560 & NA                   & NA            & Escherichia coli         \\\\\n",
       "\t NC\\_014260.1 & Escherichia phage IME08               & Caudoviricetes & Straboviridae               & COMPLETE & 273 & 172253 & NA                   & NA            & NA                       \\\\\n",
       "\t NC\\_014661.1 & Acinetobacter phage Acj61             & Caudoviricetes & Straboviridae               & COMPLETE & 254 & 164093 & NA                   & NA            & NA                       \\\\\n",
       "\t NC\\_028683.1 & Edwardsiella phage PEi20              & Caudoviricetes & Straboviridae               & COMPLETE & 305 & 177643 & NA                   & NA            & NA                       \\\\\n",
       "\t NC\\_028820.1 & Yersinia phage vB\\_YenM\\_TG1            & Caudoviricetes & Straboviridae               & COMPLETE & 266 & 162101 & Canada               & North America & NA                       \\\\\n",
       "\t NC\\_041996.1 & Serratia phage CHI14                  & Caudoviricetes & Straboviridae               & COMPLETE & 291 & 171175 & United Kingdom       & Europe        & NA                       \\\\\n",
       "\t NC\\_049511.1 & Acinetobacter phage AM101             & Caudoviricetes & Straboviridae               & COMPLETE & 258 & 166487 & Russia               & Europe        & NA                       \\\\\n",
       "\t NC\\_053012.1 & Serratia phage JS26                   & Caudoviricetes & Casjensviridae              & COMPLETE &  84 &  63971 & NA                   & NA            & NA                       \\\\\n",
       "\t NC\\_054940.1 & Shigella phage JK45                   & Caudoviricetes & Straboviridae               & COMPLETE & 275 & 170740 & Ireland              & Europe        & Escherichia coli DH5alpha\\\\\n",
       "\t NC\\_055721.1 & Escherichia phage EcS1                & Caudoviricetes & Straboviridae               & COMPLETE & 313 & 175437 & Japan                & Asia          & Escherichia coli         \\\\\n",
       "\t NC\\_055727.1 & Proteus phage PM2                     & Caudoviricetes & Straboviridae               & COMPLETE & 267 & 163469 & NA                   & NA            & NA                       \\\\\n",
       "\t NC\\_055728.1 & Serratia phage X20                    & Caudoviricetes & Straboviridae               & COMPLETE & 294 & 172450 & United Kingdom       & Europe        & NA                       \\\\\n",
       "\t NC\\_055749.1 & Escherichia phage SF                  & Caudoviricetes & Straboviridae               & COMPLETE & 262 & 168695 & Malaysia             & Asia          & NA                       \\\\\n",
       "\t OL770259.1  & Acinetobacter phage AB-Navy4          & Caudoviricetes & Straboviridae               & COMPLETE & 254 & 166964 & USA: Germantown, MD  & North America & NA                       \\\\\n",
       "\t OL770309.1  & Erwinia phage Virsaitis27             & Caudoviricetes & Straboviridae               & COMPLETE & 289 & 171269 & Latvia               & Europe        & NA                       \\\\\n",
       "\t OP617331.1  & Serratia phage vB\\_SspM\\_LC53           & Caudoviricetes & Straboviridae               & COMPLETE & 274 & 172075 & New Zealand: Dunedin & Oceania       & NA                       \\\\\n",
       "\t OQ703618.1  & Escherichia phage GADS24              & Caudoviricetes & Straboviridae               & COMPLETE & 265 & 168896 & Saudi Arabia         & Asia          & NA                       \\\\\n",
       "\t OR088902.1  & Serratia phage 92A1                   & Caudoviricetes & Straboviridae               & COMPLETE & 300 & 174432 & NA                   & NA            & NA                       \\\\\n",
       "\\end{tabular}\n"
      ],
      "text/markdown": [
       "\n",
       "A data.frame: 34 × 10\n",
       "\n",
       "| accession &lt;chr&gt; | virusName &lt;chr&gt; | virusClass &lt;chr&gt; | virusGenus &lt;chr&gt; | completeness &lt;chr&gt; | geneCount &lt;int&gt; | genomeSize &lt;int&gt; | geoLocation &lt;chr&gt; | geoRegion &lt;chr&gt; | labHost &lt;chr&gt; |\n",
       "|---|---|---|---|---|---|---|---|---|---|\n",
       "| AF158101.6  | Escherichia phage T4                  | Caudoviricetes | Straboviridae               | COMPLETE | 278 | 168903 | NA                   | NA            | NA                        |\n",
       "| MK639187.1  | Shigella phage SSE1                   | Caudoviricetes | Straboviridae               | COMPLETE | 266 | 169744 | China                | Asia          | Shigella dysenteriae      |\n",
       "| MK962754.1  | Shigella phage JK36                   | Caudoviricetes | Straboviridae               | COMPLETE | 280 | 168893 | Ireland              | Europe        | Escherichia coli          |\n",
       "| MN334766.1  | Serratia phage PCH45                  | Caudoviricetes | unclassified Caudoviricetes | COMPLETE | 225 | 212807 | New Zealand: Dunedin | Oceania       | NA                        |\n",
       "| MN505213.1  | Serratia phage JS26                   | Caudoviricetes | Casjensviridae              | COMPLETE |  84 |  63971 | NA                   | NA            | NA                        |\n",
       "| MN662249.1  | Acinetobacter phage Stupor            | Caudoviricetes | Straboviridae               | COMPLETE | 245 | 164309 | Russia               | Europe        | NA                        |\n",
       "| MN850579.1  | Escherichia phage mogra               | Caudoviricetes | Straboviridae               | COMPLETE | 266 | 168724 | Denmark              | Europe        | NA                        |\n",
       "| MN850590.1  | Escherichia phage moha                | Caudoviricetes | Straboviridae               | COMPLETE | 270 | 168676 | Denmark              | Europe        | NA                        |\n",
       "| MN850622.1  | Escherichia phage mobillu             | Caudoviricetes | Straboviridae               | COMPLETE | 260 | 163063 | Denmark              | Europe        | NA                        |\n",
       "| MT385367.1  | Acinetobacter phage Abraxas           | Caudoviricetes | Straboviridae               | COMPLETE | 249 | 166559 | Russia               | Europe        | NA                        |\n",
       "| MT949699.1  | Acinetobacter phage Maestro           | Caudoviricetes | Straboviridae               | COMPLETE | 271 | 169176 | USA                  | North America | NA                        |\n",
       "| MT984581.1  | Escherichia phage T4                  | Caudoviricetes | Straboviridae               | COMPLETE | 273 | 168908 | Australia            | Oceania       | NA                        |\n",
       "| MW388001.1  | Acinetobacter phage Minot             | Caudoviricetes | Straboviridae               | COMPLETE | 257 | 167029 | USA: Navasota, TX    | North America | NA                        |\n",
       "| MZ348424.1  | Kosakonia phage Kc304                 | Caudoviricetes | Straboviridae               | COMPLETE | 272 | 171207 | Czech Republic       | Europe        | Kosakonia cowanii Hamburg |\n",
       "| MZ501047.1  | Escherichia phage AlbertHofmann       | Caudoviricetes | Straboviridae               | COMPLETE | 273 | 168968 | Switzerland: Basel   | Europe        | NA                        |\n",
       "| MZ501056.1  | Escherichia phage ChristianSchoenbein | Caudoviricetes | Straboviridae               | COMPLETE | 271 | 169031 | Switzerland: Basel   | Europe        | NA                        |\n",
       "| NC_004928.1 | Escherichia phage RB69                | Caudoviricetes | Straboviridae               | COMPLETE | 275 | 167560 | NA                   | NA            | Escherichia coli          |\n",
       "| NC_014260.1 | Escherichia phage IME08               | Caudoviricetes | Straboviridae               | COMPLETE | 273 | 172253 | NA                   | NA            | NA                        |\n",
       "| NC_014661.1 | Acinetobacter phage Acj61             | Caudoviricetes | Straboviridae               | COMPLETE | 254 | 164093 | NA                   | NA            | NA                        |\n",
       "| NC_028683.1 | Edwardsiella phage PEi20              | Caudoviricetes | Straboviridae               | COMPLETE | 305 | 177643 | NA                   | NA            | NA                        |\n",
       "| NC_028820.1 | Yersinia phage vB_YenM_TG1            | Caudoviricetes | Straboviridae               | COMPLETE | 266 | 162101 | Canada               | North America | NA                        |\n",
       "| NC_041996.1 | Serratia phage CHI14                  | Caudoviricetes | Straboviridae               | COMPLETE | 291 | 171175 | United Kingdom       | Europe        | NA                        |\n",
       "| NC_049511.1 | Acinetobacter phage AM101             | Caudoviricetes | Straboviridae               | COMPLETE | 258 | 166487 | Russia               | Europe        | NA                        |\n",
       "| NC_053012.1 | Serratia phage JS26                   | Caudoviricetes | Casjensviridae              | COMPLETE |  84 |  63971 | NA                   | NA            | NA                        |\n",
       "| NC_054940.1 | Shigella phage JK45                   | Caudoviricetes | Straboviridae               | COMPLETE | 275 | 170740 | Ireland              | Europe        | Escherichia coli DH5alpha |\n",
       "| NC_055721.1 | Escherichia phage EcS1                | Caudoviricetes | Straboviridae               | COMPLETE | 313 | 175437 | Japan                | Asia          | Escherichia coli          |\n",
       "| NC_055727.1 | Proteus phage PM2                     | Caudoviricetes | Straboviridae               | COMPLETE | 267 | 163469 | NA                   | NA            | NA                        |\n",
       "| NC_055728.1 | Serratia phage X20                    | Caudoviricetes | Straboviridae               | COMPLETE | 294 | 172450 | United Kingdom       | Europe        | NA                        |\n",
       "| NC_055749.1 | Escherichia phage SF                  | Caudoviricetes | Straboviridae               | COMPLETE | 262 | 168695 | Malaysia             | Asia          | NA                        |\n",
       "| OL770259.1  | Acinetobacter phage AB-Navy4          | Caudoviricetes | Straboviridae               | COMPLETE | 254 | 166964 | USA: Germantown, MD  | North America | NA                        |\n",
       "| OL770309.1  | Erwinia phage Virsaitis27             | Caudoviricetes | Straboviridae               | COMPLETE | 289 | 171269 | Latvia               | Europe        | NA                        |\n",
       "| OP617331.1  | Serratia phage vB_SspM_LC53           | Caudoviricetes | Straboviridae               | COMPLETE | 274 | 172075 | New Zealand: Dunedin | Oceania       | NA                        |\n",
       "| OQ703618.1  | Escherichia phage GADS24              | Caudoviricetes | Straboviridae               | COMPLETE | 265 | 168896 | Saudi Arabia         | Asia          | NA                        |\n",
       "| OR088902.1  | Serratia phage 92A1                   | Caudoviricetes | Straboviridae               | COMPLETE | 300 | 174432 | NA                   | NA            | NA                        |\n",
       "\n"
      ],
      "text/plain": [
       "   accession   virusName                             virusClass    \n",
       "1  AF158101.6  Escherichia phage T4                  Caudoviricetes\n",
       "2  MK639187.1  Shigella phage SSE1                   Caudoviricetes\n",
       "3  MK962754.1  Shigella phage JK36                   Caudoviricetes\n",
       "4  MN334766.1  Serratia phage PCH45                  Caudoviricetes\n",
       "5  MN505213.1  Serratia phage JS26                   Caudoviricetes\n",
       "6  MN662249.1  Acinetobacter phage Stupor            Caudoviricetes\n",
       "7  MN850579.1  Escherichia phage mogra               Caudoviricetes\n",
       "8  MN850590.1  Escherichia phage moha                Caudoviricetes\n",
       "9  MN850622.1  Escherichia phage mobillu             Caudoviricetes\n",
       "10 MT385367.1  Acinetobacter phage Abraxas           Caudoviricetes\n",
       "11 MT949699.1  Acinetobacter phage Maestro           Caudoviricetes\n",
       "12 MT984581.1  Escherichia phage T4                  Caudoviricetes\n",
       "13 MW388001.1  Acinetobacter phage Minot             Caudoviricetes\n",
       "14 MZ348424.1  Kosakonia phage Kc304                 Caudoviricetes\n",
       "15 MZ501047.1  Escherichia phage AlbertHofmann       Caudoviricetes\n",
       "16 MZ501056.1  Escherichia phage ChristianSchoenbein Caudoviricetes\n",
       "17 NC_004928.1 Escherichia phage RB69                Caudoviricetes\n",
       "18 NC_014260.1 Escherichia phage IME08               Caudoviricetes\n",
       "19 NC_014661.1 Acinetobacter phage Acj61             Caudoviricetes\n",
       "20 NC_028683.1 Edwardsiella phage PEi20              Caudoviricetes\n",
       "21 NC_028820.1 Yersinia phage vB_YenM_TG1            Caudoviricetes\n",
       "22 NC_041996.1 Serratia phage CHI14                  Caudoviricetes\n",
       "23 NC_049511.1 Acinetobacter phage AM101             Caudoviricetes\n",
       "24 NC_053012.1 Serratia phage JS26                   Caudoviricetes\n",
       "25 NC_054940.1 Shigella phage JK45                   Caudoviricetes\n",
       "26 NC_055721.1 Escherichia phage EcS1                Caudoviricetes\n",
       "27 NC_055727.1 Proteus phage PM2                     Caudoviricetes\n",
       "28 NC_055728.1 Serratia phage X20                    Caudoviricetes\n",
       "29 NC_055749.1 Escherichia phage SF                  Caudoviricetes\n",
       "30 OL770259.1  Acinetobacter phage AB-Navy4          Caudoviricetes\n",
       "31 OL770309.1  Erwinia phage Virsaitis27             Caudoviricetes\n",
       "32 OP617331.1  Serratia phage vB_SspM_LC53           Caudoviricetes\n",
       "33 OQ703618.1  Escherichia phage GADS24              Caudoviricetes\n",
       "34 OR088902.1  Serratia phage 92A1                   Caudoviricetes\n",
       "   virusGenus                  completeness geneCount genomeSize\n",
       "1  Straboviridae               COMPLETE     278       168903    \n",
       "2  Straboviridae               COMPLETE     266       169744    \n",
       "3  Straboviridae               COMPLETE     280       168893    \n",
       "4  unclassified Caudoviricetes COMPLETE     225       212807    \n",
       "5  Casjensviridae              COMPLETE      84        63971    \n",
       "6  Straboviridae               COMPLETE     245       164309    \n",
       "7  Straboviridae               COMPLETE     266       168724    \n",
       "8  Straboviridae               COMPLETE     270       168676    \n",
       "9  Straboviridae               COMPLETE     260       163063    \n",
       "10 Straboviridae               COMPLETE     249       166559    \n",
       "11 Straboviridae               COMPLETE     271       169176    \n",
       "12 Straboviridae               COMPLETE     273       168908    \n",
       "13 Straboviridae               COMPLETE     257       167029    \n",
       "14 Straboviridae               COMPLETE     272       171207    \n",
       "15 Straboviridae               COMPLETE     273       168968    \n",
       "16 Straboviridae               COMPLETE     271       169031    \n",
       "17 Straboviridae               COMPLETE     275       167560    \n",
       "18 Straboviridae               COMPLETE     273       172253    \n",
       "19 Straboviridae               COMPLETE     254       164093    \n",
       "20 Straboviridae               COMPLETE     305       177643    \n",
       "21 Straboviridae               COMPLETE     266       162101    \n",
       "22 Straboviridae               COMPLETE     291       171175    \n",
       "23 Straboviridae               COMPLETE     258       166487    \n",
       "24 Casjensviridae              COMPLETE      84        63971    \n",
       "25 Straboviridae               COMPLETE     275       170740    \n",
       "26 Straboviridae               COMPLETE     313       175437    \n",
       "27 Straboviridae               COMPLETE     267       163469    \n",
       "28 Straboviridae               COMPLETE     294       172450    \n",
       "29 Straboviridae               COMPLETE     262       168695    \n",
       "30 Straboviridae               COMPLETE     254       166964    \n",
       "31 Straboviridae               COMPLETE     289       171269    \n",
       "32 Straboviridae               COMPLETE     274       172075    \n",
       "33 Straboviridae               COMPLETE     265       168896    \n",
       "34 Straboviridae               COMPLETE     300       174432    \n",
       "   geoLocation          geoRegion     labHost                  \n",
       "1  NA                   NA            NA                       \n",
       "2  China                Asia          Shigella dysenteriae     \n",
       "3  Ireland              Europe        Escherichia coli         \n",
       "4  New Zealand: Dunedin Oceania       NA                       \n",
       "5  NA                   NA            NA                       \n",
       "6  Russia               Europe        NA                       \n",
       "7  Denmark              Europe        NA                       \n",
       "8  Denmark              Europe        NA                       \n",
       "9  Denmark              Europe        NA                       \n",
       "10 Russia               Europe        NA                       \n",
       "11 USA                  North America NA                       \n",
       "12 Australia            Oceania       NA                       \n",
       "13 USA: Navasota, TX    North America NA                       \n",
       "14 Czech Republic       Europe        Kosakonia cowanii Hamburg\n",
       "15 Switzerland: Basel   Europe        NA                       \n",
       "16 Switzerland: Basel   Europe        NA                       \n",
       "17 NA                   NA            Escherichia coli         \n",
       "18 NA                   NA            NA                       \n",
       "19 NA                   NA            NA                       \n",
       "20 NA                   NA            NA                       \n",
       "21 Canada               North America NA                       \n",
       "22 United Kingdom       Europe        NA                       \n",
       "23 Russia               Europe        NA                       \n",
       "24 NA                   NA            NA                       \n",
       "25 Ireland              Europe        Escherichia coli DH5alpha\n",
       "26 Japan                Asia          Escherichia coli         \n",
       "27 NA                   NA            NA                       \n",
       "28 United Kingdom       Europe        NA                       \n",
       "29 Malaysia             Asia          NA                       \n",
       "30 USA: Germantown, MD  North America NA                       \n",
       "31 Latvia               Europe        NA                       \n",
       "32 New Zealand: Dunedin Oceania       NA                       \n",
       "33 Saudi Arabia         Asia          NA                       \n",
       "34 NA                   NA            NA                       "
      ]
     },
     "metadata": {},
     "output_type": "display_data"
    }
   ],
   "source": [
    "report"
   ]
  },
  {
   "cell_type": "code",
   "execution_count": 11,
   "id": "b542d937-c598-400e-91a5-ec6313ed9e3f",
   "metadata": {},
   "outputs": [],
   "source": [
    "## Add additional information\n",
    "\n",
    "# Read genomes\n",
    "genome <- readDNAStringSet(ncbi$genomic)\n",
    "names(genome) <- str_split(names(genome), ',',simplify=TRUE)[,1]\n",
    "\n",
    "# Mutate report\n",
    "report$key <- paste(report$accession, report$virusName)\n",
    "report$genomePresent <- names(genome) %in% report$key\n",
    "report$genomeIndex <- match(names(genome), report$key)"
   ]
  },
  {
   "cell_type": "code",
   "execution_count": 12,
   "id": "00369d33-7905-4293-907d-5c69f1f71cb7",
   "metadata": {},
   "outputs": [
    {
     "data": {
      "text/plain": [
       "x\n",
       "TRUE \n",
       "  34 "
      ]
     },
     "metadata": {},
     "output_type": "display_data"
    },
    {
     "data": {
      "text/html": [],
      "text/latex": [],
      "text/markdown": [],
      "text/plain": [
       "character(0)"
      ]
     },
     "metadata": {},
     "output_type": "display_data"
    }
   ],
   "source": [
    "## Investigate report\n",
    "x <- data$accession %in% report$accession\n",
    "table(x)\n",
    "data$accession[!x]"
   ]
  },
  {
   "cell_type": "code",
   "execution_count": 13,
   "id": "7664f4f7-adfb-4a47-8470-703086cc09e2",
   "metadata": {},
   "outputs": [
    {
     "name": "stderr",
     "output_type": "stream",
     "text": [
      "Genomes present \n",
      "True: 30, False: 4\n",
      "\n",
      "13 Annotations\n",
      "\n"
     ]
    },
    {
     "data": {
      "text/html": [
       "<table class=\"dataframe\">\n",
       "<caption>A data.frame: 6 × 13</caption>\n",
       "<thead>\n",
       "\t<tr><th></th><th scope=col>accession</th><th scope=col>virusName</th><th scope=col>virusClass</th><th scope=col>virusGenus</th><th scope=col>completeness</th><th scope=col>geneCount</th><th scope=col>genomeSize</th><th scope=col>geoLocation</th><th scope=col>geoRegion</th><th scope=col>labHost</th><th scope=col>key</th><th scope=col>genomePresent</th><th scope=col>genomeIndex</th></tr>\n",
       "\t<tr><th></th><th scope=col>&lt;chr&gt;</th><th scope=col>&lt;chr&gt;</th><th scope=col>&lt;chr&gt;</th><th scope=col>&lt;chr&gt;</th><th scope=col>&lt;chr&gt;</th><th scope=col>&lt;int&gt;</th><th scope=col>&lt;int&gt;</th><th scope=col>&lt;chr&gt;</th><th scope=col>&lt;chr&gt;</th><th scope=col>&lt;chr&gt;</th><th scope=col>&lt;chr&gt;</th><th scope=col>&lt;lgl&gt;</th><th scope=col>&lt;int&gt;</th></tr>\n",
       "</thead>\n",
       "<tbody>\n",
       "\t<tr><th scope=row>1</th><td>AF158101.6</td><td>Escherichia phage T4       </td><td>Caudoviricetes</td><td>Straboviridae</td><td>COMPLETE</td><td>278</td><td>168903</td><td>NA                  </td><td>NA     </td><td>NA                  </td><td>AF158101.6 Escherichia phage T4       </td><td>TRUE</td><td> 1</td></tr>\n",
       "\t<tr><th scope=row>2</th><td>MK639187.1</td><td>Shigella phage SSE1        </td><td>Caudoviricetes</td><td>Straboviridae</td><td>COMPLETE</td><td>266</td><td>169744</td><td>China               </td><td>Asia   </td><td>Shigella dysenteriae</td><td>MK639187.1 Shigella phage SSE1        </td><td>TRUE</td><td> 2</td></tr>\n",
       "\t<tr><th scope=row>3</th><td>MK962754.1</td><td>Shigella phage JK36        </td><td>Caudoviricetes</td><td>Straboviridae</td><td>COMPLETE</td><td>280</td><td>168893</td><td>Ireland             </td><td>Europe </td><td>Escherichia coli    </td><td>MK962754.1 Shigella phage JK36        </td><td>TRUE</td><td> 3</td></tr>\n",
       "\t<tr><th scope=row>32</th><td>OP617331.1</td><td>Serratia phage vB_SspM_LC53</td><td>Caudoviricetes</td><td>Straboviridae</td><td>COMPLETE</td><td>274</td><td>172075</td><td>New Zealand: Dunedin</td><td>Oceania</td><td>NA                  </td><td>OP617331.1 Serratia phage vB_SspM_LC53</td><td>TRUE</td><td>32</td></tr>\n",
       "\t<tr><th scope=row>33</th><td>OQ703618.1</td><td>Escherichia phage GADS24   </td><td>Caudoviricetes</td><td>Straboviridae</td><td>COMPLETE</td><td>265</td><td>168896</td><td>Saudi Arabia        </td><td>Asia   </td><td>NA                  </td><td>OQ703618.1 Escherichia phage GADS24   </td><td>TRUE</td><td>33</td></tr>\n",
       "\t<tr><th scope=row>34</th><td>OR088902.1</td><td>Serratia phage 92A1        </td><td>Caudoviricetes</td><td>Straboviridae</td><td>COMPLETE</td><td>300</td><td>174432</td><td>NA                  </td><td>NA     </td><td>NA                  </td><td>OR088902.1 Serratia phage 92A1        </td><td>TRUE</td><td>34</td></tr>\n",
       "</tbody>\n",
       "</table>\n"
      ],
      "text/latex": [
       "A data.frame: 6 × 13\n",
       "\\begin{tabular}{r|lllllllllllll}\n",
       "  & accession & virusName & virusClass & virusGenus & completeness & geneCount & genomeSize & geoLocation & geoRegion & labHost & key & genomePresent & genomeIndex\\\\\n",
       "  & <chr> & <chr> & <chr> & <chr> & <chr> & <int> & <int> & <chr> & <chr> & <chr> & <chr> & <lgl> & <int>\\\\\n",
       "\\hline\n",
       "\t1 & AF158101.6 & Escherichia phage T4        & Caudoviricetes & Straboviridae & COMPLETE & 278 & 168903 & NA                   & NA      & NA                   & AF158101.6 Escherichia phage T4        & TRUE &  1\\\\\n",
       "\t2 & MK639187.1 & Shigella phage SSE1         & Caudoviricetes & Straboviridae & COMPLETE & 266 & 169744 & China                & Asia    & Shigella dysenteriae & MK639187.1 Shigella phage SSE1         & TRUE &  2\\\\\n",
       "\t3 & MK962754.1 & Shigella phage JK36         & Caudoviricetes & Straboviridae & COMPLETE & 280 & 168893 & Ireland              & Europe  & Escherichia coli     & MK962754.1 Shigella phage JK36         & TRUE &  3\\\\\n",
       "\t32 & OP617331.1 & Serratia phage vB\\_SspM\\_LC53 & Caudoviricetes & Straboviridae & COMPLETE & 274 & 172075 & New Zealand: Dunedin & Oceania & NA                   & OP617331.1 Serratia phage vB\\_SspM\\_LC53 & TRUE & 32\\\\\n",
       "\t33 & OQ703618.1 & Escherichia phage GADS24    & Caudoviricetes & Straboviridae & COMPLETE & 265 & 168896 & Saudi Arabia         & Asia    & NA                   & OQ703618.1 Escherichia phage GADS24    & TRUE & 33\\\\\n",
       "\t34 & OR088902.1 & Serratia phage 92A1         & Caudoviricetes & Straboviridae & COMPLETE & 300 & 174432 & NA                   & NA      & NA                   & OR088902.1 Serratia phage 92A1         & TRUE & 34\\\\\n",
       "\\end{tabular}\n"
      ],
      "text/markdown": [
       "\n",
       "A data.frame: 6 × 13\n",
       "\n",
       "| <!--/--> | accession &lt;chr&gt; | virusName &lt;chr&gt; | virusClass &lt;chr&gt; | virusGenus &lt;chr&gt; | completeness &lt;chr&gt; | geneCount &lt;int&gt; | genomeSize &lt;int&gt; | geoLocation &lt;chr&gt; | geoRegion &lt;chr&gt; | labHost &lt;chr&gt; | key &lt;chr&gt; | genomePresent &lt;lgl&gt; | genomeIndex &lt;int&gt; |\n",
       "|---|---|---|---|---|---|---|---|---|---|---|---|---|---|\n",
       "| 1 | AF158101.6 | Escherichia phage T4        | Caudoviricetes | Straboviridae | COMPLETE | 278 | 168903 | NA                   | NA      | NA                   | AF158101.6 Escherichia phage T4        | TRUE |  1 |\n",
       "| 2 | MK639187.1 | Shigella phage SSE1         | Caudoviricetes | Straboviridae | COMPLETE | 266 | 169744 | China                | Asia    | Shigella dysenteriae | MK639187.1 Shigella phage SSE1         | TRUE |  2 |\n",
       "| 3 | MK962754.1 | Shigella phage JK36         | Caudoviricetes | Straboviridae | COMPLETE | 280 | 168893 | Ireland              | Europe  | Escherichia coli     | MK962754.1 Shigella phage JK36         | TRUE |  3 |\n",
       "| 32 | OP617331.1 | Serratia phage vB_SspM_LC53 | Caudoviricetes | Straboviridae | COMPLETE | 274 | 172075 | New Zealand: Dunedin | Oceania | NA                   | OP617331.1 Serratia phage vB_SspM_LC53 | TRUE | 32 |\n",
       "| 33 | OQ703618.1 | Escherichia phage GADS24    | Caudoviricetes | Straboviridae | COMPLETE | 265 | 168896 | Saudi Arabia         | Asia    | NA                   | OQ703618.1 Escherichia phage GADS24    | TRUE | 33 |\n",
       "| 34 | OR088902.1 | Serratia phage 92A1         | Caudoviricetes | Straboviridae | COMPLETE | 300 | 174432 | NA                   | NA      | NA                   | OR088902.1 Serratia phage 92A1         | TRUE | 34 |\n",
       "\n"
      ],
      "text/plain": [
       "   accession  virusName                   virusClass     virusGenus   \n",
       "1  AF158101.6 Escherichia phage T4        Caudoviricetes Straboviridae\n",
       "2  MK639187.1 Shigella phage SSE1         Caudoviricetes Straboviridae\n",
       "3  MK962754.1 Shigella phage JK36         Caudoviricetes Straboviridae\n",
       "32 OP617331.1 Serratia phage vB_SspM_LC53 Caudoviricetes Straboviridae\n",
       "33 OQ703618.1 Escherichia phage GADS24    Caudoviricetes Straboviridae\n",
       "34 OR088902.1 Serratia phage 92A1         Caudoviricetes Straboviridae\n",
       "   completeness geneCount genomeSize geoLocation          geoRegion\n",
       "1  COMPLETE     278       168903     NA                   NA       \n",
       "2  COMPLETE     266       169744     China                Asia     \n",
       "3  COMPLETE     280       168893     Ireland              Europe   \n",
       "32 COMPLETE     274       172075     New Zealand: Dunedin Oceania  \n",
       "33 COMPLETE     265       168896     Saudi Arabia         Asia     \n",
       "34 COMPLETE     300       174432     NA                   NA       \n",
       "   labHost              key                                    genomePresent\n",
       "1  NA                   AF158101.6 Escherichia phage T4        TRUE         \n",
       "2  Shigella dysenteriae MK639187.1 Shigella phage SSE1         TRUE         \n",
       "3  Escherichia coli     MK962754.1 Shigella phage JK36         TRUE         \n",
       "32 NA                   OP617331.1 Serratia phage vB_SspM_LC53 TRUE         \n",
       "33 NA                   OQ703618.1 Escherichia phage GADS24    TRUE         \n",
       "34 NA                   OR088902.1 Serratia phage 92A1         TRUE         \n",
       "   genomeIndex\n",
       "1   1         \n",
       "2   2         \n",
       "3   3         \n",
       "32 32         \n",
       "33 33         \n",
       "34 34         "
      ]
     },
     "metadata": {},
     "output_type": "display_data"
    },
    {
     "name": "stderr",
     "output_type": "stream",
     "text": [
      "Any missing accession: FALSE\n",
      "\n",
      "Any missing virusName: FALSE\n",
      "\n"
     ]
    }
   ],
   "source": [
    "## Investigate report\n",
    "\n",
    "# Dimensions\n",
    "x <- table(report$genomePresent)\n",
    "message(paste0(\"Genomes present \\n\", \"True: \", x[[2]], \", False: \", x[[1]]))\n",
    "message(paste(ncol(report), \"Annotations\"))\n",
    "\n",
    "# View\n",
    "rbind(head(report,3), tail(report,3))\n",
    "\n",
    "# Check absence of NAs in important columns\n",
    "message(paste(\"Any missing accession:\", any(is.na(report$accession))))\n",
    "message(paste(\"Any missing virusName:\", any(is.na(report$virusName))))"
   ]
  },
  {
   "cell_type": "code",
   "execution_count": 17,
   "id": "fe931349-7c64-4912-b7ee-250250154824",
   "metadata": {},
   "outputs": [],
   "source": [
    "## Save report\n",
    "write.table(report, genomes$overview, sep = \",\")"
   ]
  },
  {
   "cell_type": "code",
   "execution_count": 18,
   "id": "1d7c4cd2-6e7c-4c1d-9861-f2df55d318e8",
   "metadata": {},
   "outputs": [
    {
     "name": "stderr",
     "output_type": "stream",
     "text": [
      "dataformat tsv virus-annotation --fields accession,gene-cds-name,gene-cds-nuc-fasta-title,gene-cds-nuc-fasta-seq-id,gene-cds-nuc-fasta-range-start,gene-cds-nuc-fasta-range-stop,gene-cds-protein-fasta-accession,gene-cds-protein-fasta-seq-id,gene-cds-protein-fasta-title --inputfile data/phages/genomes/ncbi_dataset/data/annotation_report.jsonl > data/phages/annotation.gtf\n",
      "\n"
     ]
    }
   ],
   "source": [
    "## Format annotation to GTF\n",
    "gtf_fields <- c(\"accession\",\"gene-cds-name\", \"gene-cds-nuc-fasta-title\",\"gene-cds-nuc-fasta-seq-id\",\n",
    "                \"gene-cds-nuc-fasta-range-start\",\"gene-cds-nuc-fasta-range-stop\",\n",
    "                \"gene-cds-protein-fasta-accession\",\"gene-cds-protein-fasta-seq-id\",\"gene-cds-protein-fasta-title\"\n",
    "               )\n",
    "gtf_fields <- paste0(gtf_fields, collapse = \",\")\n",
    "system_call <- paste(\"dataformat tsv virus-annotation --fields\",gtf_fields,\"--inputfile\", ncbi$annotation_report, \">\", genomes$annotation)\n",
    "message(system_call)\n",
    "system(system_call)"
   ]
  },
  {
   "cell_type": "code",
   "execution_count": 19,
   "id": "5d9dcd81-771b-4ba8-894e-84b7e70897e7",
   "metadata": {},
   "outputs": [
    {
     "data": {
      "text/plain": [
       "R version 4.3.3 (2024-02-29)\n",
       "Platform: x86_64-conda-linux-gnu (64-bit)\n",
       "Running under: Rocky Linux 9.2 (Blue Onyx)\n",
       "\n",
       "Matrix products: default\n",
       "BLAS/LAPACK: /home/dieol22p/miniconda3/envs/arabinosylation-anti-crispr/lib/libopenblasp-r0.3.28.so;  LAPACK version 3.12.0\n",
       "\n",
       "locale:\n",
       " [1] LC_CTYPE=en_US.UTF-8       LC_NUMERIC=C              \n",
       " [3] LC_TIME=en_US.UTF-8        LC_COLLATE=en_US.UTF-8    \n",
       " [5] LC_MONETARY=en_US.UTF-8    LC_MESSAGES=en_US.UTF-8   \n",
       " [7] LC_PAPER=en_US.UTF-8       LC_NAME=C                 \n",
       " [9] LC_ADDRESS=C               LC_TELEPHONE=C            \n",
       "[11] LC_MEASUREMENT=en_US.UTF-8 LC_IDENTIFICATION=C       \n",
       "\n",
       "time zone: Pacific/Auckland\n",
       "tzcode source: system (glibc)\n",
       "\n",
       "attached base packages:\n",
       "[1] stats4    stats     graphics  grDevices utils     datasets  methods  \n",
       "[8] base     \n",
       "\n",
       "other attached packages:\n",
       " [1] Biostrings_2.70.1   GenomeInfoDb_1.38.1 XVector_0.42.0     \n",
       " [4] IRanges_2.36.0      S4Vectors_0.40.2    BiocGenerics_0.48.1\n",
       " [7] jsonlite_1.8.9      tidyr_1.3.1         dplyr_1.1.4        \n",
       "[10] rentrez_1.2.3       stringr_1.5.1       readxl_1.4.3       \n",
       "\n",
       "loaded via a namespace (and not attached):\n",
       " [1] compiler_4.3.3          crayon_1.5.3            tidyselect_1.2.1       \n",
       " [4] IRdisplay_1.1           bitops_1.0-9            uuid_1.2-1             \n",
       " [7] fastmap_1.2.0           IRkernel_1.3.2          R6_2.5.1               \n",
       "[10] generics_0.1.3          XML_3.99-0.17           tibble_3.2.1           \n",
       "[13] GenomeInfoDbData_1.2.11 pillar_1.9.0            rlang_1.1.4            \n",
       "[16] utf8_1.2.4              stringi_1.8.4           repr_1.1.7             \n",
       "[19] cli_3.6.3               magrittr_2.0.3          zlibbioc_1.48.0        \n",
       "[22] digest_0.6.37           base64enc_0.1-3         pbdZMQ_0.3-13          \n",
       "[25] lifecycle_1.0.4         vctrs_0.6.5             evaluate_1.0.1         \n",
       "[28] glue_1.8.0              cellranger_1.1.0        RCurl_1.98-1.16        \n",
       "[31] fansi_1.0.6             purrr_1.0.2             tools_4.3.3            \n",
       "[34] pkgconfig_2.0.3         htmltools_0.5.8.1      "
      ]
     },
     "metadata": {},
     "output_type": "display_data"
    }
   ],
   "source": [
    "sessionInfo()"
   ]
  }
 ],
 "metadata": {
  "kernelspec": {
   "display_name": "R",
   "language": "R",
   "name": "ir"
  },
  "language_info": {
   "codemirror_mode": "r",
   "file_extension": ".r",
   "mimetype": "text/x-r-source",
   "name": "R",
   "pygments_lexer": "r",
   "version": "4.3.3"
  }
 },
 "nbformat": 4,
 "nbformat_minor": 5
}
